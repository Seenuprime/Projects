{
  "nbformat": 4,
  "nbformat_minor": 0,
  "metadata": {
    "colab": {
      "provenance": [],
      "authorship_tag": "ABX9TyM7TwhTN7Mw1L0I4sTeB+YK",
      "include_colab_link": true
    },
    "kernelspec": {
      "name": "python3",
      "display_name": "Python 3"
    },
    "language_info": {
      "name": "python"
    }
  },
  "cells": [
    {
      "cell_type": "markdown",
      "metadata": {
        "id": "view-in-github",
        "colab_type": "text"
      },
      "source": [
        "<a href=\"https://colab.research.google.com/github/Seenuprime/Projects/blob/main/Language_Identification.ipynb\" target=\"_parent\"><img src=\"https://colab.research.google.com/assets/colab-badge.svg\" alt=\"Open In Colab\"/></a>"
      ]
    },
    {
      "cell_type": "code",
      "execution_count": 1,
      "metadata": {
        "id": "Jk6v3Yze-yZy"
      },
      "outputs": [],
      "source": [
        "import pandas as pd"
      ]
    },
    {
      "cell_type": "code",
      "source": [
        "!kaggle datasets download -d basilb2s/language-detection"
      ],
      "metadata": {
        "colab": {
          "base_uri": "https://localhost:8080/"
        },
        "id": "w0dkgfct-0V5",
        "outputId": "48669a16-6768-4e07-e317-28aef14bb9ba"
      },
      "execution_count": 2,
      "outputs": [
        {
          "output_type": "stream",
          "name": "stdout",
          "text": [
            "Dataset URL: https://www.kaggle.com/datasets/basilb2s/language-detection\n",
            "License(s): CC0-1.0\n",
            "language-detection.zip: Skipping, found more recently modified local copy (use --force to force download)\n"
          ]
        }
      ]
    },
    {
      "cell_type": "code",
      "source": [
        "import zipfile\n",
        "zip_file = zipfile.ZipFile('language-detection.zip')\n",
        "zip_file.extractall()\n",
        "zip_file.close()"
      ],
      "metadata": {
        "collapsed": true,
        "id": "_mvQp65x-6u3"
      },
      "execution_count": 3,
      "outputs": []
    },
    {
      "cell_type": "code",
      "source": [
        "dataset = pd.read_csv('Language Detection.csv')\n",
        "dataset.head()"
      ],
      "metadata": {
        "colab": {
          "base_uri": "https://localhost:8080/",
          "height": 206
        },
        "id": "uYyQqyIJ_Kk0",
        "outputId": "94816705-3704-442c-9b9a-27c613068d21"
      },
      "execution_count": 4,
      "outputs": [
        {
          "output_type": "execute_result",
          "data": {
            "text/plain": [
              "                                                Text Language\n",
              "0   Nature, in the broadest sense, is the natural...  English\n",
              "1  \"Nature\" can refer to the phenomena of the phy...  English\n",
              "2  The study of nature is a large, if not the onl...  English\n",
              "3  Although humans are part of nature, human acti...  English\n",
              "4  [1] The word nature is borrowed from the Old F...  English"
            ],
            "text/html": [
              "\n",
              "  <div id=\"df-09436bbb-fa2f-42cc-ab74-461eb7acba8c\" class=\"colab-df-container\">\n",
              "    <div>\n",
              "<style scoped>\n",
              "    .dataframe tbody tr th:only-of-type {\n",
              "        vertical-align: middle;\n",
              "    }\n",
              "\n",
              "    .dataframe tbody tr th {\n",
              "        vertical-align: top;\n",
              "    }\n",
              "\n",
              "    .dataframe thead th {\n",
              "        text-align: right;\n",
              "    }\n",
              "</style>\n",
              "<table border=\"1\" class=\"dataframe\">\n",
              "  <thead>\n",
              "    <tr style=\"text-align: right;\">\n",
              "      <th></th>\n",
              "      <th>Text</th>\n",
              "      <th>Language</th>\n",
              "    </tr>\n",
              "  </thead>\n",
              "  <tbody>\n",
              "    <tr>\n",
              "      <th>0</th>\n",
              "      <td>Nature, in the broadest sense, is the natural...</td>\n",
              "      <td>English</td>\n",
              "    </tr>\n",
              "    <tr>\n",
              "      <th>1</th>\n",
              "      <td>\"Nature\" can refer to the phenomena of the phy...</td>\n",
              "      <td>English</td>\n",
              "    </tr>\n",
              "    <tr>\n",
              "      <th>2</th>\n",
              "      <td>The study of nature is a large, if not the onl...</td>\n",
              "      <td>English</td>\n",
              "    </tr>\n",
              "    <tr>\n",
              "      <th>3</th>\n",
              "      <td>Although humans are part of nature, human acti...</td>\n",
              "      <td>English</td>\n",
              "    </tr>\n",
              "    <tr>\n",
              "      <th>4</th>\n",
              "      <td>[1] The word nature is borrowed from the Old F...</td>\n",
              "      <td>English</td>\n",
              "    </tr>\n",
              "  </tbody>\n",
              "</table>\n",
              "</div>\n",
              "    <div class=\"colab-df-buttons\">\n",
              "\n",
              "  <div class=\"colab-df-container\">\n",
              "    <button class=\"colab-df-convert\" onclick=\"convertToInteractive('df-09436bbb-fa2f-42cc-ab74-461eb7acba8c')\"\n",
              "            title=\"Convert this dataframe to an interactive table.\"\n",
              "            style=\"display:none;\">\n",
              "\n",
              "  <svg xmlns=\"http://www.w3.org/2000/svg\" height=\"24px\" viewBox=\"0 -960 960 960\">\n",
              "    <path d=\"M120-120v-720h720v720H120Zm60-500h600v-160H180v160Zm220 220h160v-160H400v160Zm0 220h160v-160H400v160ZM180-400h160v-160H180v160Zm440 0h160v-160H620v160ZM180-180h160v-160H180v160Zm440 0h160v-160H620v160Z\"/>\n",
              "  </svg>\n",
              "    </button>\n",
              "\n",
              "  <style>\n",
              "    .colab-df-container {\n",
              "      display:flex;\n",
              "      gap: 12px;\n",
              "    }\n",
              "\n",
              "    .colab-df-convert {\n",
              "      background-color: #E8F0FE;\n",
              "      border: none;\n",
              "      border-radius: 50%;\n",
              "      cursor: pointer;\n",
              "      display: none;\n",
              "      fill: #1967D2;\n",
              "      height: 32px;\n",
              "      padding: 0 0 0 0;\n",
              "      width: 32px;\n",
              "    }\n",
              "\n",
              "    .colab-df-convert:hover {\n",
              "      background-color: #E2EBFA;\n",
              "      box-shadow: 0px 1px 2px rgba(60, 64, 67, 0.3), 0px 1px 3px 1px rgba(60, 64, 67, 0.15);\n",
              "      fill: #174EA6;\n",
              "    }\n",
              "\n",
              "    .colab-df-buttons div {\n",
              "      margin-bottom: 4px;\n",
              "    }\n",
              "\n",
              "    [theme=dark] .colab-df-convert {\n",
              "      background-color: #3B4455;\n",
              "      fill: #D2E3FC;\n",
              "    }\n",
              "\n",
              "    [theme=dark] .colab-df-convert:hover {\n",
              "      background-color: #434B5C;\n",
              "      box-shadow: 0px 1px 3px 1px rgba(0, 0, 0, 0.15);\n",
              "      filter: drop-shadow(0px 1px 2px rgba(0, 0, 0, 0.3));\n",
              "      fill: #FFFFFF;\n",
              "    }\n",
              "  </style>\n",
              "\n",
              "    <script>\n",
              "      const buttonEl =\n",
              "        document.querySelector('#df-09436bbb-fa2f-42cc-ab74-461eb7acba8c button.colab-df-convert');\n",
              "      buttonEl.style.display =\n",
              "        google.colab.kernel.accessAllowed ? 'block' : 'none';\n",
              "\n",
              "      async function convertToInteractive(key) {\n",
              "        const element = document.querySelector('#df-09436bbb-fa2f-42cc-ab74-461eb7acba8c');\n",
              "        const dataTable =\n",
              "          await google.colab.kernel.invokeFunction('convertToInteractive',\n",
              "                                                    [key], {});\n",
              "        if (!dataTable) return;\n",
              "\n",
              "        const docLinkHtml = 'Like what you see? Visit the ' +\n",
              "          '<a target=\"_blank\" href=https://colab.research.google.com/notebooks/data_table.ipynb>data table notebook</a>'\n",
              "          + ' to learn more about interactive tables.';\n",
              "        element.innerHTML = '';\n",
              "        dataTable['output_type'] = 'display_data';\n",
              "        await google.colab.output.renderOutput(dataTable, element);\n",
              "        const docLink = document.createElement('div');\n",
              "        docLink.innerHTML = docLinkHtml;\n",
              "        element.appendChild(docLink);\n",
              "      }\n",
              "    </script>\n",
              "  </div>\n",
              "\n",
              "\n",
              "<div id=\"df-50095765-dbd6-4f68-ae60-3fb85db65bd2\">\n",
              "  <button class=\"colab-df-quickchart\" onclick=\"quickchart('df-50095765-dbd6-4f68-ae60-3fb85db65bd2')\"\n",
              "            title=\"Suggest charts\"\n",
              "            style=\"display:none;\">\n",
              "\n",
              "<svg xmlns=\"http://www.w3.org/2000/svg\" height=\"24px\"viewBox=\"0 0 24 24\"\n",
              "     width=\"24px\">\n",
              "    <g>\n",
              "        <path d=\"M19 3H5c-1.1 0-2 .9-2 2v14c0 1.1.9 2 2 2h14c1.1 0 2-.9 2-2V5c0-1.1-.9-2-2-2zM9 17H7v-7h2v7zm4 0h-2V7h2v10zm4 0h-2v-4h2v4z\"/>\n",
              "    </g>\n",
              "</svg>\n",
              "  </button>\n",
              "\n",
              "<style>\n",
              "  .colab-df-quickchart {\n",
              "      --bg-color: #E8F0FE;\n",
              "      --fill-color: #1967D2;\n",
              "      --hover-bg-color: #E2EBFA;\n",
              "      --hover-fill-color: #174EA6;\n",
              "      --disabled-fill-color: #AAA;\n",
              "      --disabled-bg-color: #DDD;\n",
              "  }\n",
              "\n",
              "  [theme=dark] .colab-df-quickchart {\n",
              "      --bg-color: #3B4455;\n",
              "      --fill-color: #D2E3FC;\n",
              "      --hover-bg-color: #434B5C;\n",
              "      --hover-fill-color: #FFFFFF;\n",
              "      --disabled-bg-color: #3B4455;\n",
              "      --disabled-fill-color: #666;\n",
              "  }\n",
              "\n",
              "  .colab-df-quickchart {\n",
              "    background-color: var(--bg-color);\n",
              "    border: none;\n",
              "    border-radius: 50%;\n",
              "    cursor: pointer;\n",
              "    display: none;\n",
              "    fill: var(--fill-color);\n",
              "    height: 32px;\n",
              "    padding: 0;\n",
              "    width: 32px;\n",
              "  }\n",
              "\n",
              "  .colab-df-quickchart:hover {\n",
              "    background-color: var(--hover-bg-color);\n",
              "    box-shadow: 0 1px 2px rgba(60, 64, 67, 0.3), 0 1px 3px 1px rgba(60, 64, 67, 0.15);\n",
              "    fill: var(--button-hover-fill-color);\n",
              "  }\n",
              "\n",
              "  .colab-df-quickchart-complete:disabled,\n",
              "  .colab-df-quickchart-complete:disabled:hover {\n",
              "    background-color: var(--disabled-bg-color);\n",
              "    fill: var(--disabled-fill-color);\n",
              "    box-shadow: none;\n",
              "  }\n",
              "\n",
              "  .colab-df-spinner {\n",
              "    border: 2px solid var(--fill-color);\n",
              "    border-color: transparent;\n",
              "    border-bottom-color: var(--fill-color);\n",
              "    animation:\n",
              "      spin 1s steps(1) infinite;\n",
              "  }\n",
              "\n",
              "  @keyframes spin {\n",
              "    0% {\n",
              "      border-color: transparent;\n",
              "      border-bottom-color: var(--fill-color);\n",
              "      border-left-color: var(--fill-color);\n",
              "    }\n",
              "    20% {\n",
              "      border-color: transparent;\n",
              "      border-left-color: var(--fill-color);\n",
              "      border-top-color: var(--fill-color);\n",
              "    }\n",
              "    30% {\n",
              "      border-color: transparent;\n",
              "      border-left-color: var(--fill-color);\n",
              "      border-top-color: var(--fill-color);\n",
              "      border-right-color: var(--fill-color);\n",
              "    }\n",
              "    40% {\n",
              "      border-color: transparent;\n",
              "      border-right-color: var(--fill-color);\n",
              "      border-top-color: var(--fill-color);\n",
              "    }\n",
              "    60% {\n",
              "      border-color: transparent;\n",
              "      border-right-color: var(--fill-color);\n",
              "    }\n",
              "    80% {\n",
              "      border-color: transparent;\n",
              "      border-right-color: var(--fill-color);\n",
              "      border-bottom-color: var(--fill-color);\n",
              "    }\n",
              "    90% {\n",
              "      border-color: transparent;\n",
              "      border-bottom-color: var(--fill-color);\n",
              "    }\n",
              "  }\n",
              "</style>\n",
              "\n",
              "  <script>\n",
              "    async function quickchart(key) {\n",
              "      const quickchartButtonEl =\n",
              "        document.querySelector('#' + key + ' button');\n",
              "      quickchartButtonEl.disabled = true;  // To prevent multiple clicks.\n",
              "      quickchartButtonEl.classList.add('colab-df-spinner');\n",
              "      try {\n",
              "        const charts = await google.colab.kernel.invokeFunction(\n",
              "            'suggestCharts', [key], {});\n",
              "      } catch (error) {\n",
              "        console.error('Error during call to suggestCharts:', error);\n",
              "      }\n",
              "      quickchartButtonEl.classList.remove('colab-df-spinner');\n",
              "      quickchartButtonEl.classList.add('colab-df-quickchart-complete');\n",
              "    }\n",
              "    (() => {\n",
              "      let quickchartButtonEl =\n",
              "        document.querySelector('#df-50095765-dbd6-4f68-ae60-3fb85db65bd2 button');\n",
              "      quickchartButtonEl.style.display =\n",
              "        google.colab.kernel.accessAllowed ? 'block' : 'none';\n",
              "    })();\n",
              "  </script>\n",
              "</div>\n",
              "\n",
              "    </div>\n",
              "  </div>\n"
            ],
            "application/vnd.google.colaboratory.intrinsic+json": {
              "type": "dataframe",
              "variable_name": "dataset",
              "summary": "{\n  \"name\": \"dataset\",\n  \"rows\": 10337,\n  \"fields\": [\n    {\n      \"column\": \"Text\",\n      \"properties\": {\n        \"dtype\": \"string\",\n        \"num_unique_values\": 10267,\n        \"samples\": [\n          \"\\u0647\\u0644 \\u064a\\u0645\\u0643\\u0646 \\u0623\\u0646 \\u062a\\u062e\\u0628\\u0631\\u0646\\u064a \\u0645\\u0627\\u0630\\u0627 \\u062a\\u0639\\u0646\\u064a \\u0647\\u0630\\u0647 \\u0627\\u0644\\u0643\\u0644\\u0645\\u0629\\u061f \\u0647\\u0644 \\u062a\\u0639\\u0631\\u0641 \\u0623\\u064a\\u0646 \\u062a\\u0648\\u062c\\u062f \\u0627\\u0644\\u0645\\u0643\\u062a\\u0628\\u0629\\u061f \\u0645\\u062a\\u0631\\u062f\\u062f.\",\n          \"Alla fine del 2005 \\u00e8 sorta una controversia dopo che il giornalista John Seigenthaler Sr. aveva notato come la sua biografia fosse stata vandalizzata inserendo informazioni false.\",\n          \"seus amigos que \\u00e9 este canal estupendo para estudantes e algumas outras palavras que voc\\u00ea pode usar ao inv\\u00e9s de estupendo s\\u00e3o incr\\u00edveis fant\\u00e1sticas ou excepcionalmente boas ok ent\\u00e3o antes de continuarmos com as cinco palavras equilibradas neste v\\u00eddeo, lembre-se de colocar um coment\\u00e1rio abaixo deste v\\u00eddeo.\"\n        ],\n        \"semantic_type\": \"\",\n        \"description\": \"\"\n      }\n    },\n    {\n      \"column\": \"Language\",\n      \"properties\": {\n        \"dtype\": \"category\",\n        \"num_unique_values\": 17,\n        \"samples\": [\n          \"English\",\n          \"Malayalam\",\n          \"French\"\n        ],\n        \"semantic_type\": \"\",\n        \"description\": \"\"\n      }\n    }\n  ]\n}"
            }
          },
          "metadata": {},
          "execution_count": 4
        }
      ]
    },
    {
      "cell_type": "code",
      "source": [
        "class_names = sorted(set(dataset['Language']))\n",
        "class_names"
      ],
      "metadata": {
        "colab": {
          "base_uri": "https://localhost:8080/"
        },
        "id": "GLhW4zkCAFaH",
        "outputId": "d7b7d7e4-2351-4615-9b93-f1b6ba587568"
      },
      "execution_count": 5,
      "outputs": [
        {
          "output_type": "execute_result",
          "data": {
            "text/plain": [
              "['Arabic',\n",
              " 'Danish',\n",
              " 'Dutch',\n",
              " 'English',\n",
              " 'French',\n",
              " 'German',\n",
              " 'Greek',\n",
              " 'Hindi',\n",
              " 'Italian',\n",
              " 'Kannada',\n",
              " 'Malayalam',\n",
              " 'Portugeese',\n",
              " 'Russian',\n",
              " 'Spanish',\n",
              " 'Sweedish',\n",
              " 'Tamil',\n",
              " 'Turkish']"
            ]
          },
          "metadata": {},
          "execution_count": 5
        }
      ]
    },
    {
      "cell_type": "code",
      "source": [
        "dataset['Language'].value_counts()"
      ],
      "metadata": {
        "colab": {
          "base_uri": "https://localhost:8080/"
        },
        "id": "qrGhlPyyAT7O",
        "outputId": "e599983c-6833-442e-9fe6-66f7b0b28f9b"
      },
      "execution_count": 6,
      "outputs": [
        {
          "output_type": "execute_result",
          "data": {
            "text/plain": [
              "Language\n",
              "English       1385\n",
              "French        1014\n",
              "Spanish        819\n",
              "Portugeese     739\n",
              "Italian        698\n",
              "Russian        692\n",
              "Sweedish       676\n",
              "Malayalam      594\n",
              "Dutch          546\n",
              "Arabic         536\n",
              "Turkish        474\n",
              "German         470\n",
              "Tamil          469\n",
              "Danish         428\n",
              "Kannada        369\n",
              "Greek          365\n",
              "Hindi           63\n",
              "Name: count, dtype: int64"
            ]
          },
          "metadata": {},
          "execution_count": 6
        }
      ]
    },
    {
      "cell_type": "code",
      "source": [
        "hi_filt = dataset['Language'] == 'Hindi'\n",
        "dataset.loc[hi_filt, :]"
      ],
      "metadata": {
        "colab": {
          "base_uri": "https://localhost:8080/",
          "height": 423
        },
        "id": "Pw2s2m-1AkAo",
        "outputId": "1062b2f2-ec06-455a-8fe1-ea39f922f2be"
      },
      "execution_count": 7,
      "outputs": [
        {
          "output_type": "execute_result",
          "data": {
            "text/plain": [
              "                                                   Text Language\n",
              "1979  विकि-शब्दकोष (एक मुक्त शब्दकोष एवं समानांतर को...    Hindi\n",
              "1980  [42] अंत में, विकिपीडिया एक पक्ष नहीं लेता है।...    Hindi\n",
              "1981  बोट्स नामक कंप्यूटर प्रोग्राम के निर्माण के बा...    Hindi\n",
              "1982               \"\"नहीं, हम नहीं जानते\", जिमी ने कहा.    Hindi\n",
              "1983  [60] कुछ आलोचकों का दावा है कि विकिपीडिया की ख...    Hindi\n",
              "...                                                 ...      ...\n",
              "2037  मैं सोच रहा था कि क्या यो मेरी मदद कर सकता है।...    Hindi\n",
              "2038                     कैसे कुछ आइसक्रीम के बारे में?    Hindi\n",
              "2039             क्या आप मुझे एक सवारी घर देना चाहेंगे?    Hindi\n",
              "2040  जी बोलिये। यह बहुत अच्छा होगा, धन्यवाद। मैं ठी...    Hindi\n",
              "2041  एक सेकंड पर लटकाओ। बस एक पल मेरे साथ सहन करो। ...    Hindi\n",
              "\n",
              "[63 rows x 2 columns]"
            ],
            "text/html": [
              "\n",
              "  <div id=\"df-c5e0aef0-45ef-4cb5-8b1f-7860926f8179\" class=\"colab-df-container\">\n",
              "    <div>\n",
              "<style scoped>\n",
              "    .dataframe tbody tr th:only-of-type {\n",
              "        vertical-align: middle;\n",
              "    }\n",
              "\n",
              "    .dataframe tbody tr th {\n",
              "        vertical-align: top;\n",
              "    }\n",
              "\n",
              "    .dataframe thead th {\n",
              "        text-align: right;\n",
              "    }\n",
              "</style>\n",
              "<table border=\"1\" class=\"dataframe\">\n",
              "  <thead>\n",
              "    <tr style=\"text-align: right;\">\n",
              "      <th></th>\n",
              "      <th>Text</th>\n",
              "      <th>Language</th>\n",
              "    </tr>\n",
              "  </thead>\n",
              "  <tbody>\n",
              "    <tr>\n",
              "      <th>1979</th>\n",
              "      <td>विकि-शब्दकोष (एक मुक्त शब्दकोष एवं समानांतर को...</td>\n",
              "      <td>Hindi</td>\n",
              "    </tr>\n",
              "    <tr>\n",
              "      <th>1980</th>\n",
              "      <td>[42] अंत में, विकिपीडिया एक पक्ष नहीं लेता है।...</td>\n",
              "      <td>Hindi</td>\n",
              "    </tr>\n",
              "    <tr>\n",
              "      <th>1981</th>\n",
              "      <td>बोट्स नामक कंप्यूटर प्रोग्राम के निर्माण के बा...</td>\n",
              "      <td>Hindi</td>\n",
              "    </tr>\n",
              "    <tr>\n",
              "      <th>1982</th>\n",
              "      <td>\"\"नहीं, हम नहीं जानते\", जिमी ने कहा.</td>\n",
              "      <td>Hindi</td>\n",
              "    </tr>\n",
              "    <tr>\n",
              "      <th>1983</th>\n",
              "      <td>[60] कुछ आलोचकों का दावा है कि विकिपीडिया की ख...</td>\n",
              "      <td>Hindi</td>\n",
              "    </tr>\n",
              "    <tr>\n",
              "      <th>...</th>\n",
              "      <td>...</td>\n",
              "      <td>...</td>\n",
              "    </tr>\n",
              "    <tr>\n",
              "      <th>2037</th>\n",
              "      <td>मैं सोच रहा था कि क्या यो मेरी मदद कर सकता है।...</td>\n",
              "      <td>Hindi</td>\n",
              "    </tr>\n",
              "    <tr>\n",
              "      <th>2038</th>\n",
              "      <td>कैसे कुछ आइसक्रीम के बारे में?</td>\n",
              "      <td>Hindi</td>\n",
              "    </tr>\n",
              "    <tr>\n",
              "      <th>2039</th>\n",
              "      <td>क्या आप मुझे एक सवारी घर देना चाहेंगे?</td>\n",
              "      <td>Hindi</td>\n",
              "    </tr>\n",
              "    <tr>\n",
              "      <th>2040</th>\n",
              "      <td>जी बोलिये। यह बहुत अच्छा होगा, धन्यवाद। मैं ठी...</td>\n",
              "      <td>Hindi</td>\n",
              "    </tr>\n",
              "    <tr>\n",
              "      <th>2041</th>\n",
              "      <td>एक सेकंड पर लटकाओ। बस एक पल मेरे साथ सहन करो। ...</td>\n",
              "      <td>Hindi</td>\n",
              "    </tr>\n",
              "  </tbody>\n",
              "</table>\n",
              "<p>63 rows × 2 columns</p>\n",
              "</div>\n",
              "    <div class=\"colab-df-buttons\">\n",
              "\n",
              "  <div class=\"colab-df-container\">\n",
              "    <button class=\"colab-df-convert\" onclick=\"convertToInteractive('df-c5e0aef0-45ef-4cb5-8b1f-7860926f8179')\"\n",
              "            title=\"Convert this dataframe to an interactive table.\"\n",
              "            style=\"display:none;\">\n",
              "\n",
              "  <svg xmlns=\"http://www.w3.org/2000/svg\" height=\"24px\" viewBox=\"0 -960 960 960\">\n",
              "    <path d=\"M120-120v-720h720v720H120Zm60-500h600v-160H180v160Zm220 220h160v-160H400v160Zm0 220h160v-160H400v160ZM180-400h160v-160H180v160Zm440 0h160v-160H620v160ZM180-180h160v-160H180v160Zm440 0h160v-160H620v160Z\"/>\n",
              "  </svg>\n",
              "    </button>\n",
              "\n",
              "  <style>\n",
              "    .colab-df-container {\n",
              "      display:flex;\n",
              "      gap: 12px;\n",
              "    }\n",
              "\n",
              "    .colab-df-convert {\n",
              "      background-color: #E8F0FE;\n",
              "      border: none;\n",
              "      border-radius: 50%;\n",
              "      cursor: pointer;\n",
              "      display: none;\n",
              "      fill: #1967D2;\n",
              "      height: 32px;\n",
              "      padding: 0 0 0 0;\n",
              "      width: 32px;\n",
              "    }\n",
              "\n",
              "    .colab-df-convert:hover {\n",
              "      background-color: #E2EBFA;\n",
              "      box-shadow: 0px 1px 2px rgba(60, 64, 67, 0.3), 0px 1px 3px 1px rgba(60, 64, 67, 0.15);\n",
              "      fill: #174EA6;\n",
              "    }\n",
              "\n",
              "    .colab-df-buttons div {\n",
              "      margin-bottom: 4px;\n",
              "    }\n",
              "\n",
              "    [theme=dark] .colab-df-convert {\n",
              "      background-color: #3B4455;\n",
              "      fill: #D2E3FC;\n",
              "    }\n",
              "\n",
              "    [theme=dark] .colab-df-convert:hover {\n",
              "      background-color: #434B5C;\n",
              "      box-shadow: 0px 1px 3px 1px rgba(0, 0, 0, 0.15);\n",
              "      filter: drop-shadow(0px 1px 2px rgba(0, 0, 0, 0.3));\n",
              "      fill: #FFFFFF;\n",
              "    }\n",
              "  </style>\n",
              "\n",
              "    <script>\n",
              "      const buttonEl =\n",
              "        document.querySelector('#df-c5e0aef0-45ef-4cb5-8b1f-7860926f8179 button.colab-df-convert');\n",
              "      buttonEl.style.display =\n",
              "        google.colab.kernel.accessAllowed ? 'block' : 'none';\n",
              "\n",
              "      async function convertToInteractive(key) {\n",
              "        const element = document.querySelector('#df-c5e0aef0-45ef-4cb5-8b1f-7860926f8179');\n",
              "        const dataTable =\n",
              "          await google.colab.kernel.invokeFunction('convertToInteractive',\n",
              "                                                    [key], {});\n",
              "        if (!dataTable) return;\n",
              "\n",
              "        const docLinkHtml = 'Like what you see? Visit the ' +\n",
              "          '<a target=\"_blank\" href=https://colab.research.google.com/notebooks/data_table.ipynb>data table notebook</a>'\n",
              "          + ' to learn more about interactive tables.';\n",
              "        element.innerHTML = '';\n",
              "        dataTable['output_type'] = 'display_data';\n",
              "        await google.colab.output.renderOutput(dataTable, element);\n",
              "        const docLink = document.createElement('div');\n",
              "        docLink.innerHTML = docLinkHtml;\n",
              "        element.appendChild(docLink);\n",
              "      }\n",
              "    </script>\n",
              "  </div>\n",
              "\n",
              "\n",
              "<div id=\"df-94742b5e-fb27-41f4-bfdd-0a5d46ba26dd\">\n",
              "  <button class=\"colab-df-quickchart\" onclick=\"quickchart('df-94742b5e-fb27-41f4-bfdd-0a5d46ba26dd')\"\n",
              "            title=\"Suggest charts\"\n",
              "            style=\"display:none;\">\n",
              "\n",
              "<svg xmlns=\"http://www.w3.org/2000/svg\" height=\"24px\"viewBox=\"0 0 24 24\"\n",
              "     width=\"24px\">\n",
              "    <g>\n",
              "        <path d=\"M19 3H5c-1.1 0-2 .9-2 2v14c0 1.1.9 2 2 2h14c1.1 0 2-.9 2-2V5c0-1.1-.9-2-2-2zM9 17H7v-7h2v7zm4 0h-2V7h2v10zm4 0h-2v-4h2v4z\"/>\n",
              "    </g>\n",
              "</svg>\n",
              "  </button>\n",
              "\n",
              "<style>\n",
              "  .colab-df-quickchart {\n",
              "      --bg-color: #E8F0FE;\n",
              "      --fill-color: #1967D2;\n",
              "      --hover-bg-color: #E2EBFA;\n",
              "      --hover-fill-color: #174EA6;\n",
              "      --disabled-fill-color: #AAA;\n",
              "      --disabled-bg-color: #DDD;\n",
              "  }\n",
              "\n",
              "  [theme=dark] .colab-df-quickchart {\n",
              "      --bg-color: #3B4455;\n",
              "      --fill-color: #D2E3FC;\n",
              "      --hover-bg-color: #434B5C;\n",
              "      --hover-fill-color: #FFFFFF;\n",
              "      --disabled-bg-color: #3B4455;\n",
              "      --disabled-fill-color: #666;\n",
              "  }\n",
              "\n",
              "  .colab-df-quickchart {\n",
              "    background-color: var(--bg-color);\n",
              "    border: none;\n",
              "    border-radius: 50%;\n",
              "    cursor: pointer;\n",
              "    display: none;\n",
              "    fill: var(--fill-color);\n",
              "    height: 32px;\n",
              "    padding: 0;\n",
              "    width: 32px;\n",
              "  }\n",
              "\n",
              "  .colab-df-quickchart:hover {\n",
              "    background-color: var(--hover-bg-color);\n",
              "    box-shadow: 0 1px 2px rgba(60, 64, 67, 0.3), 0 1px 3px 1px rgba(60, 64, 67, 0.15);\n",
              "    fill: var(--button-hover-fill-color);\n",
              "  }\n",
              "\n",
              "  .colab-df-quickchart-complete:disabled,\n",
              "  .colab-df-quickchart-complete:disabled:hover {\n",
              "    background-color: var(--disabled-bg-color);\n",
              "    fill: var(--disabled-fill-color);\n",
              "    box-shadow: none;\n",
              "  }\n",
              "\n",
              "  .colab-df-spinner {\n",
              "    border: 2px solid var(--fill-color);\n",
              "    border-color: transparent;\n",
              "    border-bottom-color: var(--fill-color);\n",
              "    animation:\n",
              "      spin 1s steps(1) infinite;\n",
              "  }\n",
              "\n",
              "  @keyframes spin {\n",
              "    0% {\n",
              "      border-color: transparent;\n",
              "      border-bottom-color: var(--fill-color);\n",
              "      border-left-color: var(--fill-color);\n",
              "    }\n",
              "    20% {\n",
              "      border-color: transparent;\n",
              "      border-left-color: var(--fill-color);\n",
              "      border-top-color: var(--fill-color);\n",
              "    }\n",
              "    30% {\n",
              "      border-color: transparent;\n",
              "      border-left-color: var(--fill-color);\n",
              "      border-top-color: var(--fill-color);\n",
              "      border-right-color: var(--fill-color);\n",
              "    }\n",
              "    40% {\n",
              "      border-color: transparent;\n",
              "      border-right-color: var(--fill-color);\n",
              "      border-top-color: var(--fill-color);\n",
              "    }\n",
              "    60% {\n",
              "      border-color: transparent;\n",
              "      border-right-color: var(--fill-color);\n",
              "    }\n",
              "    80% {\n",
              "      border-color: transparent;\n",
              "      border-right-color: var(--fill-color);\n",
              "      border-bottom-color: var(--fill-color);\n",
              "    }\n",
              "    90% {\n",
              "      border-color: transparent;\n",
              "      border-bottom-color: var(--fill-color);\n",
              "    }\n",
              "  }\n",
              "</style>\n",
              "\n",
              "  <script>\n",
              "    async function quickchart(key) {\n",
              "      const quickchartButtonEl =\n",
              "        document.querySelector('#' + key + ' button');\n",
              "      quickchartButtonEl.disabled = true;  // To prevent multiple clicks.\n",
              "      quickchartButtonEl.classList.add('colab-df-spinner');\n",
              "      try {\n",
              "        const charts = await google.colab.kernel.invokeFunction(\n",
              "            'suggestCharts', [key], {});\n",
              "      } catch (error) {\n",
              "        console.error('Error during call to suggestCharts:', error);\n",
              "      }\n",
              "      quickchartButtonEl.classList.remove('colab-df-spinner');\n",
              "      quickchartButtonEl.classList.add('colab-df-quickchart-complete');\n",
              "    }\n",
              "    (() => {\n",
              "      let quickchartButtonEl =\n",
              "        document.querySelector('#df-94742b5e-fb27-41f4-bfdd-0a5d46ba26dd button');\n",
              "      quickchartButtonEl.style.display =\n",
              "        google.colab.kernel.accessAllowed ? 'block' : 'none';\n",
              "    })();\n",
              "  </script>\n",
              "</div>\n",
              "\n",
              "    </div>\n",
              "  </div>\n"
            ],
            "application/vnd.google.colaboratory.intrinsic+json": {
              "type": "dataframe",
              "summary": "{\n  \"name\": \"dataset\",\n  \"rows\": 63,\n  \"fields\": [\n    {\n      \"column\": \"Text\",\n      \"properties\": {\n        \"dtype\": \"string\",\n        \"num_unique_values\": 62,\n        \"samples\": [\n          \"\\u0915\\u094d\\u092f\\u093e \\u0906\\u092a \\u0905\\u0917\\u0932\\u0947 \\u0936\\u0928\\u093f\\u0935\\u093e\\u0930 \\u0915\\u094b \\u0938\\u094d\\u0935\\u0924\\u0902\\u0924\\u094d\\u0930 \\u0939\\u0948\\u0902?\",\n          \"\\u0915\\u094d\\u092f\\u093e \\u0906\\u092a \\u092e\\u0941\\u091d\\u0947 \\u0915\\u0941\\u091b \\u092a\\u0948\\u0938\\u0947 \\u0909\\u0927\\u093e\\u0930 \\u0926\\u0947\\u0928\\u0947 \\u0915\\u093e \\u092e\\u0928 \\u0915\\u0930\\u0947\\u0902\\u0917\\u0947?\",\n          \"\\u0935\\u093f\\u0915\\u093f-\\u0936\\u092c\\u094d\\u0926\\u0915\\u094b\\u0937 (\\u090f\\u0915 \\u092e\\u0941\\u0915\\u094d\\u0924 \\u0936\\u092c\\u094d\\u0926\\u0915\\u094b\\u0937 \\u090f\\u0935\\u0902 \\u0938\\u092e\\u093e\\u0928\\u093e\\u0902\\u0924\\u0930 \\u0915\\u094b\\u0937) \\n \\u0935\\u093f\\u0915\\u093f\\u0924\\u093e\\u092c\\u0947\\u0902 (\\u092e\\u0941\\u092b\\u093c\\u094d\\u0924 \\u0915\\u093c\\u093f\\u0924\\u093e\\u092c\\u0947\\u0902 \\u0914\\u0930 \\u0909\\u092a\\u092f\\u094b\\u0917\\u0940 \\u0938\\u093e\\u092e\\u0917\\u094d\\u0930\\u0940) \\n \\u0935\\u093f\\u0915\\u093f\\u0915\\u094d\\u0935\\u094b\\u091f (\\u0935\\u093f\\u092d\\u093f\\u0928\\u094d\\u0928 \\u0938\\u0941\\u092d\\u093e\\u0937\\u093f\\u0924\\u094b\\u0902 \\u0915\\u093e \\u0938\\u0902\\u0915\\u0932\\u0928) \\n \\u0935\\u093f\\u0915\\u093f\\u0938\\u094d\\u0930\\u094b\\u0924 (\\u092e\\u0941\\u0915\\u094d\\u0924 \\u0938\\u094d\\u0924\\u094d\\u0930\\u094b\\u0924 \\u0938\\u093e\\u092e\\u0917\\u094d\\u0930\\u0940) \\n \\u0915\\u0949\\u092e\\u0902\\u0938 (\\u0935\\u093f\\u0915\\u093f\\u092e\\u0940\\u0921\\u093f\\u092f\\u093e \\u092a\\u094d\\u0930\\u0915\\u0932\\u094d\\u092a \\u0915\\u093e \\u092e\\u0940\\u0921\\u093f\\u092f\\u093e \\u092b\\u093c\\u093e\\u0907\\u0932 \\u092d\\u0902\\u0921\\u093e\\u0930) \\n \\u0935\\u093f\\u0915\\u093f\\u0938\\u092e\\u093e\\u091a\\u093e\\u0930 (\\u092e\\u0941\\u0915\\u094d\\u0924 \\u0938\\u092e\\u093e\\u091a\\u093e\\u0930) \\u092f\\u094b\\u0917\\u0926\\u093e\\u0928\\u0915\\u0930\\u094d\\u0924\\u093e\\u0913\\u0902 \\u0915\\u0947 \\u0932\\u093f\\u090f: \\u092f\\u0939 \\u0932\\u0947\\u0916 \\u0907\\u0902\\u091f\\u0930\\u0928\\u0947\\u091f (\\u0907\\u0923\\u094d\\u091f\\u0930\\u0928\\u0947\\u091f) \\u0935\\u093f\\u0936\\u094d\\u0935\\u0915\\u094b\\u0936 \\u0915\\u0947 \\u092c\\u093e\\u0930\\u0947 \\u092e\\u0947\\u0902 \\u092c\\u0924\\u0932\\u093e\\u0924\\u093e  \\u0939\\u0948\\u0964 \\u0915\\u093f \\u0935\\u093f\\u0915\\u093f\\u092a\\u0940\\u0921\\u093f\\u092f\\u093e \\u0915\\u0947 \\u092e\\u0941\\u0916\\u094d\\u092f \\u092a\\u0943\\u0937\\u094d\\u0920 \\u0915\\u0947 \\u0932\\u093f\\u090f, \\u0935\\u093f\\u0915\\u093f\\u092a\\u0940\\u0921\\u093f\\u092f\\u093e \\u0915\\u093e \\u092e\\u0941\\u0916\\u094d\\u092f \\u092a\\u0943\\u0937\\u094d\\u0920 \\u0926\\u0947\\u0916\\u0947\\u0902\\u0964 \\u0935\\u093f\\u0915\\u093f\\u092a\\u0940\\u0921\\u093f\\u092f\\u093e \\u0915\\u0947 \\u0906\\u0917\\u0902\\u0924\\u0941\\u0915 \\u092a\\u0930\\u093f\\u091a\\u092f \\u0915\\u0947 \\u0932\\u093f\\u090f, \\u0935\\u093f\\u0915\\u093f\\u092a\\u0940\\u0921\\u093f\\u092f\\u093e \\u0915\\u0947 \\u092c\\u093e\\u0930\\u0947 \\u092e\\u0947\\u0902 \\u092a\\u0943\\u0937\\u094d\\u0920 \\u0926\\u0947\\u0916\\u0947\\u0902\\u0964 \\u0935\\u093f\\u0915\\u093f\\u092a\\u0940\\u0921\\u093f\\u092f\\u093e  \\u090f\\u0915 \\u092e\\u0941\\u092b\\u094d\\u0924,[5] \\u0935\\u0947\\u092c \\u0906\\u0927\\u093e\\u0930\\u093f\\u0924 \\u0914\\u0930 \\u0938\\u0939\\u092f\\u094b\\u0917\\u0940 \\u092c\\u0939\\u0941\\u092d\\u093e\\u0937\\u0940 \\u0935\\u093f\\u0936\\u094d\\u0935\\u0915\\u094b\\u0936 \\u0939\\u0948, \\u091c\\u094b \\u0917\\u0948\\u0930-\\u0932\\u093e\\u092d \\u0935\\u093f\\u0915\\u093f\\u092e\\u0940\\u0921\\u093f\\u092f\\u093e \\u092b\\u093e\\u0909\\u0928\\u0921\\u0947\\u0936\\u0928 \\u0938\\u0947 \\u0938\\u0939\\u092f\\u094b\\u0917 \\u092a\\u094d\\u0930\\u093e\\u092a\\u094d\\u0924 \\u092a\\u0930\\u093f\\u092f\\u094b\\u091c\\u0928\\u093e \\u092e\\u0947\\u0902 \\u0909\\u0924\\u094d\\u092a\\u0928\\u094d\\u0928 \\u0939\\u0941\\u0906\\u0964 \\u0907\\u0938\\u0915\\u093e \\u0928\\u093e\\u092e \\u0926\\u094b \\u0936\\u092c\\u094d\\u0926\\u094b\\u0902 \\u0935\\u093f\\u0915\\u0940 (wiki) (\\u092f\\u0939 \\u0938\\u0939\\u092f\\u094b\\u0917\\u0940 \\u0935\\u0947\\u092c\\u0938\\u093e\\u0907\\u091f\\u094b\\u0902 \\u0915\\u0947 \\u0928\\u093f\\u0930\\u094d\\u092e\\u093e\\u0923 \\u0915\\u0940 \\u090f\\u0915 \\u0924\\u0915\\u0928\\u0940\\u0915 \\u0939\\u0948, \\u092f\\u0939 \\u090f\\u0915 \\u0939\\u0935\\u093e\\u0908 \\u0936\\u092c\\u094d\\u0926 \\u0935\\u093f\\u0915\\u0940 \\u0939\\u0948 \\u091c\\u093f\\u0938\\u0915\\u093e \\u0905\\u0930\\u094d\\u0925 \\u0939\\u0948 \\\"\\u091c\\u0932\\u094d\\u0926\\u0940\\\") \\u0914\\u0930 \\u090f\\u0928\\u0938\\u093e\\u0907\\u0915\\u094d\\u0932\\u094b\\u092a\\u0940\\u0921\\u093f\\u092f\\u093e (encyclopedia) \\u0915\\u093e \\u0938\\u0902\\u092f\\u094b\\u091c\\u0928 \\u0939\\u0948\\u0964 \\n\\u0926\\u0941\\u0928\\u093f\\u092f\\u093e \\u092d\\u0930 \\u092e\\u0947\\u0902 \\u0938\\u094d\\u0935\\u092f\\u0902\\u0938\\u0947\\u0935\\u0915\\u094b\\u0902 \\u0915\\u0947 \\u0926\\u094d\\u0935\\u093e\\u0930\\u093e \\u0938\\u0939\\u092f\\u094b\\u0917 \\u0938\\u0947 \\u0935\\u093f\\u0915\\u093f\\u092a\\u0940\\u0921\\u093f\\u092f\\u093e \\u0915\\u0947 1.3 \\u0915\\u0930\\u094b\\u0921\\u093c \\u0932\\u0947\\u0916 (29 \\u0932\\u093e\\u0916 \\u0905\\u0902\\u0917\\u094d\\u0930\\u0947\\u091c\\u0940 \\u0935\\u093f\\u0915\\u093f\\u092a\\u0940\\u0921\\u093f\\u092f\\u093e \\u092e\\u0947\\u0902) \\u0932\\u093f\\u0916\\u0947 \\u0917\\u090f \\u0939\\u0948\\u0902 \\u0914\\u0930 \\u0907\\u0938\\u0915\\u0947 \\u0932\\u0917\\u092d\\u0917 \\u0938\\u092d\\u0940 \\u0932\\u0947\\u0916\\u094b\\u0902 \\u0915\\u094b \\u0935\\u0939 \\u0915\\u094b\\u0908 \\u092d\\u0940 \\u0935\\u094d\\u092f\\u0915\\u094d\\u0924\\u093f \\u0938\\u0902\\u092a\\u093e\\u0926\\u093f\\u0924 \\u0915\\u0930 \\u0938\\u0915\\u0924\\u093e \\u0939\\u0948, \\u091c\\u094b \\u0935\\u093f\\u0915\\u093f\\u092a\\u0940\\u0921\\u093f\\u092f\\u093e \\u0935\\u0947\\u092c\\u0938\\u093e\\u0908\\u091f \\u0915\\u093e \\u0909\\u092a\\u092f\\u094b\\u0917 \\u0915\\u0930 \\u0938\\u0915\\u0924\\u093e \\u0939\\u0948\\u0964 [6] \\u0907\\u0938\\u0947 \\u091c\\u0928\\u0935\\u0930\\u0940 2001 \\u092e\\u0947\\u0902 \\u091c\\u093f\\u092e\\u094d\\u092e\\u0940 \\u0935\\u0947\\u0932\\u094d\\u0938 \\u0914\\u0930 \\u0932\\u0947\\u0930\\u0940 \\u0938\\u0947\\u0902\\u0917\\u0930 \\u0915\\u0947 \\u0926\\u094d\\u0935\\u093e\\u0930\\u093e \\u092a\\u094d\\u0930\\u093e\\u0930\\u0902\\u092d (\\u092a\\u094d\\u0930\\u093e\\u0930\\u092e\\u094d\\u092d) \\u0915\\u093f\\u092f\\u093e \\u0917\\u092f\\u093e,[7] \\u092f\\u0939 \\u0935\\u0930\\u094d\\u0924\\u092e\\u093e\\u0928 \\u092e\\u0947\\u0902 \\u0907\\u0902\\u091f\\u0930\\u0928\\u0947\\u091f (\\u0907\\u0923\\u094d\\u091f\\u0930\\u0928\\u0947\\u091f) \\u092a\\u0930 \\u0938\\u092c\\u0938\\u0947 \\u0932\\u094b\\u0915\\u092a\\u094d\\u0930\\u093f\\u092f \\u0938\\u0902\\u0926\\u0930\\u094d\\u092d\\u093f\\u0924 \\u0915\\u093e\\u0930\\u094d\\u092f \\u0939\\u0948\\u0964 \\n[3][8][9][10] \\u0935\\u093f\\u0915\\u093f\\u092a\\u0940\\u0921\\u093f\\u092f\\u093e \\u0915\\u0947 \\u0906\\u0932\\u094b\\u091a\\u0915 \\u0907\\u0938\\u0947 \\u0935\\u094d\\u092f\\u0935\\u0938\\u094d\\u0925\\u093f\\u0924 \\u092a\\u0942\\u0930\\u094d\\u0935\\u093e\\u0917\\u094d\\u0930\\u0939 \\u0914\\u0930 \\u0905\\u0938\\u0902\\u0917\\u0924\\u093f\\u092f\\u094b\\u0902 \\u0915\\u094b \\u0926\\u094b\\u0937\\u0940 \\u0920\\u0939\\u0930\\u093e\\u0924\\u0947 \\u0939\\u0948\\u0902,[11] \\u0914\\u0930 \\u0906\\u0930\\u094b\\u092a \\u0932\\u0917\\u0924\\u0947 \\u0939\\u0948\\u0902 \\u0915\\u093f \\u092f\\u0939 \\u0907\\u0938\\u0915\\u0940 \\u0938\\u092e\\u094d\\u092a\\u093e\\u0926\\u0915\\u0940\\u092f \\u092a\\u094d\\u0930\\u0915\\u094d\\u0930\\u093f\\u092f\\u093e \\u092e\\u0947\\u0902 \\u0909\\u092a\\u0932\\u092c\\u094d\\u0927\\u093f\\u092f\\u094b\\u0902 \\u092a\\u0930 \\u0938\\u0939\\u092e\\u0924\\u093f \\u0915\\u093e \\u092a\\u0915\\u094d\\u0937 \\u0932\\u0947\\u0924\\u0940 \\u0939\\u0948\\u0964[12]\\n[13] \\u0935\\u093f\\u0915\\u093f\\u092a\\u0940\\u0921\\u093f\\u092f\\u093e \\u0915\\u0940 \\u0935\\u093f\\u0936\\u094d\\u0935\\u0938\\u0928\\u0940\\u092f\\u0924\\u093e \\u0914\\u0930 \\u0938\\u091f\\u0940\\u0915\\u0924\\u093e \\u092d\\u0940 \\u090f\\u0915 \\u092e\\u0941\\u0926\\u094d\\u0926\\u093e \\u0939\\u0948\\u0964[14][15] \\u0905\\u0928\\u094d\\u092f \\u0906\\u0932\\u094b\\u091a\\u0928\\u093e\\u0913\\u0902 \\u0915\\u0947 \\u0905\\u0928\\u0941\\u0938\\u093e\\u0930 \\u0928\\u0915\\u0932\\u0940 \\u092f\\u093e \\u0905\\u0938\\u0924\\u094d\\u092f\\u093e\\u092a\\u093f\\u0924 \\u091c\\u093e\\u0928\\u0915\\u093e\\u0930\\u0940 \\u0915\\u093e \\u0938\\u092e\\u093e\\u0935\\u0947\\u0936 \\u0914\\u0930 \\u0935\\u093f\\u0927\\u094d\\u0935\\u0902\\u0938\\u0915 \\u092a\\u094d\\u0930\\u0935\\u0943\\u0924\\u093f \\u092d\\u0940 \\u0907\\u0938\\u0915\\u0947 \\u0926\\u094b\\u0937 \\u0939\\u0948\\u0902,[16] \\u0939\\u093e\\u0932\\u093e\\u0901\\u0915\\u093f \\u0935\\u093f\\u0926\\u094d\\u0935\\u093e\\u0928\\u094b\\u0902 \\u0915\\u0947 \\u0926\\u094d\\u0935\\u093e\\u0930\\u093e \\u0915\\u093f\\u092f\\u0947 \\u0917\\u090f \\u0915\\u093e\\u0930\\u094d\\u092f \\u092c\\u0924\\u093e\\u0924\\u0947 \\u0939\\u0948\\u0902 \\u0915\\u093f \\u0935\\u093f\\u0927\\u094d\\u0935\\u0902\\u0938\\u0915 \\u092a\\u094d\\u0930\\u0935\\u0943\\u0924\\u093f \\u0906\\u092e\\u0924\\u094c\\u0930 \\u092a\\u0930 \\u0905\\u0932\\u094d\\u092a\\u0915\\u093e\\u0932\\u093f\\u0915 \\u0939\\u094b\\u0924\\u0940 \\u0939\\u0948\\u0964 \\n[17][18] \\u0914\\u0930 \\u090f\\u0902\\u0921\\u094d\\u0930\\u092f\\u0942 \\u0932\\u093f\\u0939 \\u0928\\u0947 \\u0911\\u0928\\u0932\\u093e\\u0907\\u0928 \\u092a\\u0924\\u094d\\u0930\\u0915\\u093e\\u0930\\u093f\\u0924\\u093e \\u092a\\u0930 \\u092a\\u093e\\u0902\\u091a\\u0935\\u0940\\u0902 \\u0905\\u0928\\u094d\\u0924\\u0930\\u094d\\u0930\\u093e\\u0937\\u094d\\u091f\\u094d\\u0930\\u0940\\u092f \\u0938\\u0902\\u0917\\u094b\\u0937\\u094d\\u0920\\u0940 \\u092e\\u0947\\u0902,[19] \\u0935\\u093f\\u0915\\u093f\\u092a\\u0940\\u0921\\u093f\\u092f\\u093e \\u0915\\u0947 \\u092e\\u0939\\u0924\\u094d\\u0924\\u094d\\u0935 \\u0915\\u094b \\u0928 \\u0915\\u0947\\u0935\\u0932 \\u090f\\u0915 \\u0935\\u093f\\u0936\\u094d\\u0935\\u0915\\u094b\\u0936 \\u0915\\u0947 \\u0938\\u0928\\u094d\\u0926\\u0930\\u094d\\u092d \\u092e\\u0947\\u0902 \\u0935\\u0930\\u094d\\u0923\\u093f\\u0924 \\u0915\\u093f\\u092f\\u093e \\u092c\\u0932\\u094d\\u0915\\u093f \\u0907\\u0938\\u0947 \\u090f\\u0915 \\u092c\\u093e\\u0930 \\u092c\\u093e\\u0930 \\u0905\\u0926\\u094d\\u092f\\u0924\\u0928 \\u0939\\u094b\\u0928\\u0947 \\u0935\\u093e\\u0932\\u0947 \\u0938\\u092e\\u093e\\u091a\\u093e\\u0930 \\u0938\\u094d\\u0930\\u094b\\u0924 \\u0915\\u0947 \\u0930\\u0942\\u092a \\u092e\\u0947\\u0902 \\u092d\\u0940 \\u0935\\u0930\\u094d\\u0923\\u093f\\u0924 \\u0915\\u093f\\u092f\\u093e \\u0915\\u094d\\u092f\\u094b\\u0902\\u0915\\u093f \\u092f\\u0939 \\u0939\\u093e\\u0932 \\u092e\\u0947\\u0902 \\u0939\\u0941\\u0908 \\u0918\\u091f\\u0928\\u093e\\u0913\\u0902 \\u0915\\u0947 \\u092c\\u093e\\u0930\\u0947 \\u092e\\u0947\\u0902 \\u092c\\u0939\\u0941\\u0924 \\u091c\\u0932\\u094d\\u0926\\u0940 \\u0932\\u0947\\u0916 \\u092a\\u094d\\u0930\\u0938\\u094d\\u0924\\u0941\\u0924 \\u0915\\u0930\\u0924\\u093e \\u0939\\u0948\\u0964 \\u091c\\u092c \\u091f\\u093e\\u0907\\u092e \\u092a\\u0924\\u094d\\u0930\\u093f\\u0915\\u093e \\u0928\\u0947 \\u092f\\u0942 (You) \\u0915\\u094b \\u0935\\u0930\\u094d\\u0937 2006 \\u0915\\u0947 \\u0932\\u093f\\u090f \\u092a\\u0930\\u094d\\u0938\\u0928 \\u0911\\u092b\\u093c \\u0926 \\u0907\\u092f\\u0930 \\u0915\\u0940 \\u092e\\u093e\\u0928\\u094d\\u092f\\u0924\\u093e \\u0926\\u0940 \\u0914\\u0930 \\u092c\\u0924\\u093e\\u092f\\u093e \\u0915\\u093f \\u0926\\u0941\\u0928\\u093f\\u092f\\u093e \\u092d\\u0930 \\u092e\\u0947\\u0902 \\u0915\\u0908 \\u092e\\u093f\\u0932\\u093f\\u092f\\u0928 \\u0909\\u092a\\u092f\\u094b\\u0917\\u0915\\u0930\\u094d\\u0924\\u093e\\u0913\\u0902 \\u0915\\u0947 \\u0926\\u094d\\u0935\\u093e\\u0930\\u093e \\u0907\\u0938\\u0915\\u093e \\u0909\\u092a\\u092f\\u094b\\u0917 \\u0915\\u093f\\u092f\\u093e \\u091c\\u093e\\u0924\\u093e \\u0939\\u0948 \\u0914\\u0930 \\u0911\\u0928\\u0932\\u093e\\u0907\\u0928 \\u0938\\u0939\\u092f\\u094b\\u0917 \\u092e\\u0947\\u0902 \\u0907\\u0938\\u0915\\u0940 \\u092c\\u0922\\u093c\\u0924\\u0940 \\u0938\\u092b\\u0932\\u0924\\u093e \\u0915\\u094b \\u092e\\u093e\\u0928\\u094d\\u092f\\u0924\\u093e \\u0926\\u0940, \\u0907\\u0938\\u0928\\u0947 \\u0935\\u0947\\u092c 2.0 \\u0938\\u0947\\u0935\\u093e\\u0913 \\u0915\\u0947 \\u0924\\u0940\\u0928 \\u0909\\u0926\\u093e\\u0939\\u0930\\u0923\\u094b\\u0902 \\u092e\\u0947\\u0902 \\u0935\\u093f\\u0915\\u093f\\u092a\\u0940\\u0921\\u093f\\u092f\\u093e \\u0915\\u094b \\u092f\\u0942\\u091f\\u094d\\u092f\\u0942\\u092c \\u0914\\u0930 \\u092e\\u093e\\u0907\\u0938\\u094d\\u092a\\u0947\\u0938 \\u0915\\u0947 \\u0938\\u093e\\u0925 \\u0930\\u0916\\u093e\\u0964 \\n[20] \\u0935\\u093f\\u0915\\u093f\\u092a\\u0940\\u0921\\u093f\\u092f\\u093e, \\u0928\\u094d\\u092f\\u0942\\u092a\\u0940\\u0921\\u093f\\u092f\\u093e (Nupedia) \\u0915\\u0947 \\u0932\\u093f\\u090f \\u090f\\u0915 \\u092a\\u0942\\u0930\\u0915 \\u092a\\u0930\\u093f\\u092f\\u094b\\u091c\\u0928\\u093e \\u0915\\u0947 \\u0930\\u0942\\u092a \\u092e\\u0947\\u0902 \\u0936\\u0941\\u0930\\u0942 \\u0939\\u0941\\u0908, \\u091c\\u094b \\u090f\\u0915 \\u092e\\u0941\\u092b\\u094d\\u0924 \\u0911\\u0928\\u0932\\u093e\\u0907\\u0928 \\u0905\\u0902\\u0917\\u094d\\u0930\\u0947\\u091c\\u0940 \\u092d\\u093e\\u0937\\u093e \\u0915\\u0940 \\u0935\\u093f\\u0936\\u094d\\u0935\\u0915\\u094b\\u0936 \\u092a\\u0930\\u093f\\u092f\\u094b\\u091c\\u0928\\u093e \\u0939\\u0948, \\u091c\\u093f\\u0938\\u0915\\u0947 \\u0932\\u0947\\u0916\\u094b\\u0902 \\u0915\\u094b \\u0935\\u093f\\u0936\\u0947\\u0937\\u091c\\u094d\\u091e\\u094b\\u0902 \\u0915\\u0947 \\u0926\\u094d\\u0935\\u093e\\u0930\\u093e \\u0932\\u093f\\u0916\\u093e \\u0917\\u092f\\u093e \\u0914\\u0930 \\u090f\\u0915 \\u0914\\u092a\\u091a\\u093e\\u0930\\u093f\\u0915 \\u092a\\u094d\\u0930\\u0915\\u094d\\u0930\\u093f\\u092f\\u093e \\u0915\\u0947 \\u0924\\u0939\\u0924 \\u0907\\u0938\\u0915\\u0940 \\u0938\\u092e\\u0940\\u0915\\u094d\\u0937\\u093e \\u0915\\u0940 \\u0917\\u092f\\u0940\\u0964 \\u0928\\u094d\\u092f\\u0942\\u092a\\u0940\\u0921\\u093f\\u092f\\u093e \\u0915\\u0940 \\u0938\\u094d\\u0925\\u093e\\u092a\\u0928\\u093e 9 \\u092e\\u093e\\u0930\\u094d\\u091a 2000 \\u0915\\u094b \\u090f\\u0915 \\u0935\\u0947\\u092c \\u092a\\u094b\\u0930\\u094d\\u091f\\u0932 \\u0915\\u092e\\u094d\\u092a\\u0928\\u0940 \\u092c\\u094b\\u092e\\u093f\\u0938, \\u0907\\u0902\\u0915 \\u0915\\u0947 \\u0938\\u094d\\u0935\\u093e\\u092e\\u093f\\u0924\\u094d\\u0935 \\u0915\\u0947 \\u0924\\u0939\\u0924 \\u0915\\u0940 \\u0917\\u092f\\u0940\\u0964 \\u0907\\u0938\\u0915\\u0947 \\u092e\\u0941\\u0916\\u094d\\u092f \\u0938\\u0926\\u0938\\u094d\\u092f \\u0925\\u0947, \\u091c\\u093f\\u092e\\u094d\\u092e\\u0940 \\u0935\\u0947\\u0932\\u094d\\u0938, \\u092c\\u094b\\u092e\\u093f\\u0938 CEO \\u0914\\u0930 \\u0932\\u0947\\u0930\\u0940 \\u0938\\u0947\\u0902\\u0917\\u0930, \\u0928\\u094d\\u092f\\u0942\\u092a\\u0940\\u0921\\u093f\\u092f\\u093e \\u0915\\u0947 \\u090f\\u0921\\u093f\\u091f\\u0930-\\u0907\\u0928-\\u091a\\u0940\\u092b \\u0914\\u0930 \\u092c\\u093e\\u0926 \\u0915\\u0947 \\u0935\\u093f\\u0915\\u093f\\u092a\\u0940\\u0921\\u093f\\u092f\\u093e\\u0964 \\n\\u092a\\u094d\\u0930\\u093e\\u0930\\u0902\\u092d \\u092e\\u0947\\u0902 \\u0928\\u094d\\u092f\\u0942\\u092a\\u0940\\u0921\\u093f\\u092f\\u093e \\u0915\\u094b \\u0907\\u0938\\u0915\\u0947 \\u0905\\u092a\\u0928\\u0947 \\u0928\\u094d\\u092f\\u0942\\u092a\\u0940\\u0921\\u093f\\u092f\\u093e \\u0913\\u092a\\u0928 \\u0915\\u0902\\u091f\\u0947\\u0902\\u091f \\u0932\\u093e\\u0907\\u0938\\u0947\\u0902\\u0938 \\u0915\\u0947 \\u0924\\u0939\\u0924 \\u0932\\u093e\\u0907\\u0938\\u0947\\u0902\\u0938 \\u0926\\u093f\\u092f\\u093e \\u0917\\u092f\\u093e \\u0914\\u0930 \\u0930\\u093f\\u091a\\u0930\\u094d\\u0921 \\u0938\\u094d\\u091f\\u093e\\u0932\\u092e\\u0947\\u0928 \\u0915\\u0947 \\u0938\\u0941\\u091d\\u093e\\u0935 \\u092a\\u0930 \\u0935\\u093f\\u0915\\u093f\\u092a\\u0940\\u0921\\u093f\\u092f\\u093e \\u0915\\u0940 \\u0938\\u094d\\u0925\\u093e\\u092a\\u0928\\u093e \\u0938\\u0947 \\u092a\\u0939\\u0932\\u0947 \\u0907\\u0938\\u0947 GNU \\u0915\\u0947 \\u092e\\u0941\\u092b\\u094d\\u0924 \\u0921\\u094b\\u0915\\u094d\\u092f\\u0941\\u092e\\u0947\\u0902\\u091f\\u0947\\u0936\\u0928 \\u0932\\u093e\\u0907\\u0938\\u0947\\u0902\\u0938 \\u092e\\u0947\\u0902 \\u092c\\u0926\\u0932 \\u0926\\u093f\\u092f\\u093e \\u0917\\u092f\\u093e\\u0964 \\n[21] \\u0932\\u0948\\u0930\\u0940 \\u0938\\u0947\\u0902\\u0917\\u0930 \\u0914\\u0930 \\u091c\\u093f\\u092e\\u094d\\u092e\\u0940 \\u0935\\u0947\\u0932\\u094d\\u0938 \\u0935\\u093f\\u0915\\u093f\\u092a\\u0940\\u0921\\u093f\\u092f\\u093e (Wikipedia) \\u0915\\u0947 \\u0938\\u0902\\u0938\\u094d\\u0925\\u093e\\u092a\\u0915 \\u0939\\u0948\\u0902\\u0964 [22][23] \\u091c\\u0939\\u093e\\u0901 \\u090f\\u0915 \\u0913\\u0930 \\u0935\\u0947\\u0932\\u094d\\u0938 \\u0915\\u094b \\u0938\\u093e\\u0930\\u094d\\u0935\\u091c\\u0928\\u093f\\u0915 \\u0930\\u0942\\u092a \\u0938\\u0947 \\u0938\\u0902\\u092a\\u093e\\u0926\\u0928 \\u092f\\u094b\\u0917\\u094d\\u092f \\u0935\\u093f\\u0936\\u094d\\u0935\\u0915\\u094b\\u0936 \\u0915\\u0947 \\u0928\\u093f\\u0930\\u094d\\u092e\\u093e\\u0923 \\u0915\\u0947 \\u0909\\u0926\\u094d\\u0926\\u0947\\u0936\\u094d\\u092f \\u0915\\u094b \\u092a\\u0930\\u093f\\u092d\\u093e\\u0937\\u093f\\u0924 \\u0915\\u0930\\u0928\\u0947 \\u0915\\u0947 \\u0936\\u094d\\u0930\\u0947\\u092f \\u0926\\u093f\\u092f\\u093e \\u091c\\u093e\\u0924\\u093e \\u0939\\u0948,[24][25] \\u0938\\u0947\\u0902\\u0917\\u0930 \\u0915\\u094b \\u0906\\u092e\\u0924\\u094c\\u0930 \\u092a\\u0930 \\u0907\\u0938 \\u0909\\u0926\\u094d\\u0926\\u0947\\u0936\\u094d\\u092f \\u0915\\u094b \\u092a\\u0942\\u0930\\u093e \\u0915\\u0930\\u0928\\u0947 \\u0915\\u0947 \\u0932\\u093f\\u090f \\u090f\\u0915 \\u0935\\u093f\\u0915\\u0940 \\u0915\\u0940 \\u0930\\u0923\\u0928\\u0940\\u0924\\u093f \\u0915\\u093e \\u0909\\u092a\\u092f\\u094b\\u0917 \\u0915\\u0930\\u0928\\u0947 \\u0915\\u093e \\u0936\\u094d\\u0930\\u0947\\u092f \\u0926\\u093f\\u092f\\u093e \\u091c\\u093e\\u0924\\u093e \\u0939\\u0948\\u0964 [26] 10 \\u091c\\u0928\\u0935\\u0930\\u0940 2001 \\u0915\\u094b, \\u0932\\u0947\\u0930\\u0940 \\u0938\\u0947\\u0902\\u0917\\u0930 \\u0928\\u0947 \\u0928\\u094d\\u092f\\u0942\\u092a\\u0940\\u0921\\u093f\\u092f\\u093e \\u0915\\u0947 \\u0932\\u093f\\u090f \\u090f\\u0915 \\\"\\u092b\\u0940\\u0921\\u0930 \\u092a\\u0930\\u093f\\u092f\\u094b\\u091c\\u0928\\u093e\\\" \\u0915\\u0947 \\u0930\\u0942\\u092a \\u092e\\u0947\\u0902 \\u090f\\u0915 \\u0935\\u093f\\u0915\\u0940 \\u0915\\u093e \\u0928\\u093f\\u0930\\u094d\\u092e\\u093e\\u0923 \\u0915\\u0930\\u0928\\u0947 \\u0915\\u0947 \\u0932\\u093f\\u090f \\u0928\\u094d\\u092f\\u0942\\u092a\\u0940\\u0921\\u093f\\u092f\\u093e \\u092e\\u0947\\u0932\\u093f\\u0902\\u0917 \\u0938\\u0942\\u091a\\u0940 \\u0915\\u0940 \\u092a\\u094d\\u0930\\u0938\\u094d\\u0924\\u093e\\u0935\\u0928\\u093e \\u0926\\u0940\\u0964 \\n[27]\\n\\u0935\\u093f\\u0915\\u093f\\u092a\\u0940\\u0921\\u093f\\u092f\\u093e \\u0915\\u094b \\u0914\\u092a\\u091a\\u093e\\u0930\\u093f\\u0915 \\u0930\\u0942\\u092a \\u0938\\u0947 15 \\u091c\\u0928\\u0935\\u0930\\u0940 2001 \\u0915\\u094b, www.wikipedia.com \\u092a\\u0930 \\u090f\\u0915\\u092e\\u093e\\u0924\\u094d\\u0930 \\u0905\\u0902\\u0917\\u094d\\u0930\\u0947\\u091c\\u0940 \\u092d\\u093e\\u0937\\u093e \\u0915\\u0947 \\u0938\\u0902\\u0938\\u094d\\u0915\\u0930\\u0923 \\u0915\\u0947 \\u0930\\u0942\\u092a \\u092e\\u0947\\u0902 \\u0936\\u0941\\u0930\\u0942 \\u0915\\u093f\\u092f\\u093e \\u0917\\u092f\\u093e\\u0964[28] \\u0913\\u0930 \\u0907\\u0938\\u0915\\u0940 \\u0918\\u094b\\u0937\\u0923\\u093e \\u0928\\u094d\\u092f\\u0942\\u092a\\u0940\\u0921\\u093f\\u092f\\u093e \\u092e\\u0947\\u0932\\u093f\\u0902\\u0917 \\u0938\\u0942\\u091a\\u0940 \\u092a\\u0930 \\u0938\\u0947\\u0902\\u0917\\u0930 \\u0915\\u0947 \\u0926\\u094d\\u0935\\u093e\\u0930\\u093e \\u0915\\u0940 \\u0917\\u092f\\u0940\\u0964 \\n[24] \\u0935\\u093f\\u0915\\u093f\\u092a\\u0940\\u0921\\u093f\\u092f\\u093e \\u0915\\u0940 \\\"\\u0928\\u094d\\u092f\\u0942\\u091f\\u094d\\u0930\\u0932 \\u092a\\u0949\\u0907\\u0902\\u091f \\u0911\\u092b\\u093c \\u0935\\u094d\\u092f\\u0942\\\"[29] \\u0915\\u0940 \\u0928\\u0940\\u0924\\u093f \\u0915\\u094b \\u0907\\u0938\\u0915\\u0947 \\u092a\\u094d\\u0930\\u093e\\u0930\\u0902\\u092d\\u093f\\u0915 \\u092e\\u0939\\u0940\\u0928\\u094b\\u0902 \\u092e\\u0947\\u0902 \\u0938\\u0902\\u0915\\u0947\\u0924\\u092c\\u0926\\u094d\\u0927 \\u0915\\u093f\\u092f\\u093e \\u0917\\u092f\\u093e, \\u0913\\u0930 \\u092f\\u0939 \\u0928\\u094d\\u092f\\u0942\\u092a\\u0940\\u0921\\u093f\\u092f\\u093e \\u0915\\u0940 \\u092a\\u094d\\u0930\\u093e\\u0930\\u0902\\u092d\\u093f\\u0915 \\\"\\u092a\\u0915\\u094d\\u0937\\u092a\\u093e\\u0924\\u0939\\u0940\\u0928\\\" \\u0928\\u0940\\u0924\\u093f \\u0915\\u0947 \\u0938\\u092e\\u093e\\u0928 \\u0925\\u0940\\u0964 \\n\\u0905\\u0928\\u094d\\u092f\\u0925\\u093e, \\u092a\\u094d\\u0930\\u093e\\u0930\\u0902\\u092d \\u092e\\u0947\\u0902 \\u0905\\u092a\\u0947\\u0915\\u094d\\u0937\\u093e\\u0915\\u0943\\u0924 \\u0915\\u092e \\u0928\\u093f\\u092f\\u092e \\u0925\\u0947 \\u0914\\u0930 \\u0935\\u093f\\u0915\\u093f\\u092a\\u0940\\u0921\\u093f\\u092f\\u093e \\u0928\\u094d\\u092f\\u0942\\u092a\\u0940\\u0921\\u093f\\u092f\\u093e \\u0938\\u0947 \\u0938\\u094d\\u0935\\u0924\\u0902\\u0924\\u094d\\u0930 \\u0930\\u0942\\u092a \\u0938\\u0947 \\u0915\\u093e\\u0930\\u094d\\u092f \\u0915\\u0930\\u0924\\u0940 \\u0925\\u0940\\u0964 [24] \\u0935\\u093f\\u0915\\u093f\\u092a\\u0940\\u0921\\u093f\\u092f\\u093e \\u0928\\u0947 \\u0928\\u094d\\u092f\\u0942\\u092a\\u0940\\u0921\\u093f\\u092f\\u093e \\u0938\\u0947 \\u092a\\u094d\\u0930\\u093e\\u0930\\u0902\\u092d\\u093f\\u0915 \\u092f\\u094b\\u0917\\u0926\\u093e\\u0928\\u0915\\u0930\\u094d\\u0924\\u093e \\u092a\\u094d\\u0930\\u093e\\u092a\\u094d\\u0924 \\u0915\\u093f\\u092f\\u0947, \\u092f\\u0947 \\u0925\\u0947 \\u0938\\u094d\\u0932\\u0947\\u0936\\u0921\\u0949\\u091f \\u092a\\u094b\\u0938\\u094d\\u091f\\u093f\\u0902\\u0917 \\u0914\\u0930 \\u0938\\u0930\\u094d\\u091a \\u0907\\u0902\\u091c\\u0928 \\u0907\\u0902\\u0921\\u0947\\u0915\\u094d\\u0938\\u093f\\u0902\\u0917\\u0964 \\n2001 \\u0915\\u0947 \\u0905\\u0902\\u0924 \\u0924\\u0915 \\u0907\\u0938\\u0915\\u0947 \\u0932\\u0917\\u092d\\u0917 20,000 \\u0932\\u0947\\u0916 \\u0914\\u0930 18 \\u092d\\u093e\\u0937\\u093e\\u0913\\u0901 \\u0915\\u0947 \\u0938\\u0902\\u0938\\u094d\\u0915\\u0930\\u0923 \\u0939\\u094b \\u091a\\u0941\\u0915\\u0947 \\u0925\\u0947\\u0964 2002 \\u0915\\u0947 \\u0905\\u0902\\u0924 \\u0924\\u0915 \\u0907\\u0938\\u0915\\u0947 26 \\u092d\\u093e\\u0937\\u093e\\u0913\\u0901 \\u0915\\u0947 \\u0938\\u0902\\u0938\\u094d\\u0915\\u0930\\u0923 \\u0939\\u094b \\u0917\\u090f, 2003 \\u0915\\u0947 \\u0905\\u0902\\u0924 \\u0924\\u0915 46 \\u0914\\u0930 2004 \\u0915\\u0947 \\u0905\\u0902\\u0924\\u093f\\u092e \\u0926\\u093f\\u0928\\u094b\\u0902 \\u0924\\u0915 161 \\u092d\\u093e\\u0937\\u093e\\u0913\\u0901 \\u0915\\u0947 \\u0938\\u0902\\u0938\\u094d\\u0915\\u0930\\u0923 \\u0939\\u094b \\u0917\\u090f\\u0964[30] \\u0928\\u094d\\u092f\\u0942\\u092a\\u0940\\u0921\\u093f\\u092f\\u093e \\u0914\\u0930 \\u0935\\u093f\\u0915\\u093f\\u092a\\u0940\\u0921\\u093f\\u092f\\u093e \\u0924\\u092c \\u0924\\u0915 \\u090f\\u0915 \\u0938\\u093e\\u0925 \\u0909\\u092a\\u0938\\u094d\\u0925\\u093f\\u0924 \\u0925\\u0947 \\u091c\\u092c \\u092a\\u0939\\u0932\\u0947 \\u0935\\u093e\\u0932\\u0947 \\u0915\\u0947 \\u0938\\u0930\\u094d\\u0935\\u0930 \\u0915\\u094b \\u0938\\u094d\\u0925\\u093e\\u092f\\u0940 \\u0930\\u0942\\u092a \\u0938\\u0947 2003 \\u092e\\u0947\\u0902 \\u0921\\u093e\\u0909\\u0928 \\u0915\\u0930 \\u0926\\u093f\\u092f\\u093e \\u0917\\u092f\\u093e \\u0914\\u0930 \\u0907\\u0938\\u0915\\u0947 \\u092a\\u093e\\u0920\\u094d\\u092f \\u0915\\u094b \\u0935\\u093f\\u0915\\u093f\\u092a\\u0940\\u0921\\u093f\\u092f\\u093e \\u092e\\u0947\\u0902 \\u0921\\u093e\\u0932 \\u0926\\u093f\\u092f\\u093e \\u0917\\u092f\\u093e\\u0964 \\n9 \\u0938\\u093f\\u0924\\u092e\\u094d\\u092c\\u0930 2007 \\u0915\\u094b \\u0905\\u0902\\u0917\\u094d\\u0930\\u0947\\u091c\\u0940 \\u0935\\u093f\\u0915\\u093f\\u092a\\u0940\\u0921\\u093f\\u092f\\u093e 2 \\u092e\\u093f\\u0932\\u093f\\u092f\\u0928 \\u0932\\u0947\\u0916 \\u0915\\u0940 \\u0938\\u0902\\u0916\\u094d\\u092f\\u093e \\u0915\\u094b \\u092a\\u093e\\u0930 \\u0915\\u0930 \\u0917\\u092f\\u093e, \\u092f\\u0939 \\u0924\\u092c \\u0924\\u0915 \\u0915\\u093e \\u0938\\u092c\\u0938\\u0947 \\u092c\\u0921\\u093c\\u093e \\u0938\\u0902\\u0915\\u0932\\u093f\\u0924 \\u0935\\u093f\\u0936\\u094d\\u0935\\u0915\\u094b\\u0936 \\u092c\\u0928 \\u0917\\u092f\\u093e, \\u092f\\u0939\\u093e\\u0901 \\u0924\\u0915 \\u0915\\u093f \\u0907\\u0938\\u0928\\u0947 \\u092f\\u094b\\u0902\\u0917\\u0932 \\u0935\\u093f\\u0936\\u094d\\u0935\\u0915\\u094b\\u0936 \\u0915\\u0947 \\u0930\\u093f\\u0915\\u0949\\u0930\\u094d\\u0921 (1407) \\u0915\\u094b \\u092d\\u0940 \\u0924\\u094b\\u0921\\u093c \\u0926\\u093f\\u092f\\u093e, \\u091c\\u093f\\u0938\\u0928\\u0947 600 \\u0935\\u0930\\u094d\\u0937\\u094b\\u0902 \\u0915\\u0947 \\u0932\\u093f\\u090f \\u0915\\u093e\\u092f\\u092e \\u0930\\u0916\\u093e \\u0925\\u093e\\u0964 \\n[31] \\u090f\\u0915 \\u0915\\u0925\\u093f\\u0924 \\u0905\\u0902\\u0917\\u094d\\u0930\\u0947\\u091c\\u0940 \\u0915\\u0947\\u0928\\u094d\\u0926\\u094d\\u0930\\u093f\\u0924 \\u0935\\u093f\\u0915\\u093f\\u092a\\u0940\\u0921\\u093f\\u092f\\u093e \\u092e\\u0947\\u0902 \\u0928\\u093f\\u092f\\u0902\\u0924\\u094d\\u0930\\u0923 \\u0915\\u0940 \\u0915\\u092e\\u0940 \\u0914\\u0930 \\u0935\\u093e\\u0923\\u093f\\u091c\\u094d\\u092f\\u093f\\u0915 \\u0935\\u093f\\u091c\\u094d\\u091e\\u093e\\u092a\\u0928 \\u0915\\u0940 \\u0906\\u0936\\u0902\\u0915\\u093e \\u0938\\u0947, \\u0938\\u094d\\u092a\\u0947\\u0928\\u093f\\u0936 \\u0935\\u093f\\u0915\\u093f\\u092a\\u0940\\u0921\\u093f\\u092f\\u093e \\u0915\\u0947 \\u0909\\u092a\\u092f\\u094b\\u0917\\u0915\\u0930\\u094d\\u0924\\u093e \\u092b\\u0930\\u0935\\u0930\\u0940 2002 \\u092e\\u0947\\u0902 Enciclopedia Libre \\u0915\\u0947 \\u0928\\u093f\\u0930\\u094d\\u092e\\u093e\\u0923 \\u0915\\u0947 \\u0932\\u093f\\u090f \\u0935\\u093f\\u0915\\u093f\\u092a\\u0940\\u0921\\u093f\\u092f\\u093e \\u0938\\u0947 \\u0905\\u0932\\u0917 \\u0939\\u094b \\u0917\\u090f\\u0964[32] \\u092c\\u093e\\u0926 \\u092e\\u0947\\u0902 \\u0909\\u0938\\u0940 \\u0935\\u0930\\u094d\\u0937, \\u0935\\u0947\\u0932\\u094d\\u0938 \\u0928\\u0947 \\u0918\\u094b\\u0937\\u093f\\u0924 \\u0915\\u093f\\u092f\\u093e \\u0915\\u093f \\u0935\\u093f\\u0915\\u093f\\u092a\\u0940\\u0921\\u093f\\u092f\\u093e \\u0935\\u093f\\u091c\\u094d\\u091e\\u093e\\u092a\\u0928\\u094b\\u0902 \\u0915\\u093e \\u092a\\u094d\\u0930\\u0926\\u0930\\u094d\\u0936\\u0928 \\u0928\\u0939\\u0940\\u0902 \\u0915\\u0930\\u0947\\u0917\\u093e \\u0914\\u0930 \\u0907\\u0938\\u0915\\u0940 \\u0935\\u0947\\u092c\\u0938\\u093e\\u0908\\u091f \\u0915\\u094b wikipedia.org \\u092e\\u0947\\u0902 \\u0938\\u094d\\u0925\\u093e\\u0928\\u093e\\u0902\\u0924\\u0930\\u093f\\u0924 \\u0915\\u0930 \\u0926\\u093f\\u092f\\u093e \\u0917\\u092f\\u093e\\u0964 [33] \\u0924\\u092c \\u0938\\u0947 \\u0915\\u0908 \\u0905\\u0928\\u094d\\u092f \\u092a\\u0930\\u093f\\u092f\\u094b\\u091c\\u0928\\u093e\\u0913\\u0902 \\u0915\\u094b \\u0938\\u092e\\u094d\\u092a\\u093e\\u0926\\u0915\\u0940\\u092f \\u0915\\u093e\\u0930\\u0923\\u094b\\u0902 \\u0938\\u0947 \\u0935\\u093f\\u0915\\u093f\\u092a\\u0940\\u0921\\u093f\\u092f\\u093e \\u0938\\u0947 \\u0905\\u0932\\u0917 \\u0915\\u093f\\u092f\\u093e \\u0917\\u092f\\u093e \\u0939\\u0948\\u0964 \\u0935\\u093f\\u0915\\u093f\\u0907\\u0928\\u094d\\u092b\\u094b \\u0915\\u0947 \\u0932\\u093f\\u090f \\u0915\\u093f\\u0938\\u0940 \\u0909\\u0926\\u093e\\u0938\\u0940\\u0928 \\u0926\\u0943\\u0937\\u094d\\u091f\\u093f\\u0915\\u094b\\u0923 \\u0915\\u0940 \\u0906\\u0935\\u0936\\u094d\\u092f\\u0915\\u0924\\u093e \\u0928\\u0939\\u0940\\u0902 \\u0939\\u094b\\u0924\\u0940 \\u0939\\u0948 \\u0914\\u0930 \\u092f\\u0939 \\u092e\\u0942\\u0932 \\u0905\\u0928\\u0941\\u0938\\u0902\\u0927\\u093e\\u0928 \\u0915\\u0940 \\u0905\\u0928\\u0941\\u092e\\u0924\\u093f \\u0926\\u0947\\u0924\\u093e \\u0939\\u0948\\u0964 \\u0935\\u093f\\u0915\\u093f\\u092a\\u0940\\u0921\\u093f\\u092f\\u093e \\u0938\\u0947 \\u092a\\u094d\\u0930\\u0947\\u0930\\u093f\\u0924 \\u0928\\u092f\\u0940 \\u092a\\u0930\\u093f\\u092f\\u094b\\u091c\\u0928\\u093e\\u090f\\u0902-\\u091c\\u0948\\u0938\\u0947 \\u0938\\u093f\\u091f\\u0940\\u091c\\u0947\\u0902\\u0921\\u093f\\u092f\\u092e (Citizendium), \\u0938\\u094d\\u0915\\u0949\\u0932\\u0930\\u092a\\u0940\\u0921\\u093f\\u092f\\u093e (Scholarpedia), \\u0915\\u0902\\u091c\\u0930\\u094d\\u0935\\u093e\\u092a\\u0940\\u0921\\u093f\\u092f\\u093e (Conservapedia) \\u0914\\u0930 \\u0917\\u0942\\u0917\\u0932\\u094d\\u0938 \\u0928\\u094b\\u0932 (Knol)[\\u0915\\u0943\\u092a\\u092f\\u093e \\u0909\\u0926\\u094d\\u0927\\u0930\\u0923 \\u091c\\u094b\\u0921\\u093c\\u0947\\u0902]-\\u0935\\u093f\\u0915\\u093f\\u092a\\u0940\\u0921\\u093f\\u092f\\u093e \\u0915\\u0940 \\u0915\\u0925\\u093f\\u0924 \\u0938\\u0940\\u092e\\u093e\\u0913\\u0902 \\u0915\\u094b \\u0938\\u0902\\u092c\\u094b\\u0927\\u093f\\u0924 \\u0915\\u0930\\u0928\\u0947 \\u0915\\u0947 \\u0932\\u093f\\u090f \\u0936\\u0941\\u0930\\u0942 \\u0915\\u0940 \\u0917\\u092f\\u0940 \\u0939\\u0948\\u0902, \\u091c\\u0948\\u0938\\u0947 \\u0938\\u0939\\u0915\\u0930\\u094d\\u092e\\u0940 \\u0938\\u092e\\u0940\\u0915\\u094d\\u0937\\u093e, \\u092e\\u0942\\u0932 \\u0905\\u0928\\u0941\\u0938\\u0902\\u0927\\u093e\\u0928 \\u0914\\u0930 \\u0935\\u093e\\u0923\\u093f\\u091c\\u094d\\u092f\\u093f\\u0915 \\u0935\\u093f\\u091c\\u094d\\u091e\\u093e\\u092a\\u0928\\u092a\\u0930 \\u0907\\u0938\\u0915\\u0940 \\u0928\\u0940\\u0924\\u093f\\u092f\\u093e\\u0902\\u0964 \\u0935\\u093f\\u0915\\u093f\\u092a\\u0940\\u0921\\u093f\\u092f\\u093e \\u092b\\u093e\\u0909\\u0902\\u0921\\u0947\\u0936\\u0928 \\u0915\\u093e \\u0928\\u093f\\u0930\\u094d\\u092e\\u093e\\u0923 20 \\u091c\\u0942\\u0928 2003 \\u0915\\u094b \\u0935\\u093f\\u0915\\u093f\\u092a\\u0940\\u0921\\u093f\\u092f\\u093e \\u0914\\u0930 \\u0928\\u094d\\u092f\\u0942\\u092a\\u0940\\u0921\\u093f\\u092f\\u093e \\u0938\\u0947 \\u0915\\u093f\\u092f\\u093e \\u0917\\u092f\\u093e\\u0964 [34] \\u0907\\u0938\\u0947 17 \\u0938\\u093f\\u0924\\u092e\\u094d\\u092c\\u0930 2004 \\u0915\\u094b \\u0935\\u093f\\u0915\\u093f\\u092a\\u0940\\u0921\\u093f\\u092f\\u093e \\u0915\\u094b \\u091f\\u094d\\u0930\\u0947\\u0921\\u092e\\u093e\\u0930\\u094d\\u0915 \\u0915\\u0930\\u0928\\u0947 \\u0915\\u0947 \\u0932\\u093f\\u090f \\u091f\\u094d\\u0930\\u0947\\u0921\\u092e\\u093e\\u0930\\u094d\\u0915 \\u0915\\u093e\\u0930\\u094d\\u092f\\u093e\\u0932\\u092f \\u0914\\u0930 \\u0905\\u092e\\u0947\\u0930\\u093f\\u0915\\u0940 \\u092a\\u0947\\u091f\\u0947\\u0902\\u091f \\u092a\\u0930 \\u0932\\u093e\\u0917\\u0942 \\u0915\\u093f\\u092f\\u093e \\u0917\\u092f\\u093e\\u0964 \\n\\u0907\\u0938 \\u092e\\u093e\\u0930\\u094d\\u0915 \\u0915\\u094b 10 \\u091c\\u0928\\u0935\\u0930\\u0940 2006 \\u0915\\u094b \\u092a\\u0902\\u091c\\u0940\\u0915\\u0930\\u0923 \\u0915\\u093e \\u0926\\u0930\\u094d\\u091c\\u093e \\u0926\\u093f\\u092f\\u093e \\u0917\\u092f\\u093e\\u0964 16 \\u0926\\u093f\\u0938\\u092e\\u094d\\u092c\\u0930 2004 \\u0915\\u094b \\u091c\\u093e\\u092a\\u093e\\u0928 \\u0915\\u0947 \\u0926\\u094d\\u0935\\u093e\\u0930\\u093e \\u091f\\u094d\\u0930\\u0947\\u0921\\u092e\\u093e\\u0930\\u094d\\u0915 \\u0938\\u0902\\u0930\\u0915\\u094d\\u0937\\u0923 \\u0909\\u092a\\u0932\\u092c\\u094d\\u0927 \\u0915\\u0930\\u093e\\u092f\\u093e \\u0917\\u092f\\u093e \\u0914\\u0930 20 \\u091c\\u0928\\u0935\\u0930\\u0940 2005 \\u0915\\u094b \\u092f\\u0942\\u0930\\u094b\\u092a\\u0940\\u092f \\u0938\\u0902\\u0918 \\u0915\\u0947 \\u0926\\u094d\\u0935\\u093e\\u0930\\u093e \\u091f\\u094d\\u0930\\u0947\\u0921\\u092e\\u093e\\u0930\\u094d\\u0915 \\u0938\\u0902\\u0930\\u0915\\u094d\\u0937\\u0923 \\u0909\\u092a\\u0932\\u092c\\u094d\\u0927 \\u0915\\u0930\\u093e\\u092f\\u093e \\u0917\\u092f\\u093e\\u0964 \\u0924\\u0915\\u0928\\u0940\\u0915\\u0940 \\u0930\\u0942\\u092a \\u0938\\u0947 \\u090f\\u0915 \\u0938\\u0930\\u094d\\u0935\\u093f\\u0938 \\u092e\\u093e\\u0930\\u094d\\u0915, \\u092e\\u093e\\u0930\\u094d\\u0915 \\u0915\\u093e \\u0938\\u094d\\u0915\\u094b\\u092a \\\"\\u0907\\u0902\\u091f\\u0930\\u0928\\u0947\\u091f \\u0915\\u0947 \\u092e\\u093e\\u0927\\u094d\\u092f\\u092e \\u0938\\u0947 \\u0906\\u092e \\u0935\\u093f\\u0936\\u094d\\u0935\\u0915\\u094b\\u0936 \\u0915\\u0947 \\u091c\\u094d\\u091e\\u093e\\u0928 \\u0915\\u0947 \\u0915\\u094d\\u0937\\u0947\\u0924\\u094d\\u0930 \\u092e\\u0947\\u0902 \\u091c\\u093e\\u0928\\u0915\\u093e\\u0930\\u0940 \\u0915\\u0947 \\u092a\\u094d\\u0930\\u093e\\u0935\\u0927\\u093e\\u0928\\\" \\u0915\\u0947 \\u0932\\u093f\\u090f \\u0939\\u0948,[\\u0915\\u0943\\u092a\\u092f\\u093e \\u0909\\u0926\\u094d\\u0927\\u0930\\u0923 \\u091c\\u094b\\u0921\\u093c\\u0947\\u0902] \\u0915\\u0941\\u091b \\u0909\\u0924\\u094d\\u092a\\u093e\\u0926\\u094b\\u0902 \\u091c\\u0948\\u0938\\u0947 \\u092a\\u0941\\u0938\\u094d\\u0924\\u0915\\u094b\\u0902 \\u0914\\u0930 DVDs \\u0915\\u0947 \\u0932\\u093f\\u090f \\u0935\\u093f\\u0915\\u093f\\u092a\\u0940\\u0921\\u093f\\u092f\\u093e \\u091f\\u094d\\u0930\\u0947\\u0921\\u092e\\u093e\\u0930\\u094d\\u0915 \\u0915\\u0947 \\u0909\\u092a\\u092f\\u094b\\u0917 \\u0915\\u094b \\u0932\\u093e\\u0907\\u0938\\u0947\\u0902\\u0938 \\u0926\\u0947\\u0928\\u0947 \\u0915\\u0940 \\u092f\\u094b\\u091c\\u0928\\u093e\\u092f\\u0947\\u0902 \\u092c\\u0928\\u093e\\u092f\\u0940 \\u091c\\u093e \\u0930\\u0939\\u0940 \\u0939\\u0948\\u0902\\u0964 \\n[35] [[\\u091a\\u093f\\u0924\\u094d\\u0930:Wiki feel stupid v2.ogvIMAGE_OPTIONSIn April 2009, the conducted a Wikipedia usability study, questioning users about the editing mechanism.REF START\\n\\u092a\\u093e\\u0930\\u0902\\u092a\\u0930\\u093f\\u0915 \\u0935\\u093f\\u0936\\u094d\\u0935\\u0915\\u094b\\u0936\\u094b\\u0902 \\u091c\\u0948\\u0938\\u0947 \\u090f\\u0928\\u094d\\u0938\\u093e\\u0907\\u0915\\u094d\\u0932\\u094b\\u092a\\u0940\\u0921\\u093f\\u092f\\u093e \\u092c\\u094d\\u0930\\u093f\\u091f\\u0947\\u0928\\u093f\\u0915\\u093e (Encyclop\\u00e6dia Britannica) \\u0915\\u0947 \\u0935\\u093f\\u092a\\u0930\\u0940\\u0924, \\u0935\\u093f\\u0915\\u093f\\u092a\\u0940\\u0921\\u093f\\u092f\\u093e \\u0915\\u0947 \\u0932\\u0947\\u0916 \\u0915\\u093f\\u0938\\u0940 \\u0914\\u092a\\u091a\\u093e\\u0930\\u093f\\u0915 \\u0938\\u0939\\u0915\\u0930\\u094d\\u092e\\u0940 \\u0938\\u092e\\u0940\\u0915\\u094d\\u0937\\u093e \\u0915\\u0940 \\u092a\\u094d\\u0930\\u0915\\u094d\\u0930\\u093f\\u092f\\u093e \\u0938\\u0947 \\u0939\\u094b\\u0915\\u0930 \\u0928\\u0939\\u0940\\u0902 \\u0917\\u0941\\u091c\\u0930\\u0924\\u0947 \\u0939\\u0948\\u0902 \\u0914\\u0930 \\u0932\\u0947\\u0916 \\u092e\\u0947\\u0902 \\u092a\\u0930\\u093f\\u0935\\u0930\\u094d\\u0924\\u0928 \\u0924\\u0941\\u0902\\u0930\\u0924 \\u0909\\u092a\\u0932\\u092c\\u094d\\u0927 \\u0939\\u094b \\u091c\\u093e\\u0924\\u0947 \\u0939\\u0948\\u0902 l\\n\\u0915\\u093f\\u0938\\u0940 \\u092d\\u0940 \\u0932\\u0947\\u0916 \\u092a\\u0930 \\u0907\\u0938\\u0915\\u0947 \\u0928\\u093f\\u0930\\u094d\\u092e\\u093e\\u0924\\u093e \\u092f\\u093e \\u0915\\u093f\\u0938\\u0940 \\u0905\\u0928\\u094d\\u092f \\u0938\\u0902\\u092a\\u093e\\u0926\\u0915 \\u0915\\u093e \\u0905\\u0927\\u093f\\u0915\\u093e\\u0930 \\u0928\\u0939\\u0940\\u0902 \\u0939\\u0948 \\u0914\\u0930 \\u0928 \\u0939\\u0940 \\u0915\\u093f\\u0938\\u0940 \\u092e\\u093e\\u0928\\u094d\\u092f\\u0924\\u093e \\u092a\\u094d\\u0930\\u093e\\u092a\\u094d\\u0924 \\u092a\\u094d\\u0930\\u093e\\u0927\\u093f\\u0915\\u0930\\u0923 \\u0915\\u0947 \\u0926\\u094d\\u0935\\u093e\\u0930\\u093e \\u0907\\u0938\\u0915\\u093e \\u0928\\u093f\\u0930\\u0940\\u0915\\u094d\\u0937\\u0923 \\u0915\\u093f\\u092f\\u093e \\u091c\\u093e \\u0938\\u0915\\u0924\\u093e \\u0939\\u0948\\u0964 \\u0915\\u0941\\u091b \\u0939\\u0940 \\u0910\\u0938\\u0947 \\u0935\\u093f\\u0927\\u094d\\u0935\\u0902\\u0938-\\u092a\\u094d\\u0930\\u0935\\u0923 \\u092a\\u0947\\u091c \\u0939\\u0948\\u0902 \\u091c\\u093f\\u0928\\u094d\\u0939\\u0947\\u0902 \\u0915\\u0947\\u0935\\u0932 \\u0907\\u0928\\u0915\\u0947 \\u0938\\u094d\\u0925\\u093e\\u092a\\u093f\\u0924 \\u0909\\u092a\\u092f\\u094b\\u0917\\u0915\\u0930\\u094d\\u0924\\u093e\\u0913\\u0902 \\u0915\\u0947 \\u0926\\u094d\\u0935\\u093e\\u0930\\u093e \\u0939\\u0940 \\u0938\\u0902\\u092a\\u093e\\u0926\\u093f\\u0924 \\u0915\\u093f\\u092f\\u093e \\u091c\\u093e \\u0938\\u0915\\u0924\\u093e \\u0939\\u0948, \\u092f\\u093e \\u0935\\u093f\\u0936\\u0947\\u0937 \\u092e\\u093e\\u092e\\u0932\\u094b\\u0902 \\u092e\\u0947\\u0902 \\u0915\\u0947\\u0935\\u0932 \\u092a\\u094d\\u0930\\u0936\\u093e\\u0938\\u0915\\u094b\\u0902 \\u0915\\u0947 \\u0926\\u094d\\u0935\\u093e\\u0930\\u093e \\u0938\\u0902\\u092a\\u093e\\u0926\\u093f\\u0924 \\u0915\\u093f\\u092f\\u093e \\u091c\\u093e \\u0938\\u0915\\u0924\\u093e \\u0939\\u0948, \\u0939\\u0930 \\u0932\\u0947\\u0916 \\u0915\\u094b \\u0917\\u0941\\u092e\\u0928\\u093e\\u092e \\u0930\\u0942\\u092a \\u092e\\u0947\\u0902 \\u092f\\u093e \\u090f\\u0915 \\u0909\\u092a\\u092f\\u094b\\u0917\\u0915\\u0930\\u094d\\u0924\\u093e \\u0915\\u0947 \\u0905\\u0915\\u093e\\u0909\\u0902\\u091f \\u0915\\u0947 \\u0938\\u093e\\u0925 \\u0938\\u0902\\u092a\\u093e\\u0926\\u093f\\u0924 \\u0915\\u093f\\u092f\\u093e \\u091c\\u093e \\u0938\\u0915\\u0924\\u093e \\u0939\\u0948, \\u091c\\u092c\\u0915\\u093f \\u0915\\u0947\\u0935\\u0932 \\u092a\\u0902\\u091c\\u0940\\u0915\\u0943\\u0924 \\u0909\\u092a\\u092f\\u094b\\u0917\\u0915\\u0930\\u094d\\u0924\\u093e \\u0939\\u0940 \\u090f\\u0915 \\u0928\\u092f\\u093e \\u0932\\u0947\\u0916 \\u092c\\u0928\\u093e \\u0938\\u0915\\u0924\\u0947 \\u0939\\u0948\\u0902 (\\u0915\\u0947\\u0935\\u0932 \\u0905\\u0902\\u0917\\u094d\\u0930\\u0947\\u091c\\u0940 \\u0938\\u0902\\u0938\\u094d\\u0915\\u0930\\u0923 \\u092e\\u0947\\u0902)\\u0964\\n\\u0907\\u0938\\u0915\\u0947 \\u092a\\u0930\\u093f\\u0923\\u093e\\u092e\\u0938\\u094d\\u0935\\u0930\\u0942\\u092a, \\u0935\\u093f\\u0915\\u093f\\u092a\\u0940\\u0921\\u093f\\u092f\\u093e \\u0905\\u092a\\u0928\\u0947 \\u0905\\u0935\\u092f\\u0935\\u094b\\u0902 \\\"\\u0915\\u0940 \\u0935\\u0948\\u0926\\u094d\\u092f\\u0924\\u093e \\u0915\\u0940 \\u0915\\u094b\\u0908 \\u0917\\u093e\\u0930\\u0902\\u091f\\u0940 \\u0928\\u0939\\u0940\\u0902\\\" \\u0926\\u0947\\u0924\\u093e \\u0939\\u0948\\u0964 \\n[36] \\u090f\\u0915 \\u0938\\u093e\\u092e\\u093e\\u0928\\u094d\\u092f \\u0938\\u0928\\u094d\\u0926\\u0930\\u094d\\u092d \\u0915\\u093e\\u0930\\u094d\\u092f \\u0939\\u094b\\u0928\\u0947 \\u0915\\u0947 \\u0915\\u093e\\u0930\\u0923, \\u0935\\u093f\\u0915\\u093f\\u092a\\u0940\\u0921\\u093f\\u092f\\u093e \\u092e\\u0947\\u0902 \\u0915\\u0941\\u091b \\u0910\\u0938\\u0940 \\u0938\\u093e\\u092e\\u0917\\u094d\\u0930\\u0940 \\u092d\\u0940 \\u0939\\u0948 \\u091c\\u093f\\u0938\\u0947 \\u0935\\u093f\\u0915\\u093f\\u092a\\u0940\\u0921\\u093f\\u092f\\u093e \\u0915\\u0947 \\u0938\\u0902\\u092a\\u093e\\u0926\\u0915\\u094b\\u0902 \\u0938\\u0939\\u093f\\u0924 \\u0915\\u0941\\u091b \\u0932\\u094b\\u0917[37] \\u0906\\u0915\\u094d\\u0930\\u093e\\u092e\\u0915, \\u0906\\u092a\\u0924\\u094d\\u0924\\u093f\\u091c\\u0928\\u0915 \\u0914\\u0930 \\u0905\\u0936\\u094d\\u0932\\u0940\\u0932 \\u092e\\u093e\\u0928\\u0924\\u0947 \\u0939\\u0948\\u0902\\u0964 [38] \\u0909\\u0926\\u093e\\u0939\\u0930\\u0923 \\u0915\\u0947 \\u0932\\u093f\\u090f, 2008 \\u092e\\u0947\\u0902, \\u0935\\u093f\\u0915\\u093f\\u092a\\u0940\\u0921\\u093f\\u092f\\u093e, \\u0928\\u0947 \\u0907\\u0938 \\u0928\\u093f\\u0924\\u093f \\u0915\\u094b \\u0927\\u094d\\u092f\\u093e\\u0928 \\u092e\\u0947\\u0902 \\u0930\\u0916\\u0924\\u0947 \\u0939\\u0941\\u090f, \\u0905\\u092a\\u0928\\u0947 \\u0905\\u0902\\u0917\\u094d\\u0930\\u0947\\u091c\\u0940 \\u0938\\u0902\\u0938\\u094d\\u0915\\u0930\\u0923 \\u092e\\u0947\\u0902, \\u092e\\u0941\\u0939\\u092e\\u094d\\u092e\\u0926 \\u0915\\u0947 \\u0935\\u0930\\u094d\\u0923\\u0928 \\u0915\\u094b \\u0936\\u093e\\u092e\\u093f\\u0932 \\u0915\\u0930\\u0928\\u0947 \\u0915\\u0947 \\u0916\\u093f\\u0932\\u093e\\u092b \\u090f\\u0915 \\u090f\\u0915 \\u0911\\u0928\\u0932\\u093e\\u0907\\u0928 \\u092f\\u093e\\u091a\\u093f\\u0915\\u093e \\u0915\\u094b \\u0905\\u0938\\u094d\\u0935\\u0940\\u0915\\u093e\\u0930 \\u0915\\u0930 \\u0926\\u093f\\u092f\\u093e\\u0964\\n\\u0935\\u093f\\u0915\\u093f\\u092a\\u0940\\u0921\\u093f\\u092f\\u093e \\u092e\\u0947\\u0902 \\u0930\\u093e\\u091c\\u0928\\u0940\\u0924\\u093f\\u0915 \\u0930\\u0942\\u092a \\u0938\\u0947 \\u0938\\u0902\\u0935\\u0947\\u0926\\u0928\\u0936\\u0940\\u0932 \\u0938\\u093e\\u092e\\u0917\\u094d\\u0930\\u0940 \\u0915\\u0940 \\u0909\\u092a\\u0938\\u094d\\u0925\\u093f\\u0924\\u093f \\u0915\\u0947 \\u0915\\u093e\\u0930\\u0923, \\u092a\\u0940\\u092a\\u0941\\u0932\\u094d\\u0938 \\u0930\\u093f\\u092a\\u092c\\u094d\\u0932\\u093f\\u0915 \\u0911\\u092b \\u091a\\u093e\\u0907\\u0928\\u093e \\u0928\\u0947 \\u0907\\u0938 \\u0935\\u0947\\u092c\\u0938\\u093e\\u0907\\u091f \\u0915\\u0947 \\u0915\\u0941\\u091b \\u092d\\u093e\\u0917\\u094b\\u0902 \\u0915\\u093e \\u0909\\u092a\\u092f\\u094b\\u0917 \\u0915\\u094b \\u092a\\u094d\\u0930\\u0924\\u093f\\u092c\\u0902\\u0927\\u093f\\u0924 \\u0915\\u0930 \\u0926\\u093f\\u092f\\u093e\\u0964[39] (\\u092f\\u0939 \\u092d\\u0940 \\u0926\\u0947\\u0916\\u0947\\u0902: \\u0935\\u093f\\u0915\\u093f\\u092a\\u0940\\u0921\\u093f\\u092f\\u093e \\u0915\\u0947 IWF \\u092c\\u094d\\u0932\\u0949\\u0915) \\u0935\\u093f\\u0915\\u093f\\u092a\\u0940\\u0921\\u093f\\u092f\\u093e \\u0915\\u0947 \\u0905\\u0935\\u092f\\u0935 \\u092b\\u094d\\u0932\\u094b\\u0930\\u093f\\u0921\\u093e \\u092e\\u0947\\u0902 \\u0915\\u093e\\u0928\\u0942\\u0928 \\u0915\\u0947 \\u0905\\u0927\\u0940\\u0928 \\u0939\\u0948\\u0902 (\\u0935\\u093f\\u0936\\u0947\\u0937 \\u0915\\u0949\\u092a\\u0940\\u0930\\u093e\\u0908\\u091f \\u0915\\u093e\\u0928\\u0942\\u0928 \\u092e\\u0947\\u0902), \\u091c\\u0939\\u093e\\u0901 \\u0935\\u093f\\u0915\\u093f\\u092a\\u0940\\u0921\\u093f\\u092f\\u093e \\u0915\\u0947 \\u0938\\u0930\\u094d\\u0935\\u0930\\u094b\\u0902 \\u0915\\u0940 \\u092e\\u0947\\u091c\\u092c\\u093e\\u0928\\u0940 \\u0915\\u0940 \\u091c\\u093e\\u0924\\u0940 \\u0939\\u0948 \\u0914\\u0930 \\u0915\\u0908 \\u0938\\u092e\\u094d\\u092a\\u093e\\u0926\\u0915\\u0940\\u092f \\u0928\\u0940\\u0924\\u093f\\u092f\\u093e\\u0902 \\u0914\\u0930 \\u0926\\u093f\\u0936\\u093e\\u0928\\u093f\\u0930\\u094d\\u0926\\u0947\\u0936 \\u0907\\u0938 \\u092c\\u093e\\u0924 \\u092a\\u0930 \\u092c\\u0932 \\u0926\\u0947\\u0924\\u0947 \\u0939\\u0948\\u0902 \\u0915\\u093f \\u0935\\u093f\\u0915\\u093f\\u092a\\u0940\\u0921\\u093f\\u092f\\u093e \\u090f\\u0915 \\u0935\\u093f\\u0936\\u094d\\u0935\\u0915\\u094b\\u0936 \\u0939\\u0948\\u0964 \\n\\u0935\\u093f\\u0915\\u093f\\u092a\\u0940\\u0921\\u093f\\u092f\\u093e \\u092e\\u0947\\u0902 \\u092a\\u094d\\u0930\\u0924\\u094d\\u092f\\u0947\\u0915 \\u092a\\u094d\\u0930\\u0935\\u093f\\u0937\\u094d\\u091f\\u093f \\u090f\\u0915 \\u0935\\u093f\\u0937\\u092f \\u0915\\u0947 \\u092c\\u093e\\u0930\\u0947 \\u092e\\u0947\\u0902 \\u0939\\u094b\\u0928\\u0940 \\u091a\\u093e\\u0939\\u093f\\u090f \\u091c\\u094b \\u0935\\u093f\\u0936\\u094d\\u0935\\u0915\\u094b\\u0936 \\u0938\\u0947 \\u0938\\u092e\\u094d\\u092c\\u0902\\u0927\\u093f\\u0924 \\u0939\\u0948 \\u0914\\u0930 \\u0907\\u0938 \\u092a\\u094d\\u0930\\u0915\\u093e\\u0930 \\u0938\\u0947 \\u0936\\u093e\\u092e\\u093f\\u0932 \\u0915\\u093f\\u092f\\u0947 \\u091c\\u093e\\u0928\\u0947 \\u0915\\u0947 \\u092f\\u094b\\u0917\\u094d\\u092f \\u0939\\u0948\\u0964 \\u090f\\u0915 \\u0935\\u093f\\u0937\\u092f \\u0935\\u093f\\u0936\\u094d\\u0935\\u0915\\u094b\\u0936 \\u0938\\u0947 \\u0938\\u092e\\u094d\\u092c\\u0902\\u0927\\u093f\\u0924 \\u0938\\u092e\\u091d\\u093e \\u091c\\u093e \\u0938\\u0915\\u0924\\u093e \\u0939\\u0948 \\u092f\\u0926\\u093f \\u092f\\u0939 \\u0935\\u093f\\u0915\\u093f\\u092a\\u0940\\u0921\\u093f\\u092f\\u093e \\u0915\\u0947 \\u0936\\u092c\\u094d\\u0926\\u091c\\u093e\\u0932 \\u092e\\u0947\\u0902 \\\"\\u0909\\u0932\\u094d\\u0932\\u0947\\u0916\\u0928\\u0940\\u092f\\\" \\u0939\\u0948,[40] \\u0905\\u0930\\u094d\\u0925\\u093e\\u0924, \\u092f\\u0926\\u093f \\u0907\\u0938\\u0928\\u0947 \\u0909\\u0928 \\u092e\\u093e\\u0927\\u094d\\u092f\\u092e\\u093f\\u0915 \\u0935\\u093f\\u0936\\u094d\\u0935\\u0938\\u0928\\u0940\\u092f \\u0938\\u094d\\u0930\\u094b\\u0924\\u094b\\u0902 \\u092e\\u0947\\u0902 \\u092e\\u0939\\u0924\\u094d\\u0935\\u092a\\u0942\\u0930\\u094d\\u0923 \\u0915\\u0935\\u0930\\u0947\\u091c\\u093c \\u092a\\u094d\\u0930\\u093e\\u092a\\u094d\\u0924 \\u0915\\u093f\\u092f\\u093e \\u0939\\u0948 (\\u0905\\u0930\\u094d\\u0925\\u093e\\u0924 \\u092e\\u0941\\u0916\\u094d\\u092f\\u0927\\u093e\\u0930\\u093e \\u092e\\u0940\\u0921\\u093f\\u092f\\u093e \\u092f\\u093e \\u092e\\u0941\\u0916\\u094d\\u092f \\u0905\\u0915\\u093e\\u0926\\u092e\\u093f\\u0915 \\u091c\\u0930\\u094d\\u0928\\u0932), \\u091c\\u094b \\u0907\\u0938 \\u0935\\u093f\\u0937\\u092f \\u0915\\u0947 \\u092e\\u093e\\u092e\\u0932\\u0947 \\u0938\\u0947 \\u0938\\u094d\\u0935\\u0924\\u0902\\u0924\\u094d\\u0930 \\u0939\\u0948\\u0902\\u0964 \\u0926\\u0942\\u0938\\u0930\\u093e, \\u0935\\u093f\\u0915\\u093f\\u092a\\u0940\\u0921\\u093f\\u092f\\u093e \\u0915\\u094b \\u0915\\u0947\\u0935\\u0932 \\u0909\\u0938\\u0940 \\u091c\\u094d\\u091e\\u093e\\u0928 \\u0915\\u094b \\u092a\\u094d\\u0930\\u0926\\u0930\\u094d\\u0936\\u093f\\u0924 \\u0915\\u0930\\u0928\\u093e \\u0939\\u0948 \\u091c\\u094b \\u092a\\u0939\\u0932\\u0947 \\u0938\\u0947 \\u0939\\u0940 \\u0938\\u094d\\u0925\\u093e\\u092a\\u093f\\u0924 \\u0914\\u0930 \\u092e\\u093e\\u0928\\u094d\\u092f\\u0924\\u093e \\u092a\\u094d\\u0930\\u093e\\u092a\\u094d\\u0924 \\u0939\\u0948\\u0964[41] \\u0926\\u0942\\u0938\\u0930\\u0947 \\u0936\\u092c\\u094d\\u0926\\u094b\\u0902 \\u092e\\u0947\\u0902, \\u0909\\u0926\\u093e\\u0939\\u0930\\u0923 \\u0915\\u0947 \\u0932\\u093f\\u090f \\u0907\\u0938\\u0947 \\u0928\\u092f\\u0940 \\u091c\\u093e\\u0928\\u0915\\u093e\\u0930\\u0940 \\u0914\\u0930 \\u092e\\u0942\\u0932 \\u0915\\u093e\\u0930\\u094d\\u092f \\u0915\\u094b \\u092a\\u094d\\u0930\\u0938\\u094d\\u0924\\u0941\\u0924 \\u0928\\u0939\\u0940\\u0902 \\u0915\\u0930\\u0928\\u093e \\u091a\\u093e\\u0939\\u093f\\u090f\\u0964 \\u090f\\u0915 \\u0926\\u093e\\u0935\\u093e \\u091c\\u093f\\u0938\\u0947 \\u091a\\u0941\\u0928\\u094c\\u0924\\u0940 \\u0926\\u0940 \\u091c\\u093e \\u0938\\u0915\\u0924\\u0940 \\u0939\\u0948, \\u0909\\u0938\\u0947 \\u0935\\u093f\\u0936\\u094d\\u0935\\u0938\\u0928\\u0940\\u092f \\u0938\\u0942\\u0924\\u094d\\u0930\\u094b\\u0902 \\u0915\\u0947 \\u0938\\u0928\\u094d\\u0926\\u0930\\u094d\\u092d \\u0915\\u0940 \\u0906\\u0935\\u0936\\u094d\\u092f\\u0915\\u0924\\u093e \\u0939\\u094b\\u0924\\u0940 \\u0939\\u0948\\u0964 \\u0935\\u093f\\u0915\\u093f\\u092a\\u0940\\u0921\\u093f\\u092f\\u093e \\u0938\\u092e\\u0941\\u0926\\u093e\\u092f \\u0915\\u0947 \\u092d\\u0940\\u0924\\u0930, \\u0907\\u0938\\u0947 \\u0905\\u0915\\u094d\\u0938\\u0930 \\\"verifiability, not truth\\\" \\u0915\\u0947 \\u0930\\u0942\\u092a \\u092e\\u0947\\u0902 \\u092c\\u0924\\u093e\\u092f\\u093e \\u091c\\u093e\\u0924\\u093e \\u0939\\u0948, \\u092f\\u0939 \\u0907\\u0938 \\u0935\\u093f\\u091a\\u093e\\u0930 \\u0915\\u094b \\u0935\\u094d\\u092f\\u0915\\u094d\\u0924 \\u0915\\u0930\\u0924\\u093e \\u0939\\u0948 \\u0915\\u093f \\u092a\\u093e\\u0920\\u0915 \\u0916\\u0941\\u0926 \\u0932\\u0947\\u0916 \\u092e\\u0947\\u0902 \\u092a\\u094d\\u0930\\u0938\\u094d\\u0924\\u0941\\u0924 \\u0939\\u094b\\u0928\\u0947 \\u0935\\u093e\\u0932\\u0940 \\u0938\\u093e\\u092e\\u0917\\u094d\\u0930\\u0940 \\u0915\\u0940 \\u0938\\u091a\\u094d\\u091a\\u093e\\u0908 \\u0915\\u0940 \\u091c\\u093e\\u0902\\u091a \\u0915\\u0930 \\u0938\\u0915\\u0947\\u0902 \\u0914\\u0930 \\u0907\\u0938 \\u0935\\u093f\\u0937\\u092f \\u092e\\u0947\\u0902 \\u0905\\u092a\\u0928\\u0940 \\u0916\\u0941\\u0926 \\u0915\\u0940 \\u0935\\u094d\\u092f\\u093e\\u0916\\u094d\\u092f\\u093e \\u092c\\u0928\\u093e\\u092f\\u0947\\u0902.\"\n        ],\n        \"semantic_type\": \"\",\n        \"description\": \"\"\n      }\n    },\n    {\n      \"column\": \"Language\",\n      \"properties\": {\n        \"dtype\": \"category\",\n        \"num_unique_values\": 1,\n        \"samples\": [\n          \"Hindi\"\n        ],\n        \"semantic_type\": \"\",\n        \"description\": \"\"\n      }\n    }\n  ]\n}"
            }
          },
          "metadata": {},
          "execution_count": 7
        }
      ]
    },
    {
      "cell_type": "code",
      "source": [
        "ka_filt = dataset['Language'] == 'Kannada'\n",
        "dataset.loc[ka_filt, :]"
      ],
      "metadata": {
        "colab": {
          "base_uri": "https://localhost:8080/",
          "height": 423
        },
        "id": "0IvoKt0q_Xqs",
        "outputId": "323e7f1a-43f1-4ca3-dd87-a604c002f727"
      },
      "execution_count": 8,
      "outputs": [
        {
          "output_type": "execute_result",
          "data": {
            "text/plain": [
              "                                                    Text Language\n",
              "9968   .ನಾವೆಲ್ಲರೂ ಇಂಗ್ಲಿಷ್ನಲ್ಲಿ ಹೆಚ್ಚು ನಿರರ್ಗಳವಾಗಲು ತ...  Kannada\n",
              "9969   ಆದ್ದರಿಂದ ಇಂದು ನಾವು 10 ಹೊಸ ಸ್ಮಾರ್ಟ್ ಪದಗಳನ್ನು ಅವ...  Kannada\n",
              "9970   ಮತ್ತು ಈ ವೀಡಿಯೊದಲ್ಲಿ ನಾನು ನಿಮಗೆ ದೈನಂದಿನ ಬಳಕೆಗಾಗ...  Kannada\n",
              "9971   ನಾನು ನಿಜವಾಗಿಯೂ ನಿರರ್ಗಳವಾಗಿ ಸ್ಮಾರ್ಟ್ ವರ್ಡ್ ಸಂಖ್...  Kannada\n",
              "9972   ಒಂದನ್ನು ಜೌಗು ಜೌಗು ಎಂದರೆ ಮುಳುಗಿಸುವುದು ಅಥವಾ ಪ್ರವ...  Kannada\n",
              "...                                                  ...      ...\n",
              "10332  ನಿಮ್ಮ ತಪ್ಪು ಏನು ಬಂದಿದೆಯೆಂದರೆ ಆ ದಿನದಿಂದ ನಿಮಗೆ ಒ...  Kannada\n",
              "10333  ನಾರ್ಸಿಸಾ ತಾನು ಮೊದಲಿಗೆ ಹೆಣಗಾಡುತ್ತಿದ್ದ ಮಾರ್ಗಗಳನ್...  Kannada\n",
              "10334  ಹೇಗೆ ' ನಾರ್ಸಿಸಿಸಮ್ ಈಗ ಮರಿಯನ್ ಅವರಿಗೆ ಸಂಭವಿಸಿದ ಎ...  Kannada\n",
              "10335  ಅವಳು ಈಗ ಹೆಚ್ಚು ಚಿನ್ನದ ಬ್ರೆಡ್ ಬಯಸುವುದಿಲ್ಲ ಎಂದು ...  Kannada\n",
              "10336  ಟೆರ್ರಿ ನೀವು ನಿಜವಾಗಿಯೂ ಆ ದೇವದೂತನಂತೆ ಸ್ವಲ್ಪ ಕಾಣು...  Kannada\n",
              "\n",
              "[369 rows x 2 columns]"
            ],
            "text/html": [
              "\n",
              "  <div id=\"df-5ad65c19-dc1f-4334-b2b1-389bdc637617\" class=\"colab-df-container\">\n",
              "    <div>\n",
              "<style scoped>\n",
              "    .dataframe tbody tr th:only-of-type {\n",
              "        vertical-align: middle;\n",
              "    }\n",
              "\n",
              "    .dataframe tbody tr th {\n",
              "        vertical-align: top;\n",
              "    }\n",
              "\n",
              "    .dataframe thead th {\n",
              "        text-align: right;\n",
              "    }\n",
              "</style>\n",
              "<table border=\"1\" class=\"dataframe\">\n",
              "  <thead>\n",
              "    <tr style=\"text-align: right;\">\n",
              "      <th></th>\n",
              "      <th>Text</th>\n",
              "      <th>Language</th>\n",
              "    </tr>\n",
              "  </thead>\n",
              "  <tbody>\n",
              "    <tr>\n",
              "      <th>9968</th>\n",
              "      <td>.ನಾವೆಲ್ಲರೂ ಇಂಗ್ಲಿಷ್ನಲ್ಲಿ ಹೆಚ್ಚು ನಿರರ್ಗಳವಾಗಲು ತ...</td>\n",
              "      <td>Kannada</td>\n",
              "    </tr>\n",
              "    <tr>\n",
              "      <th>9969</th>\n",
              "      <td>ಆದ್ದರಿಂದ ಇಂದು ನಾವು 10 ಹೊಸ ಸ್ಮಾರ್ಟ್ ಪದಗಳನ್ನು ಅವ...</td>\n",
              "      <td>Kannada</td>\n",
              "    </tr>\n",
              "    <tr>\n",
              "      <th>9970</th>\n",
              "      <td>ಮತ್ತು ಈ ವೀಡಿಯೊದಲ್ಲಿ ನಾನು ನಿಮಗೆ ದೈನಂದಿನ ಬಳಕೆಗಾಗ...</td>\n",
              "      <td>Kannada</td>\n",
              "    </tr>\n",
              "    <tr>\n",
              "      <th>9971</th>\n",
              "      <td>ನಾನು ನಿಜವಾಗಿಯೂ ನಿರರ್ಗಳವಾಗಿ ಸ್ಮಾರ್ಟ್ ವರ್ಡ್ ಸಂಖ್...</td>\n",
              "      <td>Kannada</td>\n",
              "    </tr>\n",
              "    <tr>\n",
              "      <th>9972</th>\n",
              "      <td>ಒಂದನ್ನು ಜೌಗು ಜೌಗು ಎಂದರೆ ಮುಳುಗಿಸುವುದು ಅಥವಾ ಪ್ರವ...</td>\n",
              "      <td>Kannada</td>\n",
              "    </tr>\n",
              "    <tr>\n",
              "      <th>...</th>\n",
              "      <td>...</td>\n",
              "      <td>...</td>\n",
              "    </tr>\n",
              "    <tr>\n",
              "      <th>10332</th>\n",
              "      <td>ನಿಮ್ಮ ತಪ್ಪು ಏನು ಬಂದಿದೆಯೆಂದರೆ ಆ ದಿನದಿಂದ ನಿಮಗೆ ಒ...</td>\n",
              "      <td>Kannada</td>\n",
              "    </tr>\n",
              "    <tr>\n",
              "      <th>10333</th>\n",
              "      <td>ನಾರ್ಸಿಸಾ ತಾನು ಮೊದಲಿಗೆ ಹೆಣಗಾಡುತ್ತಿದ್ದ ಮಾರ್ಗಗಳನ್...</td>\n",
              "      <td>Kannada</td>\n",
              "    </tr>\n",
              "    <tr>\n",
              "      <th>10334</th>\n",
              "      <td>ಹೇಗೆ ' ನಾರ್ಸಿಸಿಸಮ್ ಈಗ ಮರಿಯನ್ ಅವರಿಗೆ ಸಂಭವಿಸಿದ ಎ...</td>\n",
              "      <td>Kannada</td>\n",
              "    </tr>\n",
              "    <tr>\n",
              "      <th>10335</th>\n",
              "      <td>ಅವಳು ಈಗ ಹೆಚ್ಚು ಚಿನ್ನದ ಬ್ರೆಡ್ ಬಯಸುವುದಿಲ್ಲ ಎಂದು ...</td>\n",
              "      <td>Kannada</td>\n",
              "    </tr>\n",
              "    <tr>\n",
              "      <th>10336</th>\n",
              "      <td>ಟೆರ್ರಿ ನೀವು ನಿಜವಾಗಿಯೂ ಆ ದೇವದೂತನಂತೆ ಸ್ವಲ್ಪ ಕಾಣು...</td>\n",
              "      <td>Kannada</td>\n",
              "    </tr>\n",
              "  </tbody>\n",
              "</table>\n",
              "<p>369 rows × 2 columns</p>\n",
              "</div>\n",
              "    <div class=\"colab-df-buttons\">\n",
              "\n",
              "  <div class=\"colab-df-container\">\n",
              "    <button class=\"colab-df-convert\" onclick=\"convertToInteractive('df-5ad65c19-dc1f-4334-b2b1-389bdc637617')\"\n",
              "            title=\"Convert this dataframe to an interactive table.\"\n",
              "            style=\"display:none;\">\n",
              "\n",
              "  <svg xmlns=\"http://www.w3.org/2000/svg\" height=\"24px\" viewBox=\"0 -960 960 960\">\n",
              "    <path d=\"M120-120v-720h720v720H120Zm60-500h600v-160H180v160Zm220 220h160v-160H400v160Zm0 220h160v-160H400v160ZM180-400h160v-160H180v160Zm440 0h160v-160H620v160ZM180-180h160v-160H180v160Zm440 0h160v-160H620v160Z\"/>\n",
              "  </svg>\n",
              "    </button>\n",
              "\n",
              "  <style>\n",
              "    .colab-df-container {\n",
              "      display:flex;\n",
              "      gap: 12px;\n",
              "    }\n",
              "\n",
              "    .colab-df-convert {\n",
              "      background-color: #E8F0FE;\n",
              "      border: none;\n",
              "      border-radius: 50%;\n",
              "      cursor: pointer;\n",
              "      display: none;\n",
              "      fill: #1967D2;\n",
              "      height: 32px;\n",
              "      padding: 0 0 0 0;\n",
              "      width: 32px;\n",
              "    }\n",
              "\n",
              "    .colab-df-convert:hover {\n",
              "      background-color: #E2EBFA;\n",
              "      box-shadow: 0px 1px 2px rgba(60, 64, 67, 0.3), 0px 1px 3px 1px rgba(60, 64, 67, 0.15);\n",
              "      fill: #174EA6;\n",
              "    }\n",
              "\n",
              "    .colab-df-buttons div {\n",
              "      margin-bottom: 4px;\n",
              "    }\n",
              "\n",
              "    [theme=dark] .colab-df-convert {\n",
              "      background-color: #3B4455;\n",
              "      fill: #D2E3FC;\n",
              "    }\n",
              "\n",
              "    [theme=dark] .colab-df-convert:hover {\n",
              "      background-color: #434B5C;\n",
              "      box-shadow: 0px 1px 3px 1px rgba(0, 0, 0, 0.15);\n",
              "      filter: drop-shadow(0px 1px 2px rgba(0, 0, 0, 0.3));\n",
              "      fill: #FFFFFF;\n",
              "    }\n",
              "  </style>\n",
              "\n",
              "    <script>\n",
              "      const buttonEl =\n",
              "        document.querySelector('#df-5ad65c19-dc1f-4334-b2b1-389bdc637617 button.colab-df-convert');\n",
              "      buttonEl.style.display =\n",
              "        google.colab.kernel.accessAllowed ? 'block' : 'none';\n",
              "\n",
              "      async function convertToInteractive(key) {\n",
              "        const element = document.querySelector('#df-5ad65c19-dc1f-4334-b2b1-389bdc637617');\n",
              "        const dataTable =\n",
              "          await google.colab.kernel.invokeFunction('convertToInteractive',\n",
              "                                                    [key], {});\n",
              "        if (!dataTable) return;\n",
              "\n",
              "        const docLinkHtml = 'Like what you see? Visit the ' +\n",
              "          '<a target=\"_blank\" href=https://colab.research.google.com/notebooks/data_table.ipynb>data table notebook</a>'\n",
              "          + ' to learn more about interactive tables.';\n",
              "        element.innerHTML = '';\n",
              "        dataTable['output_type'] = 'display_data';\n",
              "        await google.colab.output.renderOutput(dataTable, element);\n",
              "        const docLink = document.createElement('div');\n",
              "        docLink.innerHTML = docLinkHtml;\n",
              "        element.appendChild(docLink);\n",
              "      }\n",
              "    </script>\n",
              "  </div>\n",
              "\n",
              "\n",
              "<div id=\"df-400090fc-3c10-4b61-b6a1-a7e03efb0db0\">\n",
              "  <button class=\"colab-df-quickchart\" onclick=\"quickchart('df-400090fc-3c10-4b61-b6a1-a7e03efb0db0')\"\n",
              "            title=\"Suggest charts\"\n",
              "            style=\"display:none;\">\n",
              "\n",
              "<svg xmlns=\"http://www.w3.org/2000/svg\" height=\"24px\"viewBox=\"0 0 24 24\"\n",
              "     width=\"24px\">\n",
              "    <g>\n",
              "        <path d=\"M19 3H5c-1.1 0-2 .9-2 2v14c0 1.1.9 2 2 2h14c1.1 0 2-.9 2-2V5c0-1.1-.9-2-2-2zM9 17H7v-7h2v7zm4 0h-2V7h2v10zm4 0h-2v-4h2v4z\"/>\n",
              "    </g>\n",
              "</svg>\n",
              "  </button>\n",
              "\n",
              "<style>\n",
              "  .colab-df-quickchart {\n",
              "      --bg-color: #E8F0FE;\n",
              "      --fill-color: #1967D2;\n",
              "      --hover-bg-color: #E2EBFA;\n",
              "      --hover-fill-color: #174EA6;\n",
              "      --disabled-fill-color: #AAA;\n",
              "      --disabled-bg-color: #DDD;\n",
              "  }\n",
              "\n",
              "  [theme=dark] .colab-df-quickchart {\n",
              "      --bg-color: #3B4455;\n",
              "      --fill-color: #D2E3FC;\n",
              "      --hover-bg-color: #434B5C;\n",
              "      --hover-fill-color: #FFFFFF;\n",
              "      --disabled-bg-color: #3B4455;\n",
              "      --disabled-fill-color: #666;\n",
              "  }\n",
              "\n",
              "  .colab-df-quickchart {\n",
              "    background-color: var(--bg-color);\n",
              "    border: none;\n",
              "    border-radius: 50%;\n",
              "    cursor: pointer;\n",
              "    display: none;\n",
              "    fill: var(--fill-color);\n",
              "    height: 32px;\n",
              "    padding: 0;\n",
              "    width: 32px;\n",
              "  }\n",
              "\n",
              "  .colab-df-quickchart:hover {\n",
              "    background-color: var(--hover-bg-color);\n",
              "    box-shadow: 0 1px 2px rgba(60, 64, 67, 0.3), 0 1px 3px 1px rgba(60, 64, 67, 0.15);\n",
              "    fill: var(--button-hover-fill-color);\n",
              "  }\n",
              "\n",
              "  .colab-df-quickchart-complete:disabled,\n",
              "  .colab-df-quickchart-complete:disabled:hover {\n",
              "    background-color: var(--disabled-bg-color);\n",
              "    fill: var(--disabled-fill-color);\n",
              "    box-shadow: none;\n",
              "  }\n",
              "\n",
              "  .colab-df-spinner {\n",
              "    border: 2px solid var(--fill-color);\n",
              "    border-color: transparent;\n",
              "    border-bottom-color: var(--fill-color);\n",
              "    animation:\n",
              "      spin 1s steps(1) infinite;\n",
              "  }\n",
              "\n",
              "  @keyframes spin {\n",
              "    0% {\n",
              "      border-color: transparent;\n",
              "      border-bottom-color: var(--fill-color);\n",
              "      border-left-color: var(--fill-color);\n",
              "    }\n",
              "    20% {\n",
              "      border-color: transparent;\n",
              "      border-left-color: var(--fill-color);\n",
              "      border-top-color: var(--fill-color);\n",
              "    }\n",
              "    30% {\n",
              "      border-color: transparent;\n",
              "      border-left-color: var(--fill-color);\n",
              "      border-top-color: var(--fill-color);\n",
              "      border-right-color: var(--fill-color);\n",
              "    }\n",
              "    40% {\n",
              "      border-color: transparent;\n",
              "      border-right-color: var(--fill-color);\n",
              "      border-top-color: var(--fill-color);\n",
              "    }\n",
              "    60% {\n",
              "      border-color: transparent;\n",
              "      border-right-color: var(--fill-color);\n",
              "    }\n",
              "    80% {\n",
              "      border-color: transparent;\n",
              "      border-right-color: var(--fill-color);\n",
              "      border-bottom-color: var(--fill-color);\n",
              "    }\n",
              "    90% {\n",
              "      border-color: transparent;\n",
              "      border-bottom-color: var(--fill-color);\n",
              "    }\n",
              "  }\n",
              "</style>\n",
              "\n",
              "  <script>\n",
              "    async function quickchart(key) {\n",
              "      const quickchartButtonEl =\n",
              "        document.querySelector('#' + key + ' button');\n",
              "      quickchartButtonEl.disabled = true;  // To prevent multiple clicks.\n",
              "      quickchartButtonEl.classList.add('colab-df-spinner');\n",
              "      try {\n",
              "        const charts = await google.colab.kernel.invokeFunction(\n",
              "            'suggestCharts', [key], {});\n",
              "      } catch (error) {\n",
              "        console.error('Error during call to suggestCharts:', error);\n",
              "      }\n",
              "      quickchartButtonEl.classList.remove('colab-df-spinner');\n",
              "      quickchartButtonEl.classList.add('colab-df-quickchart-complete');\n",
              "    }\n",
              "    (() => {\n",
              "      let quickchartButtonEl =\n",
              "        document.querySelector('#df-400090fc-3c10-4b61-b6a1-a7e03efb0db0 button');\n",
              "      quickchartButtonEl.style.display =\n",
              "        google.colab.kernel.accessAllowed ? 'block' : 'none';\n",
              "    })();\n",
              "  </script>\n",
              "</div>\n",
              "\n",
              "    </div>\n",
              "  </div>\n"
            ],
            "application/vnd.google.colaboratory.intrinsic+json": {
              "type": "dataframe",
              "summary": "{\n  \"name\": \"dataset\",\n  \"rows\": 369,\n  \"fields\": [\n    {\n      \"column\": \"Text\",\n      \"properties\": {\n        \"dtype\": \"string\",\n        \"num_unique_values\": 366,\n        \"samples\": [\n          \"\\u0cae\\u0cc2\\u0cb2 \\u0cb6\\u0cc1\\u0cad\\u0cbe\\u0cb6\\u0caf\\u0c97\\u0cb3\\u0cc1 \\u0c85\\u0ca6\\u0cc1 \\u0cb9\\u0cc7\\u0c97\\u0cc6 \\u0ca8\\u0ca1\\u0cc6\\u0caf\\u0cc1\\u0ca4\\u0ccd\\u0ca4\\u0cbf\\u0ca6\\u0cc6?\",\n          \"\\u0c86\\u0ca6\\u0cb0\\u0cc6 \\u0cab\\u0cbf\\u0c95\\u0ccd\\u0cb8\\u0ccd\\u200c\\u0ca8\\u0cb2\\u0ccd\\u0cb2\\u0cbf \\u0caf\\u0cbe\\u0cb5\\u0cc1\\u0ca6\\u0cc7 \\u0ca4\\u0cca\\u0c82\\u0ca6\\u0cb0\\u0cc6\\u0caf\\u0cbf\\u0cb2\\u0ccd\\u0cb2\\u0ca6 \\u0caa\\u0cb0\\u0cbf\\u0cb8\\u0ccd\\u0ca5\\u0cbf\\u0ca4\\u0cbf\\u0caf\\u0cb2\\u0ccd\\u0cb2\\u0cbf\\u0cb0\\u0cc1\\u0cb5\\u0cc1\\u0ca6\\u0cc1 \\u0c8e\\u0c82\\u0ca6\\u0cb0\\u0cc6 \\u0cab\\u0cbf\\u0c95\\u0ccd\\u0cb8\\u0ccd\\u200c\\u0ca8 \\u0cac\\u0ca6\\u0cb2\\u0cc1 \\u0ca8\\u0cc0\\u0cb5\\u0cc1 \\u0cac\\u0cb3\\u0cb8\\u0cac\\u0cb9\\u0cc1\\u0ca6\\u0cbe\\u0ca6 \\u0c87\\u0ca4\\u0cb0 \\u0caa\\u0ca6\\u0c97\\u0cb3\\u0cc1 \\u0ca8\\u0cbe\\u0ca8\\u0cc1 \\u0cb8\\u0cc2\\u0caa\\u0ccd\\u200c\\u0ca8\\u0cb2\\u0ccd\\u0cb2\\u0cbf\\u0ca6\\u0ccd\\u0ca6\\u0cc7\\u0ca8\\u0cc6 \\u0c85\\u0ca5\\u0cb5\\u0cbe \\u0ca8\\u0cbe\\u0ca8\\u0cc1 ' \\u0ca8\\u0cbe\\u0ca8\\u0cc1 \\u0c85\\u0cb5\\u0ccd\\u0caf\\u0cb5\\u0cb8\\u0ccd\\u0ca5\\u0cc6\\u0caf\\u0cb2\\u0ccd\\u0cb2\\u0cbf\\u0ca6\\u0ccd\\u0ca6\\u0cc7\\u0ca8\\u0cc6 \\u0c85\\u0ca5\\u0cb5\\u0cbe \\u0ca8\\u0cbe\\u0ca8\\u0cc1 \\u0ca4\\u0cca\\u0c82\\u0ca6\\u0cb0\\u0cc6\\u0c97\\u0cca\\u0cb3\\u0c97\\u0cbe\\u0c97\\u0cbf\\u0ca6\\u0ccd\\u0ca6\\u0cc7\\u0ca8\\u0cc6 \\u0c85\\u0ca5\\u0cb5\\u0cbe \\u0ca8\\u0cbe\\u0ca8\\u0cc1 \\u0cb8\\u0ccd\\u0caa\\u0cbe\\u0c9f\\u0ccd \\u0cb8\\u0ccd\\u0cae\\u0cbe\\u0cb0\\u0ccd\\u0c9f\\u0ccd \\u0cb5\\u0cb0\\u0ccd\\u0ca1\\u0ccd \\u0ca8\\u0c82\\u0cac\\u0cb0\\u0ccd 7 \\u0ca8\\u0cb2\\u0ccd\\u0cb2\\u0cbf\\u0ca6\\u0ccd\\u0ca6\\u0cc7\\u0ca8\\u0cc6 \\u0c8e\\u0c82\\u0ca6\\u0cb0\\u0cc6 \\u0cab\\u0ccd\\u0cb2\\u0cae\\u0ccd\\u0cae\\u0ccb\\u0c95\\u0ccd\\u0cb8\\u0ccd \\u0cab\\u0ccd\\u0cb2\\u0cae\\u0ccd\\u0cae\\u0cbe\\u0c95\\u0ccd\\u0cb8\\u0ccd \\u0c8e\\u0c82\\u0ca6\\u0cb0\\u0cc6 \\u0caf\\u0cbe\\u0cb0\\u0ca8\\u0ccd\\u0ca8\\u0cbe\\u0ca6\\u0cb0\\u0cc2 \\u0c97\\u0cca\\u0c82\\u0ca6\\u0cb2\\u0c97\\u0cca\\u0cb3\\u0cbf\\u0cb8\\u0cc1\\u0cb5\\u0cc1\\u0ca6\\u0cc1.\",\n          \"\\u0cae\\u0ca4\\u0ccd\\u0ca4\\u0cc1 \\u0c95\\u0ccd\\u0caf\\u0cbe\\u0c9a\\u0ccd -22 \\u0cb0 \\u0cb8\\u0ccd\\u0ca5\\u0cb3\\u0ca6\\u0cb2\\u0ccd\\u0cb2\\u0cbf \\u0ca8\\u0cc0\\u0cb5\\u0cc1 \\u0cac\\u0cb3\\u0cb8\\u0cac\\u0cb9\\u0cc1\\u0ca6\\u0cbe\\u0ca6 \\u0c87\\u0ca4\\u0cb0 \\u0caa\\u0ca6\\u0c97\\u0cb3\\u0cc1 \\u0cb5\\u0cbf\\u0cb0\\u0ccb\\u0ca7\\u0cbe\\u0cad\\u0cbe\\u0cb8 \\u0c85\\u0ca5\\u0cb5\\u0cbe \\u0cb8\\u0c82\\u0ca6\\u0cbf\\u0c97\\u0ccd\\u0ca7\\u0ca4\\u0cc6 \\u0cb8\\u0ccd\\u0cae\\u0cbe\\u0cb0\\u0ccd\\u0c9f\\u0ccd \\u0caa\\u0ca6.\"\n        ],\n        \"semantic_type\": \"\",\n        \"description\": \"\"\n      }\n    },\n    {\n      \"column\": \"Language\",\n      \"properties\": {\n        \"dtype\": \"category\",\n        \"num_unique_values\": 1,\n        \"samples\": [\n          \"Kannada\"\n        ],\n        \"semantic_type\": \"\",\n        \"description\": \"\"\n      }\n    }\n  ]\n}"
            }
          },
          "metadata": {},
          "execution_count": 8
        }
      ]
    },
    {
      "cell_type": "code",
      "source": [
        "ta_filt = dataset['Language'] == 'Tamil'\n",
        "dataset.loc[ta_filt, :]"
      ],
      "metadata": {
        "colab": {
          "base_uri": "https://localhost:8080/",
          "height": 423
        },
        "id": "lhOgxaOi_1hG",
        "outputId": "148a6612-358a-45ec-a021-ae7155b2610b"
      },
      "execution_count": 9,
      "outputs": [
        {
          "output_type": "execute_result",
          "data": {
            "text/plain": [
              "                                                   Text Language\n",
              "2042  விக்கிப்பீடியா (Wikipedia; /ˌwɪkɪˈpiːdiə/ (கேட...    Tamil\n",
              "2043  தமிழ் விக்கிப்பீடியாவின் 1,00,000க்கும் மேற்பட...    Tamil\n",
              "2044  பெரும்பாலும் இதன் எல்லாக் கட்டுரைகளும், இதனைப்...    Tamil\n",
              "2045  [6] மேலும் இது கிட்டத்தட்ட 100,000 முனைப்பான ப...    Tamil\n",
              "2046  [7][8] சனவரி 2021 வரையில், விக்கிப்பீடியா 285 ...    Tamil\n",
              "...                                                 ...      ...\n",
              "2506  உங்கள் தவறு என்னவென்றால், அன்றிலிருந்து இன்றுவ...    Tamil\n",
              "2507  நர்சிசா அவள் முதலில் போராடிய வழிகளை மாற்றினாள்...    Tamil\n",
              "2508  எப்படி ' இப்போது நடந்த எல்லாவற்றையும் மரியான் ...    Tamil\n",
              "2509  அவள் இனிமேல் தங்க ரொட்டியை விரும்ப மாட்டாள் என...    Tamil\n",
              "2510  டெர்ரி நீங்கள் உண்மையில் அந்த தேவதையைப் போலவே ...    Tamil\n",
              "\n",
              "[469 rows x 2 columns]"
            ],
            "text/html": [
              "\n",
              "  <div id=\"df-41b9e28d-82f5-47b8-9b86-631a8f72085b\" class=\"colab-df-container\">\n",
              "    <div>\n",
              "<style scoped>\n",
              "    .dataframe tbody tr th:only-of-type {\n",
              "        vertical-align: middle;\n",
              "    }\n",
              "\n",
              "    .dataframe tbody tr th {\n",
              "        vertical-align: top;\n",
              "    }\n",
              "\n",
              "    .dataframe thead th {\n",
              "        text-align: right;\n",
              "    }\n",
              "</style>\n",
              "<table border=\"1\" class=\"dataframe\">\n",
              "  <thead>\n",
              "    <tr style=\"text-align: right;\">\n",
              "      <th></th>\n",
              "      <th>Text</th>\n",
              "      <th>Language</th>\n",
              "    </tr>\n",
              "  </thead>\n",
              "  <tbody>\n",
              "    <tr>\n",
              "      <th>2042</th>\n",
              "      <td>விக்கிப்பீடியா (Wikipedia; /ˌwɪkɪˈpiːdiə/ (கேட...</td>\n",
              "      <td>Tamil</td>\n",
              "    </tr>\n",
              "    <tr>\n",
              "      <th>2043</th>\n",
              "      <td>தமிழ் விக்கிப்பீடியாவின் 1,00,000க்கும் மேற்பட...</td>\n",
              "      <td>Tamil</td>\n",
              "    </tr>\n",
              "    <tr>\n",
              "      <th>2044</th>\n",
              "      <td>பெரும்பாலும் இதன் எல்லாக் கட்டுரைகளும், இதனைப்...</td>\n",
              "      <td>Tamil</td>\n",
              "    </tr>\n",
              "    <tr>\n",
              "      <th>2045</th>\n",
              "      <td>[6] மேலும் இது கிட்டத்தட்ட 100,000 முனைப்பான ப...</td>\n",
              "      <td>Tamil</td>\n",
              "    </tr>\n",
              "    <tr>\n",
              "      <th>2046</th>\n",
              "      <td>[7][8] சனவரி 2021 வரையில், விக்கிப்பீடியா 285 ...</td>\n",
              "      <td>Tamil</td>\n",
              "    </tr>\n",
              "    <tr>\n",
              "      <th>...</th>\n",
              "      <td>...</td>\n",
              "      <td>...</td>\n",
              "    </tr>\n",
              "    <tr>\n",
              "      <th>2506</th>\n",
              "      <td>உங்கள் தவறு என்னவென்றால், அன்றிலிருந்து இன்றுவ...</td>\n",
              "      <td>Tamil</td>\n",
              "    </tr>\n",
              "    <tr>\n",
              "      <th>2507</th>\n",
              "      <td>நர்சிசா அவள் முதலில் போராடிய வழிகளை மாற்றினாள்...</td>\n",
              "      <td>Tamil</td>\n",
              "    </tr>\n",
              "    <tr>\n",
              "      <th>2508</th>\n",
              "      <td>எப்படி ' இப்போது நடந்த எல்லாவற்றையும் மரியான் ...</td>\n",
              "      <td>Tamil</td>\n",
              "    </tr>\n",
              "    <tr>\n",
              "      <th>2509</th>\n",
              "      <td>அவள் இனிமேல் தங்க ரொட்டியை விரும்ப மாட்டாள் என...</td>\n",
              "      <td>Tamil</td>\n",
              "    </tr>\n",
              "    <tr>\n",
              "      <th>2510</th>\n",
              "      <td>டெர்ரி நீங்கள் உண்மையில் அந்த தேவதையைப் போலவே ...</td>\n",
              "      <td>Tamil</td>\n",
              "    </tr>\n",
              "  </tbody>\n",
              "</table>\n",
              "<p>469 rows × 2 columns</p>\n",
              "</div>\n",
              "    <div class=\"colab-df-buttons\">\n",
              "\n",
              "  <div class=\"colab-df-container\">\n",
              "    <button class=\"colab-df-convert\" onclick=\"convertToInteractive('df-41b9e28d-82f5-47b8-9b86-631a8f72085b')\"\n",
              "            title=\"Convert this dataframe to an interactive table.\"\n",
              "            style=\"display:none;\">\n",
              "\n",
              "  <svg xmlns=\"http://www.w3.org/2000/svg\" height=\"24px\" viewBox=\"0 -960 960 960\">\n",
              "    <path d=\"M120-120v-720h720v720H120Zm60-500h600v-160H180v160Zm220 220h160v-160H400v160Zm0 220h160v-160H400v160ZM180-400h160v-160H180v160Zm440 0h160v-160H620v160ZM180-180h160v-160H180v160Zm440 0h160v-160H620v160Z\"/>\n",
              "  </svg>\n",
              "    </button>\n",
              "\n",
              "  <style>\n",
              "    .colab-df-container {\n",
              "      display:flex;\n",
              "      gap: 12px;\n",
              "    }\n",
              "\n",
              "    .colab-df-convert {\n",
              "      background-color: #E8F0FE;\n",
              "      border: none;\n",
              "      border-radius: 50%;\n",
              "      cursor: pointer;\n",
              "      display: none;\n",
              "      fill: #1967D2;\n",
              "      height: 32px;\n",
              "      padding: 0 0 0 0;\n",
              "      width: 32px;\n",
              "    }\n",
              "\n",
              "    .colab-df-convert:hover {\n",
              "      background-color: #E2EBFA;\n",
              "      box-shadow: 0px 1px 2px rgba(60, 64, 67, 0.3), 0px 1px 3px 1px rgba(60, 64, 67, 0.15);\n",
              "      fill: #174EA6;\n",
              "    }\n",
              "\n",
              "    .colab-df-buttons div {\n",
              "      margin-bottom: 4px;\n",
              "    }\n",
              "\n",
              "    [theme=dark] .colab-df-convert {\n",
              "      background-color: #3B4455;\n",
              "      fill: #D2E3FC;\n",
              "    }\n",
              "\n",
              "    [theme=dark] .colab-df-convert:hover {\n",
              "      background-color: #434B5C;\n",
              "      box-shadow: 0px 1px 3px 1px rgba(0, 0, 0, 0.15);\n",
              "      filter: drop-shadow(0px 1px 2px rgba(0, 0, 0, 0.3));\n",
              "      fill: #FFFFFF;\n",
              "    }\n",
              "  </style>\n",
              "\n",
              "    <script>\n",
              "      const buttonEl =\n",
              "        document.querySelector('#df-41b9e28d-82f5-47b8-9b86-631a8f72085b button.colab-df-convert');\n",
              "      buttonEl.style.display =\n",
              "        google.colab.kernel.accessAllowed ? 'block' : 'none';\n",
              "\n",
              "      async function convertToInteractive(key) {\n",
              "        const element = document.querySelector('#df-41b9e28d-82f5-47b8-9b86-631a8f72085b');\n",
              "        const dataTable =\n",
              "          await google.colab.kernel.invokeFunction('convertToInteractive',\n",
              "                                                    [key], {});\n",
              "        if (!dataTable) return;\n",
              "\n",
              "        const docLinkHtml = 'Like what you see? Visit the ' +\n",
              "          '<a target=\"_blank\" href=https://colab.research.google.com/notebooks/data_table.ipynb>data table notebook</a>'\n",
              "          + ' to learn more about interactive tables.';\n",
              "        element.innerHTML = '';\n",
              "        dataTable['output_type'] = 'display_data';\n",
              "        await google.colab.output.renderOutput(dataTable, element);\n",
              "        const docLink = document.createElement('div');\n",
              "        docLink.innerHTML = docLinkHtml;\n",
              "        element.appendChild(docLink);\n",
              "      }\n",
              "    </script>\n",
              "  </div>\n",
              "\n",
              "\n",
              "<div id=\"df-3c0bc4a9-e5f4-44fa-b572-295a8e365de3\">\n",
              "  <button class=\"colab-df-quickchart\" onclick=\"quickchart('df-3c0bc4a9-e5f4-44fa-b572-295a8e365de3')\"\n",
              "            title=\"Suggest charts\"\n",
              "            style=\"display:none;\">\n",
              "\n",
              "<svg xmlns=\"http://www.w3.org/2000/svg\" height=\"24px\"viewBox=\"0 0 24 24\"\n",
              "     width=\"24px\">\n",
              "    <g>\n",
              "        <path d=\"M19 3H5c-1.1 0-2 .9-2 2v14c0 1.1.9 2 2 2h14c1.1 0 2-.9 2-2V5c0-1.1-.9-2-2-2zM9 17H7v-7h2v7zm4 0h-2V7h2v10zm4 0h-2v-4h2v4z\"/>\n",
              "    </g>\n",
              "</svg>\n",
              "  </button>\n",
              "\n",
              "<style>\n",
              "  .colab-df-quickchart {\n",
              "      --bg-color: #E8F0FE;\n",
              "      --fill-color: #1967D2;\n",
              "      --hover-bg-color: #E2EBFA;\n",
              "      --hover-fill-color: #174EA6;\n",
              "      --disabled-fill-color: #AAA;\n",
              "      --disabled-bg-color: #DDD;\n",
              "  }\n",
              "\n",
              "  [theme=dark] .colab-df-quickchart {\n",
              "      --bg-color: #3B4455;\n",
              "      --fill-color: #D2E3FC;\n",
              "      --hover-bg-color: #434B5C;\n",
              "      --hover-fill-color: #FFFFFF;\n",
              "      --disabled-bg-color: #3B4455;\n",
              "      --disabled-fill-color: #666;\n",
              "  }\n",
              "\n",
              "  .colab-df-quickchart {\n",
              "    background-color: var(--bg-color);\n",
              "    border: none;\n",
              "    border-radius: 50%;\n",
              "    cursor: pointer;\n",
              "    display: none;\n",
              "    fill: var(--fill-color);\n",
              "    height: 32px;\n",
              "    padding: 0;\n",
              "    width: 32px;\n",
              "  }\n",
              "\n",
              "  .colab-df-quickchart:hover {\n",
              "    background-color: var(--hover-bg-color);\n",
              "    box-shadow: 0 1px 2px rgba(60, 64, 67, 0.3), 0 1px 3px 1px rgba(60, 64, 67, 0.15);\n",
              "    fill: var(--button-hover-fill-color);\n",
              "  }\n",
              "\n",
              "  .colab-df-quickchart-complete:disabled,\n",
              "  .colab-df-quickchart-complete:disabled:hover {\n",
              "    background-color: var(--disabled-bg-color);\n",
              "    fill: var(--disabled-fill-color);\n",
              "    box-shadow: none;\n",
              "  }\n",
              "\n",
              "  .colab-df-spinner {\n",
              "    border: 2px solid var(--fill-color);\n",
              "    border-color: transparent;\n",
              "    border-bottom-color: var(--fill-color);\n",
              "    animation:\n",
              "      spin 1s steps(1) infinite;\n",
              "  }\n",
              "\n",
              "  @keyframes spin {\n",
              "    0% {\n",
              "      border-color: transparent;\n",
              "      border-bottom-color: var(--fill-color);\n",
              "      border-left-color: var(--fill-color);\n",
              "    }\n",
              "    20% {\n",
              "      border-color: transparent;\n",
              "      border-left-color: var(--fill-color);\n",
              "      border-top-color: var(--fill-color);\n",
              "    }\n",
              "    30% {\n",
              "      border-color: transparent;\n",
              "      border-left-color: var(--fill-color);\n",
              "      border-top-color: var(--fill-color);\n",
              "      border-right-color: var(--fill-color);\n",
              "    }\n",
              "    40% {\n",
              "      border-color: transparent;\n",
              "      border-right-color: var(--fill-color);\n",
              "      border-top-color: var(--fill-color);\n",
              "    }\n",
              "    60% {\n",
              "      border-color: transparent;\n",
              "      border-right-color: var(--fill-color);\n",
              "    }\n",
              "    80% {\n",
              "      border-color: transparent;\n",
              "      border-right-color: var(--fill-color);\n",
              "      border-bottom-color: var(--fill-color);\n",
              "    }\n",
              "    90% {\n",
              "      border-color: transparent;\n",
              "      border-bottom-color: var(--fill-color);\n",
              "    }\n",
              "  }\n",
              "</style>\n",
              "\n",
              "  <script>\n",
              "    async function quickchart(key) {\n",
              "      const quickchartButtonEl =\n",
              "        document.querySelector('#' + key + ' button');\n",
              "      quickchartButtonEl.disabled = true;  // To prevent multiple clicks.\n",
              "      quickchartButtonEl.classList.add('colab-df-spinner');\n",
              "      try {\n",
              "        const charts = await google.colab.kernel.invokeFunction(\n",
              "            'suggestCharts', [key], {});\n",
              "      } catch (error) {\n",
              "        console.error('Error during call to suggestCharts:', error);\n",
              "      }\n",
              "      quickchartButtonEl.classList.remove('colab-df-spinner');\n",
              "      quickchartButtonEl.classList.add('colab-df-quickchart-complete');\n",
              "    }\n",
              "    (() => {\n",
              "      let quickchartButtonEl =\n",
              "        document.querySelector('#df-3c0bc4a9-e5f4-44fa-b572-295a8e365de3 button');\n",
              "      quickchartButtonEl.style.display =\n",
              "        google.colab.kernel.accessAllowed ? 'block' : 'none';\n",
              "    })();\n",
              "  </script>\n",
              "</div>\n",
              "\n",
              "    </div>\n",
              "  </div>\n"
            ],
            "application/vnd.google.colaboratory.intrinsic+json": {
              "type": "dataframe",
              "summary": "{\n  \"name\": \"dataset\",\n  \"rows\": 469,\n  \"fields\": [\n    {\n      \"column\": \"Text\",\n      \"properties\": {\n        \"dtype\": \"string\",\n        \"num_unique_values\": 464,\n        \"samples\": [\n          \"\\u0b87\\u0ba4\\u0bc1 \\u0bb9\\u0bb5\\u0bbe\\u0baf\\u0bcd \\u0bae\\u0bca\\u0bb4\\u0bbf\\u0baf\\u0bbf\\u0bb2\\u0bcd \\\"\\u0bb5\\u0bbf\\u0bb0\\u0bc8\\u0bb5\\u0bc1\\\" \\u0b8e\\u0ba9\\u0baa\\u0bcd \\u0baa\\u0bca\\u0bb0\\u0bc1\\u0bb3\\u0bcd\\u0baa\\u0b9f\\u0bc1\\u0bae\\u0bcd \\u0bb5\\u0bbf\\u0b95\\u0bcd\\u0b95\\u0bbf \\u0b8e\\u0ba9\\u0bcd\\u0bb1 \\u0b9a\\u0bca\\u0bb2\\u0bcd\\u0bb2\\u0bbf\\u0bb2\\u0bbf\\u0bb0\\u0bc1\\u0ba8\\u0bcd\\u0ba4\\u0bc1 \\u0baa\\u0bc6\\u0bb1\\u0baa\\u0bcd\\u0baa\\u0b9f\\u0bcd\\u0b9f\\u0ba4\\u0bc1.\",\n          \"\\u0b86\\u0bb0\\u0bae\\u0bcd\\u0baa \\u0b95\\u0bbe\\u0bb2\\u0ba4\\u0bcd\\u0ba4\\u0bbf\\u0bb2\\u0bcd, \\u0ba8\\u0bc1\\u0baa\\u0bc0\\u0b9f\\u0bbf\\u0baf\\u0bbe\\u0bb5\\u0bbf\\u0bb1\\u0bcd\\u0b95\\u0bc1, \\u0b85\\u0ba4\\u0ba9\\u0bcd \\u0b9a\\u0bca\\u0ba8\\u0bcd\\u0ba4 \\u0ba8\\u0bc1\\u0baa\\u0bc0\\u0b9f\\u0bbf\\u0baf\\u0bbe \\u0bae\\u0bc2\\u0bb2\\u0bae\\u0bcd \\u0ba4\\u0bbf\\u0bb1\\u0ba8\\u0bcd\\u0ba4 \\u0b89\\u0bb3\\u0bcd\\u0bb3\\u0b9f\\u0b95\\u0bcd\\u0b95 \\u0b89\\u0bb0\\u0bbf\\u0bae\\u0bae\\u0bcd \\u0bb5\\u0bb4\\u0b99\\u0bcd\\u0b95\\u0baa\\u0bcd\\u0baa\\u0b9f\\u0bcd\\u0b9f\\u0ba4\\u0bc1.\",\n          \"[40] \\u0b8e\\u0ba9\\u0bcd\\u0bb1 \\u0baa\\u0bc6\\u0baf\\u0bb0\\u0bbf\\u0bb2\\u0bcd \\u0bb5\\u0bc6\\u0bb3\\u0bbf\\u0baf\\u0bbf\\u0b9f\\u0baa\\u0bcd\\u0baa\\u0b9f\\u0bcd\\u0b9f\\u0bc1, \\u0ba8\\u0bc1\\u0baa\\u0bc0\\u0b9f\\u0bbf\\u0baf\\u0bbe \\u0bae\\u0bbf\\u0ba9\\u0bcd\\u0ba9\\u0b9e\\u0bcd\\u0b9a\\u0bb2\\u0bcd \\u0baa\\u0b9f\\u0bcd\\u0b9f\\u0bbf\\u0baf\\u0bb2\\u0bbf\\u0bb2\\u0bcd \\u0bb2\\u0bbe\\u0bb0\\u0bbf \\u0b9a\\u0bbe\\u0b99\\u0bcd\\u0b95\\u0bb0\\u0bbe\\u0bb2\\u0bcd \\u0b85\\u0bb1\\u0bbf\\u0bb5\\u0bbf\\u0b95\\u0bcd\\u0b95\\u0baa\\u0bcd\\u0baa\\u0b9f\\u0bcd\\u0b9f\\u0ba4\\u0bc1.\"\n        ],\n        \"semantic_type\": \"\",\n        \"description\": \"\"\n      }\n    },\n    {\n      \"column\": \"Language\",\n      \"properties\": {\n        \"dtype\": \"category\",\n        \"num_unique_values\": 1,\n        \"samples\": [\n          \"Tamil\"\n        ],\n        \"semantic_type\": \"\",\n        \"description\": \"\"\n      }\n    }\n  ]\n}"
            }
          },
          "metadata": {},
          "execution_count": 9
        }
      ]
    },
    {
      "cell_type": "code",
      "source": [
        "X = dataset['Text']\n",
        "y = dataset['Language']"
      ],
      "metadata": {
        "id": "gqXKe-mlEJQ3"
      },
      "execution_count": 10,
      "outputs": []
    },
    {
      "cell_type": "code",
      "source": [
        "from sklearn.model_selection import train_test_split\n",
        "X_train, X_test, y_train, y_test = train_test_split(X, y, test_size=0.2, random_state=42, shuffle=True)\n",
        "len(X_train), len(X_test)"
      ],
      "metadata": {
        "colab": {
          "base_uri": "https://localhost:8080/"
        },
        "id": "xA__cX_dA8u6",
        "outputId": "04236af5-9f59-41fa-b276-d0482a93722c"
      },
      "execution_count": 11,
      "outputs": [
        {
          "output_type": "execute_result",
          "data": {
            "text/plain": [
              "(8269, 2068)"
            ]
          },
          "metadata": {},
          "execution_count": 11
        }
      ]
    },
    {
      "cell_type": "code",
      "source": [
        "X_train[:20]"
      ],
      "metadata": {
        "colab": {
          "base_uri": "https://localhost:8080/"
        },
        "id": "yVm4l9CEEf6r",
        "outputId": "88e1de5a-cef9-440e-d902-d0cf1de67332"
      },
      "execution_count": 12,
      "outputs": [
        {
          "output_type": "execute_result",
          "data": {
            "text/plain": [
              "5967    τώρα αργότερα η Μέλι και ο Τέρι έσπασαν αντίο ...\n",
              "3570                         Améliorez-le ou discutez-en.\n",
              "7607    non ne vale la pena, personalmente amo la fras...\n",
              "3080    tente copiar minha pronúncia exatamente inclui...\n",
              "828     If the complexity of the model is increased in...\n",
              "6973         Jeg er bange for, at jeg ikke har nogen idé.\n",
              "1672                   ഒന്നോ രണ്ടോ തവണ ഉച്ചാരണം കേൾക്കുക.\n",
              "7882    Eğer, vandalizm ya da \"revert war\" (geri dönüş...\n",
              "6167    Википедия в настоящее время работает на выделе...\n",
              "2991    e então vá em frente e explique de onde você s...\n",
              "4344    In september 2008 ontving Wikipedia de \"Quadri...\n",
              "8811                                            tvekande.\n",
              "2319                                        இது என் தவறு.\n",
              "2045    [6] மேலும் இது கிட்டத்தட்ட 100,000 முனைப்பான ப...\n",
              "6867    Jeg lyttede ikke til en anden sætning, som jeg...\n",
              "9220    لدي موعد مع أصدقائي هذا المساء أو سألتقي مع أص...\n",
              "4091                                Bonjour et bienvenue.\n",
              "1295                               i'd rather you didn't.\n",
              "8451    Wikipedia hade också ungefär samma antal allva...\n",
              "591     [243] Bots are able to indicate edits from par...\n",
              "Name: Text, dtype: object"
            ]
          },
          "metadata": {},
          "execution_count": 12
        }
      ]
    },
    {
      "cell_type": "code",
      "source": [
        "from sklearn.feature_extraction.text import CountVectorizer\n",
        "from sklearn.preprocessing import LabelEncoder\n",
        "\n",
        "vectorizer = CountVectorizer()\n",
        "encoder = LabelEncoder()\n",
        "\n",
        "X_train = vectorizer.fit_transform(X_train)\n",
        "X_test = vectorizer.transform(X_test)\n",
        "\n",
        "y_train = encoder.fit_transform(y_train)\n",
        "y_test = encoder.transform(y_test)"
      ],
      "metadata": {
        "id": "3EYevTnGEsHN"
      },
      "execution_count": 13,
      "outputs": []
    },
    {
      "cell_type": "code",
      "source": [
        "y_train[:10]"
      ],
      "metadata": {
        "colab": {
          "base_uri": "https://localhost:8080/"
        },
        "id": "_QIoqvRzGmsn",
        "outputId": "82022ee6-ae79-4eb1-af99-a0f031fe02fb"
      },
      "execution_count": 14,
      "outputs": [
        {
          "output_type": "execute_result",
          "data": {
            "text/plain": [
              "array([ 6,  4,  8, 11,  3,  1, 10, 16, 12, 11])"
            ]
          },
          "metadata": {},
          "execution_count": 14
        }
      ]
    },
    {
      "cell_type": "code",
      "source": [
        "from sklearn.naive_bayes import MultinomialNB\n",
        "model_1 = MultinomialNB()\n",
        "model_1.fit(X_train, y_train)"
      ],
      "metadata": {
        "colab": {
          "base_uri": "https://localhost:8080/",
          "height": 74
        },
        "id": "TLvTIUg2HNUW",
        "outputId": "1d6827a2-8b93-4aca-ac04-9e2104eedfc6"
      },
      "execution_count": 15,
      "outputs": [
        {
          "output_type": "execute_result",
          "data": {
            "text/plain": [
              "MultinomialNB()"
            ],
            "text/html": [
              "<style>#sk-container-id-1 {color: black;background-color: white;}#sk-container-id-1 pre{padding: 0;}#sk-container-id-1 div.sk-toggleable {background-color: white;}#sk-container-id-1 label.sk-toggleable__label {cursor: pointer;display: block;width: 100%;margin-bottom: 0;padding: 0.3em;box-sizing: border-box;text-align: center;}#sk-container-id-1 label.sk-toggleable__label-arrow:before {content: \"▸\";float: left;margin-right: 0.25em;color: #696969;}#sk-container-id-1 label.sk-toggleable__label-arrow:hover:before {color: black;}#sk-container-id-1 div.sk-estimator:hover label.sk-toggleable__label-arrow:before {color: black;}#sk-container-id-1 div.sk-toggleable__content {max-height: 0;max-width: 0;overflow: hidden;text-align: left;background-color: #f0f8ff;}#sk-container-id-1 div.sk-toggleable__content pre {margin: 0.2em;color: black;border-radius: 0.25em;background-color: #f0f8ff;}#sk-container-id-1 input.sk-toggleable__control:checked~div.sk-toggleable__content {max-height: 200px;max-width: 100%;overflow: auto;}#sk-container-id-1 input.sk-toggleable__control:checked~label.sk-toggleable__label-arrow:before {content: \"▾\";}#sk-container-id-1 div.sk-estimator input.sk-toggleable__control:checked~label.sk-toggleable__label {background-color: #d4ebff;}#sk-container-id-1 div.sk-label input.sk-toggleable__control:checked~label.sk-toggleable__label {background-color: #d4ebff;}#sk-container-id-1 input.sk-hidden--visually {border: 0;clip: rect(1px 1px 1px 1px);clip: rect(1px, 1px, 1px, 1px);height: 1px;margin: -1px;overflow: hidden;padding: 0;position: absolute;width: 1px;}#sk-container-id-1 div.sk-estimator {font-family: monospace;background-color: #f0f8ff;border: 1px dotted black;border-radius: 0.25em;box-sizing: border-box;margin-bottom: 0.5em;}#sk-container-id-1 div.sk-estimator:hover {background-color: #d4ebff;}#sk-container-id-1 div.sk-parallel-item::after {content: \"\";width: 100%;border-bottom: 1px solid gray;flex-grow: 1;}#sk-container-id-1 div.sk-label:hover label.sk-toggleable__label {background-color: #d4ebff;}#sk-container-id-1 div.sk-serial::before {content: \"\";position: absolute;border-left: 1px solid gray;box-sizing: border-box;top: 0;bottom: 0;left: 50%;z-index: 0;}#sk-container-id-1 div.sk-serial {display: flex;flex-direction: column;align-items: center;background-color: white;padding-right: 0.2em;padding-left: 0.2em;position: relative;}#sk-container-id-1 div.sk-item {position: relative;z-index: 1;}#sk-container-id-1 div.sk-parallel {display: flex;align-items: stretch;justify-content: center;background-color: white;position: relative;}#sk-container-id-1 div.sk-item::before, #sk-container-id-1 div.sk-parallel-item::before {content: \"\";position: absolute;border-left: 1px solid gray;box-sizing: border-box;top: 0;bottom: 0;left: 50%;z-index: -1;}#sk-container-id-1 div.sk-parallel-item {display: flex;flex-direction: column;z-index: 1;position: relative;background-color: white;}#sk-container-id-1 div.sk-parallel-item:first-child::after {align-self: flex-end;width: 50%;}#sk-container-id-1 div.sk-parallel-item:last-child::after {align-self: flex-start;width: 50%;}#sk-container-id-1 div.sk-parallel-item:only-child::after {width: 0;}#sk-container-id-1 div.sk-dashed-wrapped {border: 1px dashed gray;margin: 0 0.4em 0.5em 0.4em;box-sizing: border-box;padding-bottom: 0.4em;background-color: white;}#sk-container-id-1 div.sk-label label {font-family: monospace;font-weight: bold;display: inline-block;line-height: 1.2em;}#sk-container-id-1 div.sk-label-container {text-align: center;}#sk-container-id-1 div.sk-container {/* jupyter's `normalize.less` sets `[hidden] { display: none; }` but bootstrap.min.css set `[hidden] { display: none !important; }` so we also need the `!important` here to be able to override the default hidden behavior on the sphinx rendered scikit-learn.org. See: https://github.com/scikit-learn/scikit-learn/issues/21755 */display: inline-block !important;position: relative;}#sk-container-id-1 div.sk-text-repr-fallback {display: none;}</style><div id=\"sk-container-id-1\" class=\"sk-top-container\"><div class=\"sk-text-repr-fallback\"><pre>MultinomialNB()</pre><b>In a Jupyter environment, please rerun this cell to show the HTML representation or trust the notebook. <br />On GitHub, the HTML representation is unable to render, please try loading this page with nbviewer.org.</b></div><div class=\"sk-container\" hidden><div class=\"sk-item\"><div class=\"sk-estimator sk-toggleable\"><input class=\"sk-toggleable__control sk-hidden--visually\" id=\"sk-estimator-id-1\" type=\"checkbox\" checked><label for=\"sk-estimator-id-1\" class=\"sk-toggleable__label sk-toggleable__label-arrow\">MultinomialNB</label><div class=\"sk-toggleable__content\"><pre>MultinomialNB()</pre></div></div></div></div></div>"
            ]
          },
          "metadata": {},
          "execution_count": 15
        }
      ]
    },
    {
      "cell_type": "code",
      "source": [
        "model_1_preds = model_1.predict(X_test)\n",
        "model_1_preds[:6]"
      ],
      "metadata": {
        "colab": {
          "base_uri": "https://localhost:8080/"
        },
        "id": "My6IMPN9HcYD",
        "outputId": "da4f9c8a-9dcc-4a04-fe99-a707affc2386"
      },
      "execution_count": 16,
      "outputs": [
        {
          "output_type": "execute_result",
          "data": {
            "text/plain": [
              "array([12,  8,  3, 12,  3,  1])"
            ]
          },
          "metadata": {},
          "execution_count": 16
        }
      ]
    },
    {
      "cell_type": "code",
      "source": [
        "from sklearn.metrics import accuracy_score\n",
        "\n",
        "def evaluate(y_true, y_pred):\n",
        "  return accuracy_score(y_true, y_pred)"
      ],
      "metadata": {
        "id": "zUycGvZoHny5"
      },
      "execution_count": 17,
      "outputs": []
    },
    {
      "cell_type": "code",
      "source": [
        "model_1_acc = evaluate(y_test, model_1_preds)\n",
        "model_1_acc"
      ],
      "metadata": {
        "colab": {
          "base_uri": "https://localhost:8080/"
        },
        "id": "DxM7tEHmH6O5",
        "outputId": "e09b6f42-d9c7-4b1d-915e-09bc67a02971"
      },
      "execution_count": 18,
      "outputs": [
        {
          "output_type": "execute_result",
          "data": {
            "text/plain": [
              "0.9825918762088974"
            ]
          },
          "metadata": {},
          "execution_count": 18
        }
      ]
    },
    {
      "cell_type": "code",
      "source": [
        "from sklearn.svm import SVC\n",
        "model_2 = SVC()\n",
        "model_2.fit(X_train, y_train)"
      ],
      "metadata": {
        "colab": {
          "base_uri": "https://localhost:8080/",
          "height": 74
        },
        "id": "8zFxbxGEIDvB",
        "outputId": "711e87dd-eb34-4f23-de86-52b815c24e6c"
      },
      "execution_count": 19,
      "outputs": [
        {
          "output_type": "execute_result",
          "data": {
            "text/plain": [
              "SVC()"
            ],
            "text/html": [
              "<style>#sk-container-id-2 {color: black;background-color: white;}#sk-container-id-2 pre{padding: 0;}#sk-container-id-2 div.sk-toggleable {background-color: white;}#sk-container-id-2 label.sk-toggleable__label {cursor: pointer;display: block;width: 100%;margin-bottom: 0;padding: 0.3em;box-sizing: border-box;text-align: center;}#sk-container-id-2 label.sk-toggleable__label-arrow:before {content: \"▸\";float: left;margin-right: 0.25em;color: #696969;}#sk-container-id-2 label.sk-toggleable__label-arrow:hover:before {color: black;}#sk-container-id-2 div.sk-estimator:hover label.sk-toggleable__label-arrow:before {color: black;}#sk-container-id-2 div.sk-toggleable__content {max-height: 0;max-width: 0;overflow: hidden;text-align: left;background-color: #f0f8ff;}#sk-container-id-2 div.sk-toggleable__content pre {margin: 0.2em;color: black;border-radius: 0.25em;background-color: #f0f8ff;}#sk-container-id-2 input.sk-toggleable__control:checked~div.sk-toggleable__content {max-height: 200px;max-width: 100%;overflow: auto;}#sk-container-id-2 input.sk-toggleable__control:checked~label.sk-toggleable__label-arrow:before {content: \"▾\";}#sk-container-id-2 div.sk-estimator input.sk-toggleable__control:checked~label.sk-toggleable__label {background-color: #d4ebff;}#sk-container-id-2 div.sk-label input.sk-toggleable__control:checked~label.sk-toggleable__label {background-color: #d4ebff;}#sk-container-id-2 input.sk-hidden--visually {border: 0;clip: rect(1px 1px 1px 1px);clip: rect(1px, 1px, 1px, 1px);height: 1px;margin: -1px;overflow: hidden;padding: 0;position: absolute;width: 1px;}#sk-container-id-2 div.sk-estimator {font-family: monospace;background-color: #f0f8ff;border: 1px dotted black;border-radius: 0.25em;box-sizing: border-box;margin-bottom: 0.5em;}#sk-container-id-2 div.sk-estimator:hover {background-color: #d4ebff;}#sk-container-id-2 div.sk-parallel-item::after {content: \"\";width: 100%;border-bottom: 1px solid gray;flex-grow: 1;}#sk-container-id-2 div.sk-label:hover label.sk-toggleable__label {background-color: #d4ebff;}#sk-container-id-2 div.sk-serial::before {content: \"\";position: absolute;border-left: 1px solid gray;box-sizing: border-box;top: 0;bottom: 0;left: 50%;z-index: 0;}#sk-container-id-2 div.sk-serial {display: flex;flex-direction: column;align-items: center;background-color: white;padding-right: 0.2em;padding-left: 0.2em;position: relative;}#sk-container-id-2 div.sk-item {position: relative;z-index: 1;}#sk-container-id-2 div.sk-parallel {display: flex;align-items: stretch;justify-content: center;background-color: white;position: relative;}#sk-container-id-2 div.sk-item::before, #sk-container-id-2 div.sk-parallel-item::before {content: \"\";position: absolute;border-left: 1px solid gray;box-sizing: border-box;top: 0;bottom: 0;left: 50%;z-index: -1;}#sk-container-id-2 div.sk-parallel-item {display: flex;flex-direction: column;z-index: 1;position: relative;background-color: white;}#sk-container-id-2 div.sk-parallel-item:first-child::after {align-self: flex-end;width: 50%;}#sk-container-id-2 div.sk-parallel-item:last-child::after {align-self: flex-start;width: 50%;}#sk-container-id-2 div.sk-parallel-item:only-child::after {width: 0;}#sk-container-id-2 div.sk-dashed-wrapped {border: 1px dashed gray;margin: 0 0.4em 0.5em 0.4em;box-sizing: border-box;padding-bottom: 0.4em;background-color: white;}#sk-container-id-2 div.sk-label label {font-family: monospace;font-weight: bold;display: inline-block;line-height: 1.2em;}#sk-container-id-2 div.sk-label-container {text-align: center;}#sk-container-id-2 div.sk-container {/* jupyter's `normalize.less` sets `[hidden] { display: none; }` but bootstrap.min.css set `[hidden] { display: none !important; }` so we also need the `!important` here to be able to override the default hidden behavior on the sphinx rendered scikit-learn.org. See: https://github.com/scikit-learn/scikit-learn/issues/21755 */display: inline-block !important;position: relative;}#sk-container-id-2 div.sk-text-repr-fallback {display: none;}</style><div id=\"sk-container-id-2\" class=\"sk-top-container\"><div class=\"sk-text-repr-fallback\"><pre>SVC()</pre><b>In a Jupyter environment, please rerun this cell to show the HTML representation or trust the notebook. <br />On GitHub, the HTML representation is unable to render, please try loading this page with nbviewer.org.</b></div><div class=\"sk-container\" hidden><div class=\"sk-item\"><div class=\"sk-estimator sk-toggleable\"><input class=\"sk-toggleable__control sk-hidden--visually\" id=\"sk-estimator-id-2\" type=\"checkbox\" checked><label for=\"sk-estimator-id-2\" class=\"sk-toggleable__label sk-toggleable__label-arrow\">SVC</label><div class=\"sk-toggleable__content\"><pre>SVC()</pre></div></div></div></div></div>"
            ]
          },
          "metadata": {},
          "execution_count": 19
        }
      ]
    },
    {
      "cell_type": "code",
      "source": [
        "model_2_preds = model_2.predict(X_test)\n",
        "model_2_preds[:6]"
      ],
      "metadata": {
        "colab": {
          "base_uri": "https://localhost:8080/"
        },
        "id": "h5TQ4pP3JXxf",
        "outputId": "c60d3f0e-011f-44c6-8ff7-5f2cea6f2b95"
      },
      "execution_count": 20,
      "outputs": [
        {
          "output_type": "execute_result",
          "data": {
            "text/plain": [
              "array([12,  8,  3, 12,  3,  1])"
            ]
          },
          "metadata": {},
          "execution_count": 20
        }
      ]
    },
    {
      "cell_type": "code",
      "source": [
        "model_2_acc = evaluate(y_test, model_2_preds)\n",
        "model_2_acc"
      ],
      "metadata": {
        "colab": {
          "base_uri": "https://localhost:8080/"
        },
        "id": "WzlA3AauJdRN",
        "outputId": "a1b9bc98-012b-49b0-f627-fa8157772ccd"
      },
      "execution_count": 21,
      "outputs": [
        {
          "output_type": "execute_result",
          "data": {
            "text/plain": [
              "0.8882978723404256"
            ]
          },
          "metadata": {},
          "execution_count": 21
        }
      ]
    },
    {
      "cell_type": "code",
      "source": [
        "from sklearn.linear_model import LogisticRegression\n",
        "\n",
        "model_3 = LogisticRegression()\n",
        "model_3.fit(X_train, y_train)"
      ],
      "metadata": {
        "colab": {
          "base_uri": "https://localhost:8080/",
          "height": 74
        },
        "id": "QVyZMKnjRKlW",
        "outputId": "9fcb1b86-f59e-442b-c8ac-e5a3c8de3a70"
      },
      "execution_count": 25,
      "outputs": [
        {
          "output_type": "execute_result",
          "data": {
            "text/plain": [
              "LogisticRegression()"
            ],
            "text/html": [
              "<style>#sk-container-id-3 {color: black;background-color: white;}#sk-container-id-3 pre{padding: 0;}#sk-container-id-3 div.sk-toggleable {background-color: white;}#sk-container-id-3 label.sk-toggleable__label {cursor: pointer;display: block;width: 100%;margin-bottom: 0;padding: 0.3em;box-sizing: border-box;text-align: center;}#sk-container-id-3 label.sk-toggleable__label-arrow:before {content: \"▸\";float: left;margin-right: 0.25em;color: #696969;}#sk-container-id-3 label.sk-toggleable__label-arrow:hover:before {color: black;}#sk-container-id-3 div.sk-estimator:hover label.sk-toggleable__label-arrow:before {color: black;}#sk-container-id-3 div.sk-toggleable__content {max-height: 0;max-width: 0;overflow: hidden;text-align: left;background-color: #f0f8ff;}#sk-container-id-3 div.sk-toggleable__content pre {margin: 0.2em;color: black;border-radius: 0.25em;background-color: #f0f8ff;}#sk-container-id-3 input.sk-toggleable__control:checked~div.sk-toggleable__content {max-height: 200px;max-width: 100%;overflow: auto;}#sk-container-id-3 input.sk-toggleable__control:checked~label.sk-toggleable__label-arrow:before {content: \"▾\";}#sk-container-id-3 div.sk-estimator input.sk-toggleable__control:checked~label.sk-toggleable__label {background-color: #d4ebff;}#sk-container-id-3 div.sk-label input.sk-toggleable__control:checked~label.sk-toggleable__label {background-color: #d4ebff;}#sk-container-id-3 input.sk-hidden--visually {border: 0;clip: rect(1px 1px 1px 1px);clip: rect(1px, 1px, 1px, 1px);height: 1px;margin: -1px;overflow: hidden;padding: 0;position: absolute;width: 1px;}#sk-container-id-3 div.sk-estimator {font-family: monospace;background-color: #f0f8ff;border: 1px dotted black;border-radius: 0.25em;box-sizing: border-box;margin-bottom: 0.5em;}#sk-container-id-3 div.sk-estimator:hover {background-color: #d4ebff;}#sk-container-id-3 div.sk-parallel-item::after {content: \"\";width: 100%;border-bottom: 1px solid gray;flex-grow: 1;}#sk-container-id-3 div.sk-label:hover label.sk-toggleable__label {background-color: #d4ebff;}#sk-container-id-3 div.sk-serial::before {content: \"\";position: absolute;border-left: 1px solid gray;box-sizing: border-box;top: 0;bottom: 0;left: 50%;z-index: 0;}#sk-container-id-3 div.sk-serial {display: flex;flex-direction: column;align-items: center;background-color: white;padding-right: 0.2em;padding-left: 0.2em;position: relative;}#sk-container-id-3 div.sk-item {position: relative;z-index: 1;}#sk-container-id-3 div.sk-parallel {display: flex;align-items: stretch;justify-content: center;background-color: white;position: relative;}#sk-container-id-3 div.sk-item::before, #sk-container-id-3 div.sk-parallel-item::before {content: \"\";position: absolute;border-left: 1px solid gray;box-sizing: border-box;top: 0;bottom: 0;left: 50%;z-index: -1;}#sk-container-id-3 div.sk-parallel-item {display: flex;flex-direction: column;z-index: 1;position: relative;background-color: white;}#sk-container-id-3 div.sk-parallel-item:first-child::after {align-self: flex-end;width: 50%;}#sk-container-id-3 div.sk-parallel-item:last-child::after {align-self: flex-start;width: 50%;}#sk-container-id-3 div.sk-parallel-item:only-child::after {width: 0;}#sk-container-id-3 div.sk-dashed-wrapped {border: 1px dashed gray;margin: 0 0.4em 0.5em 0.4em;box-sizing: border-box;padding-bottom: 0.4em;background-color: white;}#sk-container-id-3 div.sk-label label {font-family: monospace;font-weight: bold;display: inline-block;line-height: 1.2em;}#sk-container-id-3 div.sk-label-container {text-align: center;}#sk-container-id-3 div.sk-container {/* jupyter's `normalize.less` sets `[hidden] { display: none; }` but bootstrap.min.css set `[hidden] { display: none !important; }` so we also need the `!important` here to be able to override the default hidden behavior on the sphinx rendered scikit-learn.org. See: https://github.com/scikit-learn/scikit-learn/issues/21755 */display: inline-block !important;position: relative;}#sk-container-id-3 div.sk-text-repr-fallback {display: none;}</style><div id=\"sk-container-id-3\" class=\"sk-top-container\"><div class=\"sk-text-repr-fallback\"><pre>LogisticRegression()</pre><b>In a Jupyter environment, please rerun this cell to show the HTML representation or trust the notebook. <br />On GitHub, the HTML representation is unable to render, please try loading this page with nbviewer.org.</b></div><div class=\"sk-container\" hidden><div class=\"sk-item\"><div class=\"sk-estimator sk-toggleable\"><input class=\"sk-toggleable__control sk-hidden--visually\" id=\"sk-estimator-id-3\" type=\"checkbox\" checked><label for=\"sk-estimator-id-3\" class=\"sk-toggleable__label sk-toggleable__label-arrow\">LogisticRegression</label><div class=\"sk-toggleable__content\"><pre>LogisticRegression()</pre></div></div></div></div></div>"
            ]
          },
          "metadata": {},
          "execution_count": 25
        }
      ]
    },
    {
      "cell_type": "code",
      "source": [
        "model_3_preds = model_3.predict(X_test)\n",
        "model_3_preds[:6]"
      ],
      "metadata": {
        "colab": {
          "base_uri": "https://localhost:8080/"
        },
        "id": "yDj4aHbiRfj8",
        "outputId": "d47aad02-ab35-431a-ebfc-7ed63c488653"
      },
      "execution_count": 26,
      "outputs": [
        {
          "output_type": "execute_result",
          "data": {
            "text/plain": [
              "array([12,  8,  3, 12,  3,  1])"
            ]
          },
          "metadata": {},
          "execution_count": 26
        }
      ]
    },
    {
      "cell_type": "code",
      "source": [
        "model_3_acc = evaluate(y_test, model_3_preds)\n",
        "model_3_acc"
      ],
      "metadata": {
        "colab": {
          "base_uri": "https://localhost:8080/"
        },
        "id": "aUD_UEUpRlev",
        "outputId": "a2502392-5743-42e0-df4e-9cb1156628f1"
      },
      "execution_count": 27,
      "outputs": [
        {
          "output_type": "execute_result",
          "data": {
            "text/plain": [
              "0.9564796905222437"
            ]
          },
          "metadata": {},
          "execution_count": 27
        }
      ]
    },
    {
      "cell_type": "code",
      "source": [
        "model_1_acc, model_2_acc, model_3_acc"
      ],
      "metadata": {
        "colab": {
          "base_uri": "https://localhost:8080/"
        },
        "id": "D5t4Tun7Rs7t",
        "outputId": "192983f4-9123-46fd-f993-135292b1ce1b"
      },
      "execution_count": 28,
      "outputs": [
        {
          "output_type": "execute_result",
          "data": {
            "text/plain": [
              "(0.9825918762088974, 0.8882978723404256, 0.9564796905222437)"
            ]
          },
          "metadata": {},
          "execution_count": 28
        }
      ]
    },
    {
      "cell_type": "code",
      "source": [
        "def pred(text):\n",
        "  pred = model_1.predict(vectorizer.transform([text]))\n",
        "  return encoder.inverse_transform(pred)[0]"
      ],
      "metadata": {
        "id": "t4gxSSyeR9t1"
      },
      "execution_count": 46,
      "outputs": []
    },
    {
      "cell_type": "code",
      "source": [
        "pred('Cheking the model performance')"
      ],
      "metadata": {
        "colab": {
          "base_uri": "https://localhost:8080/",
          "height": 35
        },
        "id": "oxXES6tISUNj",
        "outputId": "d8c2cba6-7f8f-4323-c27e-89097a71045a"
      },
      "execution_count": 47,
      "outputs": [
        {
          "output_type": "execute_result",
          "data": {
            "text/plain": [
              "'English'"
            ],
            "application/vnd.google.colaboratory.intrinsic+json": {
              "type": "string"
            }
          },
          "metadata": {},
          "execution_count": 47
        }
      ]
    },
    {
      "cell_type": "code",
      "source": [
        "pred(\"ಮಾದರಿಯ ಕಾರ್ಯಕ್ಷಮತೆಯನ್ನು ಪರಿಶೀಲಿಸಲಾಗುತ್ತಿದೆ\")"
      ],
      "metadata": {
        "colab": {
          "base_uri": "https://localhost:8080/",
          "height": 35
        },
        "id": "tTjmFOfFTAYN",
        "outputId": "6a9bf9de-cf57-49c8-932f-fceda0e60496"
      },
      "execution_count": 51,
      "outputs": [
        {
          "output_type": "execute_result",
          "data": {
            "text/plain": [
              "'Kannada'"
            ],
            "application/vnd.google.colaboratory.intrinsic+json": {
              "type": "string"
            }
          },
          "metadata": {},
          "execution_count": 51
        }
      ]
    },
    {
      "cell_type": "code",
      "source": [
        "pred('मॉडल के प्रदर्शन की जाँच करना')"
      ],
      "metadata": {
        "colab": {
          "base_uri": "https://localhost:8080/",
          "height": 35
        },
        "id": "jBP6rwiOThNS",
        "outputId": "f1d30de6-30a5-4910-b88d-736aa5941b3e"
      },
      "execution_count": 52,
      "outputs": [
        {
          "output_type": "execute_result",
          "data": {
            "text/plain": [
              "'Hindi'"
            ],
            "application/vnd.google.colaboratory.intrinsic+json": {
              "type": "string"
            }
          },
          "metadata": {},
          "execution_count": 52
        }
      ]
    },
    {
      "cell_type": "code",
      "source": [
        "pred('மாதிரியின் செயல்திறனை சரிபார்க்கிறது')"
      ],
      "metadata": {
        "colab": {
          "base_uri": "https://localhost:8080/",
          "height": 35
        },
        "id": "45WmjUq_UMPu",
        "outputId": "b387e431-3c12-453c-9a7e-e417cd3b6074"
      },
      "execution_count": 53,
      "outputs": [
        {
          "output_type": "execute_result",
          "data": {
            "text/plain": [
              "'Tamil'"
            ],
            "application/vnd.google.colaboratory.intrinsic+json": {
              "type": "string"
            }
          },
          "metadata": {},
          "execution_count": 53
        }
      ]
    }
  ]
}