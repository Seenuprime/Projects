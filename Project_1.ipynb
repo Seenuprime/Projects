{
 "cells": [
  {
   "cell_type": "markdown",
   "id": "c8012d19-5858-4535-b3f1-89719c1083dd",
   "metadata": {},
   "source": [
    "Sentiment analysis - project 1"
   ]
  },
  {
   "cell_type": "code",
   "execution_count": 58,
   "id": "d92275c9-c922-4e02-b4c8-ab1914e010e7",
   "metadata": {},
   "outputs": [],
   "source": [
    "import pandas as pd\n",
    "import numpy as np"
   ]
  },
  {
   "cell_type": "code",
   "execution_count": 59,
   "id": "e5e2bf4e-854d-44d0-9ce2-aa9220b4020c",
   "metadata": {},
   "outputs": [],
   "source": [
    "train_data = pd.read_csv(\"Data/train.csv\")\n",
    "test_data = pd.read_csv(\"Data/test.csv\")\n",
    "dataframe = pd.concat([train_data, test_data], axis = 0)"
   ]
  },
  {
   "cell_type": "code",
   "execution_count": 60,
   "id": "ddfc4a2f-ac3f-40c0-920b-4fb71fb3e809",
   "metadata": {},
   "outputs": [
    {
     "data": {
      "text/plain": [
       "text         0\n",
       "sentiment    0\n",
       "dtype: int64"
      ]
     },
     "execution_count": 60,
     "metadata": {},
     "output_type": "execute_result"
    }
   ],
   "source": [
    "dataframe = dataframe.loc[:, [\"text\", \"sentiment\"]]\n",
    "dataframe.dropna(inplace = True)\n",
    "dataframe.isna().sum()"
   ]
  },
  {
   "cell_type": "markdown",
   "id": "074e882d-4e70-45df-becc-57d7da34ce0a",
   "metadata": {},
   "source": [
    "Categorical data into Numerical data"
   ]
  },
  {
   "cell_type": "code",
   "execution_count": 61,
   "id": "c94cdbe5-0a89-4fff-a1bf-d810deaa4870",
   "metadata": {},
   "outputs": [],
   "source": [
    "y_encoded = dataframe['sentiment'].apply(lambda x: 1 if x == 'positive' else 0 if x == 'neutral' else -1 if x == 'negative' else None)"
   ]
  },
  {
   "cell_type": "markdown",
   "id": "19cc24ac-3506-48c9-aeed-c67535572186",
   "metadata": {},
   "source": [
    "Creating BagOfWords"
   ]
  },
  {
   "cell_type": "code",
   "execution_count": 62,
   "id": "9df4dfec-897c-48a8-af0a-7b6cb1cab81d",
   "metadata": {},
   "outputs": [
    {
     "name": "stderr",
     "output_type": "stream",
     "text": [
      "[nltk_data] Downloading package stopwords to\n",
      "[nltk_data]     C:\\Users\\Seenu\\AppData\\Roaming\\nltk_data...\n",
      "[nltk_data]   Package stopwords is already up-to-date!\n"
     ]
    }
   ],
   "source": [
    "import re\n",
    "import nltk\n",
    "nltk.download('stopwords')\n",
    "from nltk.corpus import stopwords\n",
    "from nltk.stem.porter import PorterStemmer\n",
    "\n",
    "# Assuming 'text' is the column containing the text data\n",
    "corpus = []\n",
    "ps = PorterStemmer()\n",
    "all_stopwords = stopwords.words('english')\n",
    "all_stopwords.remove('not')  # Excluding 'not' from stopwords\n",
    "\n",
    "for text in dataframe[\"text\"]:\n",
    "    if isinstance(text, str):\n",
    "        review = re.sub(\"[^a-zA-Z]\", ' ', text)  # Replace non-alphabetic characters with spaces\n",
    "        review = review.lower()  # Convert to lowercase\n",
    "        review = review.split() \n",
    "        review = [ps.stem(word) for word in review if word not in set(all_stopwords)]  # Stemming and removing stopwords\n",
    "        review = ' '.join(review)  # Join back to form a string\n",
    "        corpus.append(review)\n",
    "    else:\n",
    "        corpus.append(\"\")  # Appending an empty string for non-string cases"
   ]
  },
  {
   "cell_type": "code",
   "execution_count": 63,
   "id": "f2308b2b-8a88-44a2-a9fc-d6b545138788",
   "metadata": {},
   "outputs": [
    {
     "name": "stdout",
     "output_type": "stream",
     "text": [
      "0                     I`d have responded, if I were going\n",
      "1           Sooo SAD I will miss you here in San Diego!!!\n",
      "2                               my boss is bullying me...\n",
      "3                          what interview! leave me alone\n",
      "4        Sons of ****, why couldn`t they put them on t...\n",
      "                              ...                        \n",
      "3529    its at 3 am, im very tired but i can`t sleep  ...\n",
      "3530    All alone in this old house again.  Thanks for...\n",
      "3531     I know what you mean. My little dog is sinkin...\n",
      "3532    _sutra what is your next youtube video gonna b...\n",
      "3533     http://twitpic.com/4woj2 - omgssh  ang cute n...\n",
      "Name: text, Length: 31014, dtype: object\n"
     ]
    }
   ],
   "source": [
    "print(dataframe[\"text\"])"
   ]
  },
  {
   "cell_type": "code",
   "execution_count": 64,
   "id": "edb54f22-1560-43ee-a1a8-6814cb4515d6",
   "metadata": {
    "scrolled": true
   },
   "outputs": [
    {
     "data": {
      "text/plain": [
       "array([[0, 0, 0, ..., 0, 0, 0],\n",
       "       [0, 0, 0, ..., 0, 0, 0],\n",
       "       [0, 0, 0, ..., 0, 0, 0],\n",
       "       ...,\n",
       "       [0, 0, 0, ..., 0, 0, 0],\n",
       "       [0, 0, 0, ..., 0, 0, 0],\n",
       "       [0, 0, 0, ..., 0, 0, 0]], dtype=int64)"
      ]
     },
     "execution_count": 64,
     "metadata": {},
     "output_type": "execute_result"
    }
   ],
   "source": [
    "from sklearn.feature_extraction.text import CountVectorizer\n",
    "cv = CountVectorizer(max_features = 1500)\n",
    "X = cv.fit_transform(corpus).toarray()\n",
    "y = np.array(y_encoded)\n",
    "X\n",
    "\n",
    "# from sklearn.feature_extraction.text import TfidfVectorizer\n",
    "# vectorizer = TfidfVectorizer()\n",
    "# vectorizer.fit(corpus)\n",
    "# X = vectorizer.transform(corpus)\n",
    "# y = np.array(y_encoded)\n",
    "# print(X)"
   ]
  },
  {
   "cell_type": "markdown",
   "id": "44088f02-37cb-4846-aa06-1ca6a19e5bca",
   "metadata": {},
   "source": [
    "Split the data"
   ]
  },
  {
   "cell_type": "code",
   "execution_count": 65,
   "id": "87f8377b-cadc-4617-a5d2-06518456dc6f",
   "metadata": {},
   "outputs": [],
   "source": [
    "from sklearn.model_selection import train_test_split\n",
    "X_train, X_test, y_train, y_test = train_test_split(X, y, test_size=0.2, random_state = 0)"
   ]
  },
  {
   "cell_type": "code",
   "execution_count": 66,
   "id": "4d56fdca-cb0a-4e56-a2e9-053c9ace2371",
   "metadata": {},
   "outputs": [
    {
     "data": {
      "text/plain": [
       "array([0, 0, 0, ..., 0, 0, 0], dtype=int64)"
      ]
     },
     "execution_count": 66,
     "metadata": {},
     "output_type": "execute_result"
    }
   ],
   "source": [
    "X_train[900]"
   ]
  },
  {
   "cell_type": "markdown",
   "id": "e74ffb47-8915-4364-bd0b-2cde54d512a6",
   "metadata": {},
   "source": [
    "Training randomforest model"
   ]
  },
  {
   "cell_type": "code",
   "execution_count": 67,
   "id": "8d9214be-c06c-4f90-a25e-2dd76d5e549b",
   "metadata": {},
   "outputs": [
    {
     "data": {
      "text/html": [
       "<style>#sk-container-id-5 {color: black;}#sk-container-id-5 pre{padding: 0;}#sk-container-id-5 div.sk-toggleable {background-color: white;}#sk-container-id-5 label.sk-toggleable__label {cursor: pointer;display: block;width: 100%;margin-bottom: 0;padding: 0.3em;box-sizing: border-box;text-align: center;}#sk-container-id-5 label.sk-toggleable__label-arrow:before {content: \"▸\";float: left;margin-right: 0.25em;color: #696969;}#sk-container-id-5 label.sk-toggleable__label-arrow:hover:before {color: black;}#sk-container-id-5 div.sk-estimator:hover label.sk-toggleable__label-arrow:before {color: black;}#sk-container-id-5 div.sk-toggleable__content {max-height: 0;max-width: 0;overflow: hidden;text-align: left;background-color: #f0f8ff;}#sk-container-id-5 div.sk-toggleable__content pre {margin: 0.2em;color: black;border-radius: 0.25em;background-color: #f0f8ff;}#sk-container-id-5 input.sk-toggleable__control:checked~div.sk-toggleable__content {max-height: 200px;max-width: 100%;overflow: auto;}#sk-container-id-5 input.sk-toggleable__control:checked~label.sk-toggleable__label-arrow:before {content: \"▾\";}#sk-container-id-5 div.sk-estimator input.sk-toggleable__control:checked~label.sk-toggleable__label {background-color: #d4ebff;}#sk-container-id-5 div.sk-label input.sk-toggleable__control:checked~label.sk-toggleable__label {background-color: #d4ebff;}#sk-container-id-5 input.sk-hidden--visually {border: 0;clip: rect(1px 1px 1px 1px);clip: rect(1px, 1px, 1px, 1px);height: 1px;margin: -1px;overflow: hidden;padding: 0;position: absolute;width: 1px;}#sk-container-id-5 div.sk-estimator {font-family: monospace;background-color: #f0f8ff;border: 1px dotted black;border-radius: 0.25em;box-sizing: border-box;margin-bottom: 0.5em;}#sk-container-id-5 div.sk-estimator:hover {background-color: #d4ebff;}#sk-container-id-5 div.sk-parallel-item::after {content: \"\";width: 100%;border-bottom: 1px solid gray;flex-grow: 1;}#sk-container-id-5 div.sk-label:hover label.sk-toggleable__label {background-color: #d4ebff;}#sk-container-id-5 div.sk-serial::before {content: \"\";position: absolute;border-left: 1px solid gray;box-sizing: border-box;top: 0;bottom: 0;left: 50%;z-index: 0;}#sk-container-id-5 div.sk-serial {display: flex;flex-direction: column;align-items: center;background-color: white;padding-right: 0.2em;padding-left: 0.2em;position: relative;}#sk-container-id-5 div.sk-item {position: relative;z-index: 1;}#sk-container-id-5 div.sk-parallel {display: flex;align-items: stretch;justify-content: center;background-color: white;position: relative;}#sk-container-id-5 div.sk-item::before, #sk-container-id-5 div.sk-parallel-item::before {content: \"\";position: absolute;border-left: 1px solid gray;box-sizing: border-box;top: 0;bottom: 0;left: 50%;z-index: -1;}#sk-container-id-5 div.sk-parallel-item {display: flex;flex-direction: column;z-index: 1;position: relative;background-color: white;}#sk-container-id-5 div.sk-parallel-item:first-child::after {align-self: flex-end;width: 50%;}#sk-container-id-5 div.sk-parallel-item:last-child::after {align-self: flex-start;width: 50%;}#sk-container-id-5 div.sk-parallel-item:only-child::after {width: 0;}#sk-container-id-5 div.sk-dashed-wrapped {border: 1px dashed gray;margin: 0 0.4em 0.5em 0.4em;box-sizing: border-box;padding-bottom: 0.4em;background-color: white;}#sk-container-id-5 div.sk-label label {font-family: monospace;font-weight: bold;display: inline-block;line-height: 1.2em;}#sk-container-id-5 div.sk-label-container {text-align: center;}#sk-container-id-5 div.sk-container {/* jupyter's `normalize.less` sets `[hidden] { display: none; }` but bootstrap.min.css set `[hidden] { display: none !important; }` so we also need the `!important` here to be able to override the default hidden behavior on the sphinx rendered scikit-learn.org. See: https://github.com/scikit-learn/scikit-learn/issues/21755 */display: inline-block !important;position: relative;}#sk-container-id-5 div.sk-text-repr-fallback {display: none;}</style><div id=\"sk-container-id-5\" class=\"sk-top-container\"><div class=\"sk-text-repr-fallback\"><pre>RandomForestClassifier(random_state=0)</pre><b>In a Jupyter environment, please rerun this cell to show the HTML representation or trust the notebook. <br />On GitHub, the HTML representation is unable to render, please try loading this page with nbviewer.org.</b></div><div class=\"sk-container\" hidden><div class=\"sk-item\"><div class=\"sk-estimator sk-toggleable\"><input class=\"sk-toggleable__control sk-hidden--visually\" id=\"sk-estimator-id-5\" type=\"checkbox\" checked><label for=\"sk-estimator-id-5\" class=\"sk-toggleable__label sk-toggleable__label-arrow\">RandomForestClassifier</label><div class=\"sk-toggleable__content\"><pre>RandomForestClassifier(random_state=0)</pre></div></div></div></div></div>"
      ],
      "text/plain": [
       "RandomForestClassifier(random_state=0)"
      ]
     },
     "execution_count": 67,
     "metadata": {},
     "output_type": "execute_result"
    }
   ],
   "source": [
    "from sklearn.ensemble import RandomForestClassifier\n",
    "model = RandomForestClassifier(n_estimators = 100, random_state=0)\n",
    "model.fit(X_train, y_train)"
   ]
  },
  {
   "cell_type": "markdown",
   "id": "2d8e33bf-08a9-4eab-9877-1188b40d6aa8",
   "metadata": {},
   "source": [
    "Predicting the test set"
   ]
  },
  {
   "cell_type": "code",
   "execution_count": 68,
   "id": "60f5d946-68ac-49c2-b7c1-3ce921b7768c",
   "metadata": {},
   "outputs": [
    {
     "name": "stdout",
     "output_type": "stream",
     "text": [
      "[[-1  1]\n",
      " [ 0  0]\n",
      " [-1 -1]\n",
      " ...\n",
      " [ 0  0]\n",
      " [ 1  1]\n",
      " [ 1  1]]\n"
     ]
    }
   ],
   "source": [
    "y_predict = model.predict(X_test)\n",
    "print(np.concatenate((y_test.reshape(len(y_test), 1), y_predict.reshape(len(y_predict), 1)), 1))"
   ]
  },
  {
   "cell_type": "markdown",
   "id": "54116fa0-b0bc-4373-9573-e226efcd655a",
   "metadata": {},
   "source": [
    "Model evaluation"
   ]
  },
  {
   "cell_type": "code",
   "execution_count": 69,
   "id": "9172dfd5-8756-4ef5-94f1-cd932adc3dab",
   "metadata": {},
   "outputs": [
    {
     "name": "stdout",
     "output_type": "stream",
     "text": [
      "0.698210543285507\n"
     ]
    }
   ],
   "source": [
    "from sklearn.metrics import accuracy_score\n",
    "print(accuracy_score(y_test, y_predict))"
   ]
  },
  {
   "cell_type": "code",
   "execution_count": null,
   "id": "b8be21d9-5204-40e3-993e-6d06abe6b825",
   "metadata": {},
   "outputs": [],
   "source": []
  }
 ],
 "metadata": {
  "kernelspec": {
   "display_name": "Python 3 (ipykernel)",
   "language": "python",
   "name": "python3"
  },
  "language_info": {
   "codemirror_mode": {
    "name": "ipython",
    "version": 3
   },
   "file_extension": ".py",
   "mimetype": "text/x-python",
   "name": "python",
   "nbconvert_exporter": "python",
   "pygments_lexer": "ipython3",
   "version": "3.10.10"
  }
 },
 "nbformat": 4,
 "nbformat_minor": 5
}
